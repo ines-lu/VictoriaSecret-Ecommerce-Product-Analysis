{
 "cells": [
  {
   "attachments": {},
   "cell_type": "markdown",
   "metadata": {},
   "source": [
    "<div style=\"font-variant: small-caps; \n",
    "      font-weight: normal; \n",
    "      font-size: 40px; \n",
    "      text-align: center; \n",
    "      padding: 15px; \n",
    "      margin: 10px;\">\n",
    "      <font color= #5b2c6f > VictoriaSecret E-commerce Product Analysis using Python Pandas </font><br>\n",
    "</div> \n",
    "\n",
    "<div style=\"font-variant: small-caps; \n",
    "      font-weight: normal; \n",
    "      font-size: 35px; \n",
    "      text-align: center; \n",
    "      padding: 15px; \n",
    "      margin: 10px;\">\n",
    "      -<br>\n",
    "</div> \n",
    "\n",
    "\n",
    "<div style=\"font-variant: small-caps; \n",
    "      font-weight: normal; \n",
    "      font-size: 20px; \n",
    "      text-align: center; \n",
    "      padding: 15px; \n",
    "      margin: 10px;\">\n",
    "      <font color= #483D8B> Ines Yunting LU </font><br><br>\n",
    "  </div>"
   ]
  },
  {
   "cell_type": "code",
   "execution_count": 1,
   "metadata": {},
   "outputs": [],
   "source": [
    "import pandas as pd\n",
    "import numpy as np\n",
    "import zipfile"
   ]
  },
  {
   "cell_type": "markdown",
   "metadata": {
    "heading_collapsed": true
   },
   "source": [
    "### import and unzip data files"
   ]
  },
  {
   "cell_type": "markdown",
   "metadata": {
    "hidden": true
   },
   "source": [
    "create a kaggle account, import data files from https://www.kaggle.com/PromptCloudHQ/innerwear-data-from-victorias-secret-and-others and store them in a `data` folder"
   ]
  },
  {
   "cell_type": "code",
   "execution_count": 33,
   "metadata": {
    "hidden": true
   },
   "outputs": [],
   "source": [
    "# # Uncomment & Execute this cell if your csv files in your data folder are zipped\n",
    "# import zipfile\n",
    "# with zipfile.ZipFile(\"data/ae_com.csv.zip\",\"r\") as zip_ref:\n",
    "#     zip_ref.extractall(\"data\")"
   ]
  },
  {
   "cell_type": "code",
   "execution_count": 4,
   "metadata": {
    "hidden": true
   },
   "outputs": [],
   "source": [
    "def unzip_file(file):\n",
    "    with zipfile.ZipFile(file,\"r\") as zip_ref:\n",
    "        zip_ref.extractall(\"data\")"
   ]
  },
  {
   "cell_type": "markdown",
   "metadata": {
    "heading_collapsed": true
   },
   "source": [
    "### I. Load data into pandas dataframe"
   ]
  },
  {
   "cell_type": "markdown",
   "metadata": {
    "hidden": true
   },
   "source": [
    "Use the **read_csv method** to load the Victoria's Secret data into pandas dataframe.\n",
    "\n",
    "**Note:** Have a look at the pandas doc to understand the read_csv syntax"
   ]
  },
  {
   "cell_type": "code",
   "execution_count": 5,
   "metadata": {
    "hidden": true
   },
   "outputs": [],
   "source": [
    "df = pd.read_csv('victoriassecret_com.csv')"
   ]
  },
  {
   "cell_type": "code",
   "execution_count": null,
   "metadata": {},
   "outputs": [
    {
     "data": {
      "text/plain": [
       "(453386, (453386, 14))"
      ]
     },
     "execution_count": 7,
     "metadata": {},
     "output_type": "execute_result"
    }
   ],
   "source": [
    "len(df), df.shape"
   ]
  },
  {
   "cell_type": "code",
   "execution_count": null,
   "metadata": {},
   "outputs": [
    {
     "data": {
      "text/plain": [
       "product_name         object\n",
       "mrp                  object\n",
       "price                object\n",
       "pdp_url              object\n",
       "brand_name           object\n",
       "product_category     object\n",
       "retailer             object\n",
       "description          object\n",
       "rating              float64\n",
       "review_count        float64\n",
       "style_attributes    float64\n",
       "total_sizes          object\n",
       "available_size       object\n",
       "color                object\n",
       "dtype: object"
      ]
     },
     "execution_count": 9,
     "metadata": {},
     "output_type": "execute_result"
    }
   ],
   "source": [
    "df.dtypes"
   ]
  },
  {
   "cell_type": "markdown",
   "metadata": {
    "hidden": true
   },
   "source": [
    "---\n",
    "Use the method iloc (see the pandas doc) on df. What do you have as output? "
   ]
  },
  {
   "cell_type": "code",
   "execution_count": null,
   "metadata": {
    "hidden": true
   },
   "outputs": [
    {
     "data": {
      "text/plain": [
       "product_name                       Very Sexy Strappy Lace Thong Panty\n",
       "mrp                                                           $14.50 \n",
       "price                                                         $14.50 \n",
       "pdp_url             https://www.victoriassecret.com/panties/shop-a...\n",
       "brand_name                                          Victoria's Secret\n",
       "product_category                             Strappy Lace Thong Panty\n",
       "retailer                                           Victoriassecret US\n",
       "description         Lots of cheek peek, pretty lace, a strappy bac...\n",
       "rating                                                            NaN\n",
       "review_count                                                      NaN\n",
       "style_attributes                                                  NaN\n",
       "total_sizes                               [\"XS\", \"S\", \"M\", \"L\", \"XL\"]\n",
       "available_size                                                      S\n",
       "color                                                     peach melba\n",
       "Name: 0, dtype: object"
      ]
     },
     "execution_count": 10,
     "metadata": {},
     "output_type": "execute_result"
    }
   ],
   "source": [
    "df.iloc[0]"
   ]
  },
  {
   "cell_type": "markdown",
   "metadata": {
    "hidden": true
   },
   "source": [
    "----\n",
    "Use the describe method on df. What kind of output do you get? "
   ]
  },
  {
   "cell_type": "code",
   "execution_count": null,
   "metadata": {
    "hidden": true
   },
   "outputs": [
    {
     "data": {
      "text/html": [
       "<div>\n",
       "<style scoped>\n",
       "    .dataframe tbody tr th:only-of-type {\n",
       "        vertical-align: middle;\n",
       "    }\n",
       "\n",
       "    .dataframe tbody tr th {\n",
       "        vertical-align: top;\n",
       "    }\n",
       "\n",
       "    .dataframe thead th {\n",
       "        text-align: right;\n",
       "    }\n",
       "</style>\n",
       "<table border=\"1\" class=\"dataframe\">\n",
       "  <thead>\n",
       "    <tr style=\"text-align: right;\">\n",
       "      <th></th>\n",
       "      <th>rating</th>\n",
       "      <th>review_count</th>\n",
       "      <th>style_attributes</th>\n",
       "    </tr>\n",
       "  </thead>\n",
       "  <tbody>\n",
       "    <tr>\n",
       "      <th>count</th>\n",
       "      <td>137734.000000</td>\n",
       "      <td>1.377340e+05</td>\n",
       "      <td>0.0</td>\n",
       "    </tr>\n",
       "    <tr>\n",
       "      <th>mean</th>\n",
       "      <td>4.165819</td>\n",
       "      <td>9.202884e+35</td>\n",
       "      <td>NaN</td>\n",
       "    </tr>\n",
       "    <tr>\n",
       "      <th>std</th>\n",
       "      <td>0.487524</td>\n",
       "      <td>1.162929e+37</td>\n",
       "      <td>NaN</td>\n",
       "    </tr>\n",
       "    <tr>\n",
       "      <th>min</th>\n",
       "      <td>0.000000</td>\n",
       "      <td>2.000000e+00</td>\n",
       "      <td>NaN</td>\n",
       "    </tr>\n",
       "    <tr>\n",
       "      <th>25%</th>\n",
       "      <td>4.000000</td>\n",
       "      <td>3.900000e+01</td>\n",
       "      <td>NaN</td>\n",
       "    </tr>\n",
       "    <tr>\n",
       "      <th>50%</th>\n",
       "      <td>4.300000</td>\n",
       "      <td>1.470000e+02</td>\n",
       "      <td>NaN</td>\n",
       "    </tr>\n",
       "    <tr>\n",
       "      <th>75%</th>\n",
       "      <td>4.500000</td>\n",
       "      <td>4.100000e+02</td>\n",
       "      <td>NaN</td>\n",
       "    </tr>\n",
       "    <tr>\n",
       "      <th>max</th>\n",
       "      <td>5.000000</td>\n",
       "      <td>1.560000e+38</td>\n",
       "      <td>NaN</td>\n",
       "    </tr>\n",
       "  </tbody>\n",
       "</table>\n",
       "</div>"
      ],
      "text/plain": [
       "              rating  review_count  style_attributes\n",
       "count  137734.000000  1.377340e+05               0.0\n",
       "mean        4.165819  9.202884e+35               NaN\n",
       "std         0.487524  1.162929e+37               NaN\n",
       "min         0.000000  2.000000e+00               NaN\n",
       "25%         4.000000  3.900000e+01               NaN\n",
       "50%         4.300000  1.470000e+02               NaN\n",
       "75%         4.500000  4.100000e+02               NaN\n",
       "max         5.000000  1.560000e+38               NaN"
      ]
     },
     "execution_count": 15,
     "metadata": {},
     "output_type": "execute_result"
    }
   ],
   "source": [
    "df.describe()"
   ]
  },
  {
   "cell_type": "code",
   "execution_count": null,
   "metadata": {},
   "outputs": [
    {
     "data": {
      "text/html": [
       "<div>\n",
       "<style scoped>\n",
       "    .dataframe tbody tr th:only-of-type {\n",
       "        vertical-align: middle;\n",
       "    }\n",
       "\n",
       "    .dataframe tbody tr th {\n",
       "        vertical-align: top;\n",
       "    }\n",
       "\n",
       "    .dataframe thead th {\n",
       "        text-align: right;\n",
       "    }\n",
       "</style>\n",
       "<table border=\"1\" class=\"dataframe\">\n",
       "  <thead>\n",
       "    <tr style=\"text-align: right;\">\n",
       "      <th></th>\n",
       "      <th>rating</th>\n",
       "      <th>review_count</th>\n",
       "      <th>style_attributes</th>\n",
       "    </tr>\n",
       "  </thead>\n",
       "  <tbody>\n",
       "    <tr>\n",
       "      <th>count</th>\n",
       "      <td>137734.000000</td>\n",
       "      <td>1.377340e+05</td>\n",
       "      <td>0.0</td>\n",
       "    </tr>\n",
       "    <tr>\n",
       "      <th>mean</th>\n",
       "      <td>4.165819</td>\n",
       "      <td>9.202884e+35</td>\n",
       "      <td>NaN</td>\n",
       "    </tr>\n",
       "    <tr>\n",
       "      <th>std</th>\n",
       "      <td>0.487524</td>\n",
       "      <td>1.162929e+37</td>\n",
       "      <td>NaN</td>\n",
       "    </tr>\n",
       "    <tr>\n",
       "      <th>min</th>\n",
       "      <td>0.000000</td>\n",
       "      <td>2.000000e+00</td>\n",
       "      <td>NaN</td>\n",
       "    </tr>\n",
       "    <tr>\n",
       "      <th>10%</th>\n",
       "      <td>3.600000</td>\n",
       "      <td>1.500000e+01</td>\n",
       "      <td>NaN</td>\n",
       "    </tr>\n",
       "    <tr>\n",
       "      <th>20%</th>\n",
       "      <td>3.900000</td>\n",
       "      <td>3.300000e+01</td>\n",
       "      <td>NaN</td>\n",
       "    </tr>\n",
       "    <tr>\n",
       "      <th>30%</th>\n",
       "      <td>4.000000</td>\n",
       "      <td>4.900000e+01</td>\n",
       "      <td>NaN</td>\n",
       "    </tr>\n",
       "    <tr>\n",
       "      <th>40%</th>\n",
       "      <td>4.200000</td>\n",
       "      <td>1.040000e+02</td>\n",
       "      <td>NaN</td>\n",
       "    </tr>\n",
       "    <tr>\n",
       "      <th>50%</th>\n",
       "      <td>4.300000</td>\n",
       "      <td>1.470000e+02</td>\n",
       "      <td>NaN</td>\n",
       "    </tr>\n",
       "    <tr>\n",
       "      <th>60%</th>\n",
       "      <td>4.400000</td>\n",
       "      <td>2.640000e+02</td>\n",
       "      <td>NaN</td>\n",
       "    </tr>\n",
       "    <tr>\n",
       "      <th>70%</th>\n",
       "      <td>4.400000</td>\n",
       "      <td>3.850000e+02</td>\n",
       "      <td>NaN</td>\n",
       "    </tr>\n",
       "    <tr>\n",
       "      <th>80%</th>\n",
       "      <td>4.500000</td>\n",
       "      <td>4.350000e+02</td>\n",
       "      <td>NaN</td>\n",
       "    </tr>\n",
       "    <tr>\n",
       "      <th>90%</th>\n",
       "      <td>4.600000</td>\n",
       "      <td>5.130000e+02</td>\n",
       "      <td>NaN</td>\n",
       "    </tr>\n",
       "    <tr>\n",
       "      <th>max</th>\n",
       "      <td>5.000000</td>\n",
       "      <td>1.560000e+38</td>\n",
       "      <td>NaN</td>\n",
       "    </tr>\n",
       "  </tbody>\n",
       "</table>\n",
       "</div>"
      ],
      "text/plain": [
       "              rating  review_count  style_attributes\n",
       "count  137734.000000  1.377340e+05               0.0\n",
       "mean        4.165819  9.202884e+35               NaN\n",
       "std         0.487524  1.162929e+37               NaN\n",
       "min         0.000000  2.000000e+00               NaN\n",
       "10%         3.600000  1.500000e+01               NaN\n",
       "20%         3.900000  3.300000e+01               NaN\n",
       "30%         4.000000  4.900000e+01               NaN\n",
       "40%         4.200000  1.040000e+02               NaN\n",
       "50%         4.300000  1.470000e+02               NaN\n",
       "60%         4.400000  2.640000e+02               NaN\n",
       "70%         4.400000  3.850000e+02               NaN\n",
       "80%         4.500000  4.350000e+02               NaN\n",
       "90%         4.600000  5.130000e+02               NaN\n",
       "max         5.000000  1.560000e+38               NaN"
      ]
     },
     "execution_count": 16,
     "metadata": {},
     "output_type": "execute_result"
    }
   ],
   "source": [
    "df.describe(percentiles=[.1*i for i in range(1,10)])   # percentiles -- parameter"
   ]
  },
  {
   "cell_type": "markdown",
   "metadata": {
    "hidden": true
   },
   "source": [
    "-----\n",
    "With Pandas, there are also some interesting methods that allow us to identify where you have null values (nan or empty).\n",
    "\n",
    "Apply isnull and sum methods on df. \n",
    "\n",
    "What do you get? "
   ]
  },
  {
   "cell_type": "code",
   "execution_count": null,
   "metadata": {
    "hidden": true
   },
   "outputs": [
    {
     "data": {
      "text/html": [
       "<div>\n",
       "<style scoped>\n",
       "    .dataframe tbody tr th:only-of-type {\n",
       "        vertical-align: middle;\n",
       "    }\n",
       "\n",
       "    .dataframe tbody tr th {\n",
       "        vertical-align: top;\n",
       "    }\n",
       "\n",
       "    .dataframe thead th {\n",
       "        text-align: right;\n",
       "    }\n",
       "</style>\n",
       "<table border=\"1\" class=\"dataframe\">\n",
       "  <thead>\n",
       "    <tr style=\"text-align: right;\">\n",
       "      <th></th>\n",
       "      <th>product_name</th>\n",
       "      <th>mrp</th>\n",
       "      <th>price</th>\n",
       "      <th>pdp_url</th>\n",
       "      <th>brand_name</th>\n",
       "      <th>product_category</th>\n",
       "      <th>retailer</th>\n",
       "      <th>description</th>\n",
       "      <th>rating</th>\n",
       "      <th>review_count</th>\n",
       "      <th>style_attributes</th>\n",
       "      <th>total_sizes</th>\n",
       "      <th>available_size</th>\n",
       "      <th>color</th>\n",
       "    </tr>\n",
       "  </thead>\n",
       "  <tbody>\n",
       "    <tr>\n",
       "      <th>0</th>\n",
       "      <td>False</td>\n",
       "      <td>False</td>\n",
       "      <td>False</td>\n",
       "      <td>False</td>\n",
       "      <td>False</td>\n",
       "      <td>False</td>\n",
       "      <td>False</td>\n",
       "      <td>False</td>\n",
       "      <td>True</td>\n",
       "      <td>True</td>\n",
       "      <td>True</td>\n",
       "      <td>False</td>\n",
       "      <td>False</td>\n",
       "      <td>False</td>\n",
       "    </tr>\n",
       "    <tr>\n",
       "      <th>1</th>\n",
       "      <td>False</td>\n",
       "      <td>False</td>\n",
       "      <td>False</td>\n",
       "      <td>False</td>\n",
       "      <td>False</td>\n",
       "      <td>False</td>\n",
       "      <td>False</td>\n",
       "      <td>False</td>\n",
       "      <td>True</td>\n",
       "      <td>True</td>\n",
       "      <td>True</td>\n",
       "      <td>False</td>\n",
       "      <td>False</td>\n",
       "      <td>False</td>\n",
       "    </tr>\n",
       "    <tr>\n",
       "      <th>2</th>\n",
       "      <td>False</td>\n",
       "      <td>False</td>\n",
       "      <td>False</td>\n",
       "      <td>False</td>\n",
       "      <td>False</td>\n",
       "      <td>False</td>\n",
       "      <td>False</td>\n",
       "      <td>False</td>\n",
       "      <td>True</td>\n",
       "      <td>True</td>\n",
       "      <td>True</td>\n",
       "      <td>False</td>\n",
       "      <td>False</td>\n",
       "      <td>False</td>\n",
       "    </tr>\n",
       "    <tr>\n",
       "      <th>3</th>\n",
       "      <td>False</td>\n",
       "      <td>False</td>\n",
       "      <td>False</td>\n",
       "      <td>False</td>\n",
       "      <td>False</td>\n",
       "      <td>False</td>\n",
       "      <td>False</td>\n",
       "      <td>False</td>\n",
       "      <td>True</td>\n",
       "      <td>True</td>\n",
       "      <td>True</td>\n",
       "      <td>False</td>\n",
       "      <td>False</td>\n",
       "      <td>False</td>\n",
       "    </tr>\n",
       "    <tr>\n",
       "      <th>4</th>\n",
       "      <td>False</td>\n",
       "      <td>False</td>\n",
       "      <td>False</td>\n",
       "      <td>False</td>\n",
       "      <td>False</td>\n",
       "      <td>False</td>\n",
       "      <td>False</td>\n",
       "      <td>False</td>\n",
       "      <td>True</td>\n",
       "      <td>True</td>\n",
       "      <td>True</td>\n",
       "      <td>False</td>\n",
       "      <td>False</td>\n",
       "      <td>False</td>\n",
       "    </tr>\n",
       "    <tr>\n",
       "      <th>...</th>\n",
       "      <td>...</td>\n",
       "      <td>...</td>\n",
       "      <td>...</td>\n",
       "      <td>...</td>\n",
       "      <td>...</td>\n",
       "      <td>...</td>\n",
       "      <td>...</td>\n",
       "      <td>...</td>\n",
       "      <td>...</td>\n",
       "      <td>...</td>\n",
       "      <td>...</td>\n",
       "      <td>...</td>\n",
       "      <td>...</td>\n",
       "      <td>...</td>\n",
       "    </tr>\n",
       "    <tr>\n",
       "      <th>453381</th>\n",
       "      <td>False</td>\n",
       "      <td>False</td>\n",
       "      <td>False</td>\n",
       "      <td>False</td>\n",
       "      <td>False</td>\n",
       "      <td>False</td>\n",
       "      <td>False</td>\n",
       "      <td>False</td>\n",
       "      <td>True</td>\n",
       "      <td>True</td>\n",
       "      <td>True</td>\n",
       "      <td>False</td>\n",
       "      <td>False</td>\n",
       "      <td>False</td>\n",
       "    </tr>\n",
       "    <tr>\n",
       "      <th>453382</th>\n",
       "      <td>False</td>\n",
       "      <td>False</td>\n",
       "      <td>False</td>\n",
       "      <td>False</td>\n",
       "      <td>False</td>\n",
       "      <td>False</td>\n",
       "      <td>False</td>\n",
       "      <td>False</td>\n",
       "      <td>True</td>\n",
       "      <td>True</td>\n",
       "      <td>True</td>\n",
       "      <td>False</td>\n",
       "      <td>False</td>\n",
       "      <td>False</td>\n",
       "    </tr>\n",
       "    <tr>\n",
       "      <th>453383</th>\n",
       "      <td>False</td>\n",
       "      <td>False</td>\n",
       "      <td>False</td>\n",
       "      <td>False</td>\n",
       "      <td>False</td>\n",
       "      <td>False</td>\n",
       "      <td>False</td>\n",
       "      <td>False</td>\n",
       "      <td>True</td>\n",
       "      <td>True</td>\n",
       "      <td>True</td>\n",
       "      <td>False</td>\n",
       "      <td>False</td>\n",
       "      <td>False</td>\n",
       "    </tr>\n",
       "    <tr>\n",
       "      <th>453384</th>\n",
       "      <td>False</td>\n",
       "      <td>False</td>\n",
       "      <td>False</td>\n",
       "      <td>False</td>\n",
       "      <td>False</td>\n",
       "      <td>False</td>\n",
       "      <td>False</td>\n",
       "      <td>False</td>\n",
       "      <td>True</td>\n",
       "      <td>True</td>\n",
       "      <td>True</td>\n",
       "      <td>False</td>\n",
       "      <td>False</td>\n",
       "      <td>False</td>\n",
       "    </tr>\n",
       "    <tr>\n",
       "      <th>453385</th>\n",
       "      <td>False</td>\n",
       "      <td>False</td>\n",
       "      <td>False</td>\n",
       "      <td>False</td>\n",
       "      <td>False</td>\n",
       "      <td>False</td>\n",
       "      <td>False</td>\n",
       "      <td>False</td>\n",
       "      <td>True</td>\n",
       "      <td>True</td>\n",
       "      <td>True</td>\n",
       "      <td>False</td>\n",
       "      <td>False</td>\n",
       "      <td>False</td>\n",
       "    </tr>\n",
       "  </tbody>\n",
       "</table>\n",
       "<p>453386 rows × 14 columns</p>\n",
       "</div>"
      ],
      "text/plain": [
       "        product_name    mrp  price  pdp_url  brand_name  product_category  \\\n",
       "0              False  False  False    False       False             False   \n",
       "1              False  False  False    False       False             False   \n",
       "2              False  False  False    False       False             False   \n",
       "3              False  False  False    False       False             False   \n",
       "4              False  False  False    False       False             False   \n",
       "...              ...    ...    ...      ...         ...               ...   \n",
       "453381         False  False  False    False       False             False   \n",
       "453382         False  False  False    False       False             False   \n",
       "453383         False  False  False    False       False             False   \n",
       "453384         False  False  False    False       False             False   \n",
       "453385         False  False  False    False       False             False   \n",
       "\n",
       "        retailer  description  rating  review_count  style_attributes  \\\n",
       "0          False        False    True          True              True   \n",
       "1          False        False    True          True              True   \n",
       "2          False        False    True          True              True   \n",
       "3          False        False    True          True              True   \n",
       "4          False        False    True          True              True   \n",
       "...          ...          ...     ...           ...               ...   \n",
       "453381     False        False    True          True              True   \n",
       "453382     False        False    True          True              True   \n",
       "453383     False        False    True          True              True   \n",
       "453384     False        False    True          True              True   \n",
       "453385     False        False    True          True              True   \n",
       "\n",
       "        total_sizes  available_size  color  \n",
       "0             False           False  False  \n",
       "1             False           False  False  \n",
       "2             False           False  False  \n",
       "3             False           False  False  \n",
       "4             False           False  False  \n",
       "...             ...             ...    ...  \n",
       "453381        False           False  False  \n",
       "453382        False           False  False  \n",
       "453383        False           False  False  \n",
       "453384        False           False  False  \n",
       "453385        False           False  False  \n",
       "\n",
       "[453386 rows x 14 columns]"
      ]
     },
     "execution_count": 17,
     "metadata": {},
     "output_type": "execute_result"
    }
   ],
   "source": [
    "df.isnull()    # true : missing; "
   ]
  },
  {
   "cell_type": "code",
   "execution_count": null,
   "metadata": {},
   "outputs": [
    {
     "data": {
      "text/plain": [
       "product_name             0\n",
       "mrp                      0\n",
       "price                    0\n",
       "pdp_url                  0\n",
       "brand_name               0\n",
       "product_category         0\n",
       "retailer                 0\n",
       "description              0\n",
       "rating              315652\n",
       "review_count        315652\n",
       "style_attributes    453386\n",
       "total_sizes              0\n",
       "available_size           0\n",
       "color                    0\n",
       "dtype: int64"
      ]
     },
     "execution_count": 18,
     "metadata": {},
     "output_type": "execute_result"
    }
   ],
   "source": [
    "df.isnull().sum()   # quick way to check whether the data is missing !"
   ]
  },
  {
   "cell_type": "markdown",
   "metadata": {
    "hidden": true
   },
   "source": [
    "---\n",
    "Apply the `value_counts()` method to df considering the 'price' and 'product_name' columns"
   ]
  },
  {
   "cell_type": "code",
   "execution_count": null,
   "metadata": {
    "hidden": true
   },
   "outputs": [
    {
     "data": {
      "text/plain": [
       "price  \n",
       "$10.50     45832\n",
       "$36.50     33365\n",
       "$34.50     24636\n",
       "$34.95     24148\n",
       "$19.99     22784\n",
       "           ...  \n",
       "$16.95        24\n",
       "$64.95        12\n",
       "$59.95        12\n",
       "$32.99        12\n",
       "$9.95         11\n",
       "Length: 96, dtype: int64"
      ]
     },
     "execution_count": 19,
     "metadata": {},
     "output_type": "execute_result"
    }
   ],
   "source": [
    "df[['price']].value_counts()         # most popular prices"
   ]
  },
  {
   "cell_type": "code",
   "execution_count": null,
   "metadata": {},
   "outputs": [
    {
     "data": {
      "text/plain": [
       "product_name                                   \n",
       "Body by Victoria Perfect Coverage Bra              17922\n",
       "Victoria Sport Incredible by Victoria Sport Bra    12274\n",
       "Dream Angels Push-Up Bra                           11878\n",
       "Very Sexy Push-Up Bra                              10985\n",
       "Body by Victoria Demi Bra                          10881\n",
       "                                                   ...  \n",
       "Very Sexy Mesh & Lace Cheeky Panty                     5\n",
       "Very Sexy Embroidered Triangle Bra                     4\n",
       "PINK Fresh & Clean Gym Kit                             3\n",
       "PINK Coconut Waters Travel Kit                         3\n",
       "Very Sexy Heart Lace Garter Belt                       2\n",
       "Length: 617, dtype: int64"
      ]
     },
     "execution_count": 20,
     "metadata": {},
     "output_type": "execute_result"
    }
   ],
   "source": [
    "df[['product_name']].value_counts()         # most popular products"
   ]
  },
  {
   "cell_type": "code",
   "execution_count": null,
   "metadata": {},
   "outputs": [
    {
     "data": {
      "text/plain": [
       "price    mrp    \n",
       "$10.50   $10.50     45832\n",
       "$36.50   $36.50     33365\n",
       "$34.50   $34.50     24636\n",
       "$34.95   $34.95     24148\n",
       "$54.50   $54.50     18742\n",
       "                    ...  \n",
       "$68.00   $98.00         6\n",
       "$7.99    $24.50         5\n",
       "$34.99   $78.00         4\n",
       "$9.99    $48.00         3\n",
       "$19.99   $58.00         2\n",
       "Length: 209, dtype: int64"
      ]
     },
     "execution_count": 21,
     "metadata": {},
     "output_type": "execute_result"
    }
   ],
   "source": [
    "df[['price','mrp']].value_counts()   # mrp: market retail price"
   ]
  },
  {
   "cell_type": "markdown",
   "metadata": {
    "heading_collapsed": true
   },
   "source": [
    "### II. Preprocess data"
   ]
  },
  {
   "cell_type": "markdown",
   "metadata": {
    "hidden": true
   },
   "source": [
    "We are going to preprocess the dataset using the Pandas methods."
   ]
  },
  {
   "cell_type": "markdown",
   "metadata": {
    "heading_collapsed": true,
    "hidden": true
   },
   "source": [
    "#### Step 1:\n",
    "\n",
    "Convert `price` and `mrp` columns to numerics"
   ]
  },
  {
   "cell_type": "markdown",
   "metadata": {
    "hidden": true
   },
   "source": [
    "First check all the values of 'mrp' and 'price' columns using value_counts().\n",
    "And save them into new variables. "
   ]
  },
  {
   "cell_type": "code",
   "execution_count": null,
   "metadata": {},
   "outputs": [
    {
     "data": {
      "text/plain": [
       "$    452880\n",
       "R       350\n",
       "₡       156\n",
       "Name: price, dtype: int64"
      ]
     },
     "execution_count": 26,
     "metadata": {},
     "output_type": "execute_result"
    }
   ],
   "source": [
    "# step1 -> check if all the value begins with $\n",
    "df['price'].apply(lambda x:x[0]).value_counts()          "
   ]
  },
  {
   "cell_type": "code",
   "execution_count": null,
   "metadata": {},
   "outputs": [
    {
     "data": {
      "text/html": [
       "<div>\n",
       "<style scoped>\n",
       "    .dataframe tbody tr th:only-of-type {\n",
       "        vertical-align: middle;\n",
       "    }\n",
       "\n",
       "    .dataframe tbody tr th {\n",
       "        vertical-align: top;\n",
       "    }\n",
       "\n",
       "    .dataframe thead th {\n",
       "        text-align: right;\n",
       "    }\n",
       "</style>\n",
       "<table border=\"1\" class=\"dataframe\">\n",
       "  <thead>\n",
       "    <tr style=\"text-align: right;\">\n",
       "      <th></th>\n",
       "      <th>product_name</th>\n",
       "      <th>mrp</th>\n",
       "      <th>price</th>\n",
       "      <th>pdp_url</th>\n",
       "      <th>brand_name</th>\n",
       "      <th>product_category</th>\n",
       "      <th>retailer</th>\n",
       "      <th>description</th>\n",
       "      <th>rating</th>\n",
       "      <th>review_count</th>\n",
       "      <th>style_attributes</th>\n",
       "      <th>total_sizes</th>\n",
       "      <th>available_size</th>\n",
       "      <th>color</th>\n",
       "    </tr>\n",
       "  </thead>\n",
       "  <tbody>\n",
       "    <tr>\n",
       "      <th>222596</th>\n",
       "      <td>Dream Angels Demi Bra</td>\n",
       "      <td>Rp721.448</td>\n",
       "      <td>Rp412.118</td>\n",
       "      <td>https://www.victoriassecret.com/bras/shop-all-...</td>\n",
       "      <td>Victoria's Secret</td>\n",
       "      <td>Demi Bra</td>\n",
       "      <td>Victoriassecret US</td>\n",
       "      <td>This dreamy demi is even more heavenly, with s...</td>\n",
       "      <td>NaN</td>\n",
       "      <td>NaN</td>\n",
       "      <td>NaN</td>\n",
       "      <td>[\"32A\", \"32B\", \"32C\", \"32D\", \"32DD\", \"32DDD\", ...</td>\n",
       "      <td>34A</td>\n",
       "      <td>white</td>\n",
       "    </tr>\n",
       "    <tr>\n",
       "      <th>222597</th>\n",
       "      <td>Dream Angels Demi Bra</td>\n",
       "      <td>Rp721.448</td>\n",
       "      <td>Rp412.118</td>\n",
       "      <td>https://www.victoriassecret.com/bras/shop-all-...</td>\n",
       "      <td>Victoria's Secret</td>\n",
       "      <td>Demi Bra</td>\n",
       "      <td>Victoriassecret US</td>\n",
       "      <td>This dreamy demi is even more heavenly, with s...</td>\n",
       "      <td>NaN</td>\n",
       "      <td>NaN</td>\n",
       "      <td>NaN</td>\n",
       "      <td>[\"32A\", \"32B\", \"32C\", \"32D\", \"32DD\", \"32DDD\", ...</td>\n",
       "      <td>34A</td>\n",
       "      <td>nude</td>\n",
       "    </tr>\n",
       "    <tr>\n",
       "      <th>222598</th>\n",
       "      <td>Dream Angels Demi Bra</td>\n",
       "      <td>Rp721.448</td>\n",
       "      <td>Rp412.118</td>\n",
       "      <td>https://www.victoriassecret.com/bras/shop-all-...</td>\n",
       "      <td>Victoria's Secret</td>\n",
       "      <td>Demi Bra</td>\n",
       "      <td>Victoriassecret US</td>\n",
       "      <td>This dreamy demi is even more heavenly, with s...</td>\n",
       "      <td>NaN</td>\n",
       "      <td>NaN</td>\n",
       "      <td>NaN</td>\n",
       "      <td>[\"32A\", \"32B\", \"32C\", \"32D\", \"32DD\", \"32DDD\", ...</td>\n",
       "      <td>36C</td>\n",
       "      <td>white</td>\n",
       "    </tr>\n",
       "  </tbody>\n",
       "</table>\n",
       "</div>"
      ],
      "text/plain": [
       "                 product_name        mrp      price  \\\n",
       "222596  Dream Angels Demi Bra  Rp721.448  Rp412.118   \n",
       "222597  Dream Angels Demi Bra  Rp721.448  Rp412.118   \n",
       "222598  Dream Angels Demi Bra  Rp721.448  Rp412.118   \n",
       "\n",
       "                                                  pdp_url         brand_name  \\\n",
       "222596  https://www.victoriassecret.com/bras/shop-all-...  Victoria's Secret   \n",
       "222597  https://www.victoriassecret.com/bras/shop-all-...  Victoria's Secret   \n",
       "222598  https://www.victoriassecret.com/bras/shop-all-...  Victoria's Secret   \n",
       "\n",
       "       product_category            retailer  \\\n",
       "222596         Demi Bra  Victoriassecret US   \n",
       "222597         Demi Bra  Victoriassecret US   \n",
       "222598         Demi Bra  Victoriassecret US   \n",
       "\n",
       "                                              description  rating  \\\n",
       "222596  This dreamy demi is even more heavenly, with s...     NaN   \n",
       "222597  This dreamy demi is even more heavenly, with s...     NaN   \n",
       "222598  This dreamy demi is even more heavenly, with s...     NaN   \n",
       "\n",
       "        review_count  style_attributes  \\\n",
       "222596           NaN               NaN   \n",
       "222597           NaN               NaN   \n",
       "222598           NaN               NaN   \n",
       "\n",
       "                                              total_sizes available_size  \\\n",
       "222596  [\"32A\", \"32B\", \"32C\", \"32D\", \"32DD\", \"32DDD\", ...            34A   \n",
       "222597  [\"32A\", \"32B\", \"32C\", \"32D\", \"32DD\", \"32DDD\", ...            34A   \n",
       "222598  [\"32A\", \"32B\", \"32C\", \"32D\", \"32DD\", \"32DDD\", ...            36C   \n",
       "\n",
       "        color  \n",
       "222596  white  \n",
       "222597   nude  \n",
       "222598  white  "
      ]
     },
     "execution_count": 33,
     "metadata": {},
     "output_type": "execute_result"
    }
   ],
   "source": [
    "# step2 -> check what is the value and details eg. where use them\n",
    "df[ df['price'].str.contains('R')].head(3)"
   ]
  },
  {
   "cell_type": "code",
   "execution_count": null,
   "metadata": {},
   "outputs": [
    {
     "data": {
      "text/html": [
       "<div>\n",
       "<style scoped>\n",
       "    .dataframe tbody tr th:only-of-type {\n",
       "        vertical-align: middle;\n",
       "    }\n",
       "\n",
       "    .dataframe tbody tr th {\n",
       "        vertical-align: top;\n",
       "    }\n",
       "\n",
       "    .dataframe thead th {\n",
       "        text-align: right;\n",
       "    }\n",
       "</style>\n",
       "<table border=\"1\" class=\"dataframe\">\n",
       "  <thead>\n",
       "    <tr style=\"text-align: right;\">\n",
       "      <th></th>\n",
       "      <th>product_name</th>\n",
       "      <th>mrp</th>\n",
       "      <th>price</th>\n",
       "      <th>pdp_url</th>\n",
       "      <th>brand_name</th>\n",
       "      <th>product_category</th>\n",
       "      <th>retailer</th>\n",
       "      <th>description</th>\n",
       "      <th>rating</th>\n",
       "      <th>review_count</th>\n",
       "      <th>style_attributes</th>\n",
       "      <th>total_sizes</th>\n",
       "      <th>available_size</th>\n",
       "      <th>color</th>\n",
       "    </tr>\n",
       "  </thead>\n",
       "  <tbody>\n",
       "    <tr>\n",
       "      <th>100557</th>\n",
       "      <td>Body by Victoria Wireless Bra</td>\n",
       "      <td>₡24.769</td>\n",
       "      <td>₡24.769</td>\n",
       "      <td>https://www.victoriassecret.com/bras/shop-all-...</td>\n",
       "      <td>Victoria's Secret</td>\n",
       "      <td>Wireless Bra</td>\n",
       "      <td>Victoriassecret US</td>\n",
       "      <td>Supersoft comfort without the wires, in a plun...</td>\n",
       "      <td>NaN</td>\n",
       "      <td>NaN</td>\n",
       "      <td>NaN</td>\n",
       "      <td>[\"32A\", \"32B\", \"32C\", \"32D\", \"32DD\", \"32DDD\", ...</td>\n",
       "      <td>34A</td>\n",
       "      <td>Kir</td>\n",
       "    </tr>\n",
       "    <tr>\n",
       "      <th>100558</th>\n",
       "      <td>Body by Victoria Wireless Bra</td>\n",
       "      <td>₡24.769</td>\n",
       "      <td>₡24.769</td>\n",
       "      <td>https://www.victoriassecret.com/bras/shop-all-...</td>\n",
       "      <td>Victoria's Secret</td>\n",
       "      <td>Wireless Bra</td>\n",
       "      <td>Victoriassecret US</td>\n",
       "      <td>Supersoft comfort without the wires, in a plun...</td>\n",
       "      <td>NaN</td>\n",
       "      <td>NaN</td>\n",
       "      <td>NaN</td>\n",
       "      <td>[\"32A\", \"32B\", \"32C\", \"32D\", \"32DD\", \"32DDD\", ...</td>\n",
       "      <td>36C</td>\n",
       "      <td>Kir</td>\n",
       "    </tr>\n",
       "    <tr>\n",
       "      <th>100559</th>\n",
       "      <td>Body by Victoria Wireless Bra</td>\n",
       "      <td>₡24.769</td>\n",
       "      <td>₡24.769</td>\n",
       "      <td>https://www.victoriassecret.com/bras/shop-all-...</td>\n",
       "      <td>Victoria's Secret</td>\n",
       "      <td>Wireless Bra</td>\n",
       "      <td>Victoriassecret US</td>\n",
       "      <td>Supersoft comfort without the wires, in a plun...</td>\n",
       "      <td>NaN</td>\n",
       "      <td>NaN</td>\n",
       "      <td>NaN</td>\n",
       "      <td>[\"32A\", \"32B\", \"32C\", \"32D\", \"32DD\", \"32DDD\", ...</td>\n",
       "      <td>36D</td>\n",
       "      <td>Kir</td>\n",
       "    </tr>\n",
       "  </tbody>\n",
       "</table>\n",
       "</div>"
      ],
      "text/plain": [
       "                         product_name      mrp    price  \\\n",
       "100557  Body by Victoria Wireless Bra  ₡24.769  ₡24.769   \n",
       "100558  Body by Victoria Wireless Bra  ₡24.769  ₡24.769   \n",
       "100559  Body by Victoria Wireless Bra  ₡24.769  ₡24.769   \n",
       "\n",
       "                                                  pdp_url         brand_name  \\\n",
       "100557  https://www.victoriassecret.com/bras/shop-all-...  Victoria's Secret   \n",
       "100558  https://www.victoriassecret.com/bras/shop-all-...  Victoria's Secret   \n",
       "100559  https://www.victoriassecret.com/bras/shop-all-...  Victoria's Secret   \n",
       "\n",
       "       product_category            retailer  \\\n",
       "100557     Wireless Bra  Victoriassecret US   \n",
       "100558     Wireless Bra  Victoriassecret US   \n",
       "100559     Wireless Bra  Victoriassecret US   \n",
       "\n",
       "                                              description  rating  \\\n",
       "100557  Supersoft comfort without the wires, in a plun...     NaN   \n",
       "100558  Supersoft comfort without the wires, in a plun...     NaN   \n",
       "100559  Supersoft comfort without the wires, in a plun...     NaN   \n",
       "\n",
       "        review_count  style_attributes  \\\n",
       "100557           NaN               NaN   \n",
       "100558           NaN               NaN   \n",
       "100559           NaN               NaN   \n",
       "\n",
       "                                              total_sizes available_size color  \n",
       "100557  [\"32A\", \"32B\", \"32C\", \"32D\", \"32DD\", \"32DDD\", ...            34A   Kir  \n",
       "100558  [\"32A\", \"32B\", \"32C\", \"32D\", \"32DD\", \"32DDD\", ...            36C   Kir  \n",
       "100559  [\"32A\", \"32B\", \"32C\", \"32D\", \"32DD\", \"32DDD\", ...            36D   Kir  "
      ]
     },
     "execution_count": 32,
     "metadata": {},
     "output_type": "execute_result"
    }
   ],
   "source": [
    "df[ df['price'].str.contains('₡')].head(3)"
   ]
  },
  {
   "cell_type": "code",
   "execution_count": null,
   "metadata": {},
   "outputs": [
    {
     "data": {
      "text/plain": [
       "0         14.5\n",
       "1         14.5\n",
       "2         14.5\n",
       "3         14.5\n",
       "4         14.5\n",
       "          ... \n",
       "453381    48.0\n",
       "453382    48.0\n",
       "453383    48.0\n",
       "453384    48.0\n",
       "453385    48.0\n",
       "Name: price, Length: 453386, dtype: object"
      ]
     },
     "execution_count": 34,
     "metadata": {},
     "output_type": "execute_result"
    }
   ],
   "source": [
    "# step3 -> convert into numerircs\n",
    "def conv_dollars(x):\n",
    "    if x[0] =='$':\n",
    "        return float(x[1:])\n",
    "    else:\n",
    "        return x\n",
    "\n",
    "df['price'].apply(conv_dollars)"
   ]
  },
  {
   "cell_type": "code",
   "execution_count": null,
   "metadata": {},
   "outputs": [
    {
     "data": {
      "text/html": [
       "<div>\n",
       "<style scoped>\n",
       "    .dataframe tbody tr th:only-of-type {\n",
       "        vertical-align: middle;\n",
       "    }\n",
       "\n",
       "    .dataframe tbody tr th {\n",
       "        vertical-align: top;\n",
       "    }\n",
       "\n",
       "    .dataframe thead th {\n",
       "        text-align: right;\n",
       "    }\n",
       "</style>\n",
       "<table border=\"1\" class=\"dataframe\">\n",
       "  <thead>\n",
       "    <tr style=\"text-align: right;\">\n",
       "      <th></th>\n",
       "      <th>product_name</th>\n",
       "      <th>mrp</th>\n",
       "      <th>price</th>\n",
       "      <th>pdp_url</th>\n",
       "      <th>brand_name</th>\n",
       "      <th>product_category</th>\n",
       "      <th>retailer</th>\n",
       "      <th>description</th>\n",
       "      <th>rating</th>\n",
       "      <th>review_count</th>\n",
       "      <th>style_attributes</th>\n",
       "      <th>total_sizes</th>\n",
       "      <th>available_size</th>\n",
       "      <th>color</th>\n",
       "    </tr>\n",
       "  </thead>\n",
       "  <tbody>\n",
       "    <tr>\n",
       "      <th>0</th>\n",
       "      <td>Very Sexy Strappy Lace Thong Panty</td>\n",
       "      <td>$14.50</td>\n",
       "      <td>$14.50</td>\n",
       "      <td>https://www.victoriassecret.com/panties/shop-a...</td>\n",
       "      <td>Victoria's Secret</td>\n",
       "      <td>Strappy Lace Thong Panty</td>\n",
       "      <td>Victoriassecret US</td>\n",
       "      <td>Lots of cheek peek, pretty lace, a strappy bac...</td>\n",
       "      <td>NaN</td>\n",
       "      <td>NaN</td>\n",
       "      <td>NaN</td>\n",
       "      <td>[\"XS\", \"S\", \"M\", \"L\", \"XL\"]</td>\n",
       "      <td>S</td>\n",
       "      <td>peach melba</td>\n",
       "    </tr>\n",
       "    <tr>\n",
       "      <th>1</th>\n",
       "      <td>Very Sexy Strappy Lace Thong Panty</td>\n",
       "      <td>$14.50</td>\n",
       "      <td>$14.50</td>\n",
       "      <td>https://www.victoriassecret.com/panties/shop-a...</td>\n",
       "      <td>Victoria's Secret</td>\n",
       "      <td>Strappy Lace Thong Panty</td>\n",
       "      <td>Victoriassecret US</td>\n",
       "      <td>Lots of cheek peek, pretty lace, a strappy bac...</td>\n",
       "      <td>NaN</td>\n",
       "      <td>NaN</td>\n",
       "      <td>NaN</td>\n",
       "      <td>[\"XS\", \"S\", \"M\", \"L\", \"XL\"]</td>\n",
       "      <td>S</td>\n",
       "      <td>black</td>\n",
       "    </tr>\n",
       "    <tr>\n",
       "      <th>2</th>\n",
       "      <td>Very Sexy Strappy Lace Thong Panty</td>\n",
       "      <td>$14.50</td>\n",
       "      <td>$14.50</td>\n",
       "      <td>https://www.victoriassecret.com/panties/shop-a...</td>\n",
       "      <td>Victoria's Secret</td>\n",
       "      <td>Strappy Lace Thong Panty</td>\n",
       "      <td>Victoriassecret US</td>\n",
       "      <td>Lots of cheek peek, pretty lace, a strappy bac...</td>\n",
       "      <td>NaN</td>\n",
       "      <td>NaN</td>\n",
       "      <td>NaN</td>\n",
       "      <td>[\"XS\", \"S\", \"M\", \"L\", \"XL\"]</td>\n",
       "      <td>S</td>\n",
       "      <td>plum dust</td>\n",
       "    </tr>\n",
       "  </tbody>\n",
       "</table>\n",
       "</div>"
      ],
      "text/plain": [
       "                         product_name      mrp    price  \\\n",
       "0  Very Sexy Strappy Lace Thong Panty  $14.50   $14.50    \n",
       "1  Very Sexy Strappy Lace Thong Panty  $14.50   $14.50    \n",
       "2  Very Sexy Strappy Lace Thong Panty  $14.50   $14.50    \n",
       "\n",
       "                                             pdp_url         brand_name  \\\n",
       "0  https://www.victoriassecret.com/panties/shop-a...  Victoria's Secret   \n",
       "1  https://www.victoriassecret.com/panties/shop-a...  Victoria's Secret   \n",
       "2  https://www.victoriassecret.com/panties/shop-a...  Victoria's Secret   \n",
       "\n",
       "           product_category            retailer  \\\n",
       "0  Strappy Lace Thong Panty  Victoriassecret US   \n",
       "1  Strappy Lace Thong Panty  Victoriassecret US   \n",
       "2  Strappy Lace Thong Panty  Victoriassecret US   \n",
       "\n",
       "                                         description  rating  review_count  \\\n",
       "0  Lots of cheek peek, pretty lace, a strappy bac...     NaN           NaN   \n",
       "1  Lots of cheek peek, pretty lace, a strappy bac...     NaN           NaN   \n",
       "2  Lots of cheek peek, pretty lace, a strappy bac...     NaN           NaN   \n",
       "\n",
       "   style_attributes                  total_sizes available_size        color  \n",
       "0               NaN  [\"XS\", \"S\", \"M\", \"L\", \"XL\"]              S  peach melba  \n",
       "1               NaN  [\"XS\", \"S\", \"M\", \"L\", \"XL\"]              S        black  \n",
       "2               NaN  [\"XS\", \"S\", \"M\", \"L\", \"XL\"]              S    plum dust  "
      ]
     },
     "execution_count": 35,
     "metadata": {},
     "output_type": "execute_result"
    }
   ],
   "source": [
    "df.head(3)"
   ]
  },
  {
   "cell_type": "code",
   "execution_count": null,
   "metadata": {},
   "outputs": [
    {
     "data": {
      "text/plain": [
       "0         $\n",
       "1         $\n",
       "2         $\n",
       "3         $\n",
       "4         $\n",
       "         ..\n",
       "453381    $\n",
       "453382    $\n",
       "453383    $\n",
       "453384    $\n",
       "453385    $\n",
       "Name: price, Length: 453386, dtype: object"
      ]
     },
     "execution_count": 28,
     "metadata": {},
     "output_type": "execute_result"
    }
   ],
   "source": [
    "def ext_fst_char(x):\n",
    "    return x[0]\n",
    "\n",
    "df['price'].apply(ext_fst_char)"
   ]
  },
  {
   "cell_type": "code",
   "execution_count": null,
   "metadata": {},
   "outputs": [
    {
     "data": {
      "text/plain": [
       "('$', '49.99', 49.99)"
      ]
     },
     "execution_count": 25,
     "metadata": {},
     "output_type": "execute_result"
    }
   ],
   "source": [
    "price= '$49.99'\n",
    "price[0], price[1:], float(price[1:])"
   ]
  },
  {
   "cell_type": "code",
   "execution_count": null,
   "metadata": {
    "hidden": true
   },
   "outputs": [
    {
     "data": {
      "text/plain": [
       "49.99"
      ]
     },
     "execution_count": 23,
     "metadata": {},
     "output_type": "execute_result"
    }
   ],
   "source": [
    "price= '$49.99'\n",
    "converted_price = float(price[1:])\n",
    "converted_price"
   ]
  },
  {
   "cell_type": "markdown",
   "metadata": {
    "hidden": true
   },
   "source": [
    "---\n",
    "Now create a function \"clean_price\" which takes one argument to be this first element. \n",
    "\n",
    "Then if this element is dollar, extract the rest of the element without the dollar. \n",
    "And if not, do a similar extraction and an additional currency conversion. "
   ]
  },
  {
   "cell_type": "code",
   "execution_count": 46,
   "metadata": {},
   "outputs": [],
   "source": [
    "conv1 = 0.000061\n",
    "conv2 = 0.0018\n",
    "def clean_price(s):\n",
    "    s0 = s[0]\n",
    "    if s0 == '$' :\n",
    "        return float(s[1:])\n",
    "    if s0 == 'R' :\n",
    "        return float(s[2:]) * conv1\n",
    "    if s0 == '₡' :\n",
    "        return float(s[1:]) * conv2\n"
   ]
  },
  {
   "cell_type": "markdown",
   "metadata": {
    "hidden": true
   },
   "source": [
    "Apply this function to 'mrp' and 'price' columns, using apply. \n",
    "\n",
    "Here the **apply method** is only valid for a specific column of a dataset. \n",
    "Use **applymap** if you need to apply a function to 2 or more columns."
   ]
  },
  {
   "cell_type": "code",
   "execution_count": 47,
   "metadata": {},
   "outputs": [
    {
     "data": {
      "text/plain": [
       "product_name             0\n",
       "mrp                      0\n",
       "price                    0\n",
       "pdp_url                  0\n",
       "brand_name               0\n",
       "product_category         0\n",
       "retailer                 0\n",
       "description              0\n",
       "rating              315652\n",
       "review_count        315652\n",
       "style_attributes    453386\n",
       "total_sizes              0\n",
       "available_size           0\n",
       "color                    0\n",
       "dtype: int64"
      ]
     },
     "execution_count": 47,
     "metadata": {},
     "output_type": "execute_result"
    }
   ],
   "source": [
    "df.isnull().sum()"
   ]
  },
  {
   "cell_type": "code",
   "execution_count": 48,
   "metadata": {
    "hidden": true
   },
   "outputs": [
    {
     "data": {
      "text/html": [
       "<div>\n",
       "<style scoped>\n",
       "    .dataframe tbody tr th:only-of-type {\n",
       "        vertical-align: middle;\n",
       "    }\n",
       "\n",
       "    .dataframe tbody tr th {\n",
       "        vertical-align: top;\n",
       "    }\n",
       "\n",
       "    .dataframe thead th {\n",
       "        text-align: right;\n",
       "    }\n",
       "</style>\n",
       "<table border=\"1\" class=\"dataframe\">\n",
       "  <thead>\n",
       "    <tr style=\"text-align: right;\">\n",
       "      <th></th>\n",
       "      <th>mrp</th>\n",
       "      <th>price</th>\n",
       "    </tr>\n",
       "  </thead>\n",
       "  <tbody>\n",
       "    <tr>\n",
       "      <th>0</th>\n",
       "      <td>14.5</td>\n",
       "      <td>14.5</td>\n",
       "    </tr>\n",
       "    <tr>\n",
       "      <th>1</th>\n",
       "      <td>14.5</td>\n",
       "      <td>14.5</td>\n",
       "    </tr>\n",
       "    <tr>\n",
       "      <th>2</th>\n",
       "      <td>14.5</td>\n",
       "      <td>14.5</td>\n",
       "    </tr>\n",
       "    <tr>\n",
       "      <th>3</th>\n",
       "      <td>14.5</td>\n",
       "      <td>14.5</td>\n",
       "    </tr>\n",
       "    <tr>\n",
       "      <th>4</th>\n",
       "      <td>14.5</td>\n",
       "      <td>14.5</td>\n",
       "    </tr>\n",
       "    <tr>\n",
       "      <th>...</th>\n",
       "      <td>...</td>\n",
       "      <td>...</td>\n",
       "    </tr>\n",
       "    <tr>\n",
       "      <th>453381</th>\n",
       "      <td>48.0</td>\n",
       "      <td>48.0</td>\n",
       "    </tr>\n",
       "    <tr>\n",
       "      <th>453382</th>\n",
       "      <td>48.0</td>\n",
       "      <td>48.0</td>\n",
       "    </tr>\n",
       "    <tr>\n",
       "      <th>453383</th>\n",
       "      <td>48.0</td>\n",
       "      <td>48.0</td>\n",
       "    </tr>\n",
       "    <tr>\n",
       "      <th>453384</th>\n",
       "      <td>48.0</td>\n",
       "      <td>48.0</td>\n",
       "    </tr>\n",
       "    <tr>\n",
       "      <th>453385</th>\n",
       "      <td>48.0</td>\n",
       "      <td>48.0</td>\n",
       "    </tr>\n",
       "  </tbody>\n",
       "</table>\n",
       "<p>453386 rows × 2 columns</p>\n",
       "</div>"
      ],
      "text/plain": [
       "         mrp  price\n",
       "0       14.5   14.5\n",
       "1       14.5   14.5\n",
       "2       14.5   14.5\n",
       "3       14.5   14.5\n",
       "4       14.5   14.5\n",
       "...      ...    ...\n",
       "453381  48.0   48.0\n",
       "453382  48.0   48.0\n",
       "453383  48.0   48.0\n",
       "453384  48.0   48.0\n",
       "453385  48.0   48.0\n",
       "\n",
       "[453386 rows x 2 columns]"
      ]
     },
     "execution_count": 48,
     "metadata": {},
     "output_type": "execute_result"
    }
   ],
   "source": [
    "df[['mrp','price']] = df[['mrp','price']].applymap(clean_price)\n",
    "\n",
    "df[['mrp','price']]\n"
   ]
  },
  {
   "cell_type": "markdown",
   "metadata": {
    "hidden": true
   },
   "source": [
    "----"
   ]
  },
  {
   "cell_type": "markdown",
   "metadata": {
    "heading_collapsed": true,
    "hidden": true
   },
   "source": [
    "#### Step 2:\n",
    "\n",
    "Fill missing values by columns' medians"
   ]
  },
  {
   "cell_type": "markdown",
   "metadata": {
    "hidden": true
   },
   "source": [
    "Apply the **median() method** to df considering the 'mrp', 'price', 'rating', 'review_count' and 'style_attributes' columns.\n",
    "\n",
    "And put the output into a variable called medians."
   ]
  },
  {
   "cell_type": "code",
   "execution_count": 51,
   "metadata": {
    "hidden": true
   },
   "outputs": [],
   "source": [
    "cols = ['mrp', 'price', 'rating','review_count']\n"
   ]
  },
  {
   "cell_type": "code",
   "execution_count": 52,
   "metadata": {
    "hidden": true
   },
   "outputs": [
    {
     "data": {
      "text/plain": [
       "mrp              36.0\n",
       "price            34.5\n",
       "rating            4.3\n",
       "review_count    147.0\n",
       "dtype: float64"
      ]
     },
     "execution_count": 52,
     "metadata": {},
     "output_type": "execute_result"
    }
   ],
   "source": [
    "df[cols].median()"
   ]
  },
  {
   "cell_type": "markdown",
   "metadata": {
    "hidden": true
   },
   "source": [
    "----\n",
    "\n",
    "Apply the `fillna()` [method](https://pandas.pydata.org/pandas-docs/stable/reference/api/pandas.DataFrame.fillna.html) to the 'mrp', 'price', 'rating' and 'review_count' columns in df, replacing nan values by medians.\n",
    "\n",
    "Then apply again describe to this."
   ]
  },
  {
   "cell_type": "code",
   "execution_count": 57,
   "metadata": {
    "hidden": true
   },
   "outputs": [
    {
     "data": {
      "text/html": [
       "<div>\n",
       "<style scoped>\n",
       "    .dataframe tbody tr th:only-of-type {\n",
       "        vertical-align: middle;\n",
       "    }\n",
       "\n",
       "    .dataframe tbody tr th {\n",
       "        vertical-align: top;\n",
       "    }\n",
       "\n",
       "    .dataframe thead th {\n",
       "        text-align: right;\n",
       "    }\n",
       "</style>\n",
       "<table border=\"1\" class=\"dataframe\">\n",
       "  <thead>\n",
       "    <tr style=\"text-align: right;\">\n",
       "      <th></th>\n",
       "      <th>mrp</th>\n",
       "      <th>price</th>\n",
       "      <th>rating</th>\n",
       "      <th>review_count</th>\n",
       "    </tr>\n",
       "  </thead>\n",
       "  <tbody>\n",
       "    <tr>\n",
       "      <th>count</th>\n",
       "      <td>453386.000000</td>\n",
       "      <td>453386.000000</td>\n",
       "      <td>453386.000000</td>\n",
       "      <td>4.533860e+05</td>\n",
       "    </tr>\n",
       "    <tr>\n",
       "      <th>mean</th>\n",
       "      <td>35.988822</td>\n",
       "      <td>32.302586</td>\n",
       "      <td>4.259237</td>\n",
       "      <td>2.795741e+35</td>\n",
       "    </tr>\n",
       "    <tr>\n",
       "      <th>std</th>\n",
       "      <td>14.803511</td>\n",
       "      <td>15.685789</td>\n",
       "      <td>0.275703</td>\n",
       "      <td>6.423671e+36</td>\n",
       "    </tr>\n",
       "    <tr>\n",
       "      <th>min</th>\n",
       "      <td>0.007132</td>\n",
       "      <td>0.007132</td>\n",
       "      <td>0.000000</td>\n",
       "      <td>2.000000e+00</td>\n",
       "    </tr>\n",
       "    <tr>\n",
       "      <th>25%</th>\n",
       "      <td>29.500000</td>\n",
       "      <td>19.990000</td>\n",
       "      <td>4.300000</td>\n",
       "      <td>1.470000e+02</td>\n",
       "    </tr>\n",
       "    <tr>\n",
       "      <th>50%</th>\n",
       "      <td>36.000000</td>\n",
       "      <td>34.500000</td>\n",
       "      <td>4.300000</td>\n",
       "      <td>1.470000e+02</td>\n",
       "    </tr>\n",
       "    <tr>\n",
       "      <th>75%</th>\n",
       "      <td>46.500000</td>\n",
       "      <td>42.500000</td>\n",
       "      <td>4.300000</td>\n",
       "      <td>1.470000e+02</td>\n",
       "    </tr>\n",
       "    <tr>\n",
       "      <th>max</th>\n",
       "      <td>98.000000</td>\n",
       "      <td>98.000000</td>\n",
       "      <td>5.000000</td>\n",
       "      <td>1.560000e+38</td>\n",
       "    </tr>\n",
       "  </tbody>\n",
       "</table>\n",
       "</div>"
      ],
      "text/plain": [
       "                 mrp          price         rating  review_count\n",
       "count  453386.000000  453386.000000  453386.000000  4.533860e+05\n",
       "mean       35.988822      32.302586       4.259237  2.795741e+35\n",
       "std        14.803511      15.685789       0.275703  6.423671e+36\n",
       "min         0.007132       0.007132       0.000000  2.000000e+00\n",
       "25%        29.500000      19.990000       4.300000  1.470000e+02\n",
       "50%        36.000000      34.500000       4.300000  1.470000e+02\n",
       "75%        46.500000      42.500000       4.300000  1.470000e+02\n",
       "max        98.000000      98.000000       5.000000  1.560000e+38"
      ]
     },
     "execution_count": 57,
     "metadata": {},
     "output_type": "execute_result"
    }
   ],
   "source": [
    "medians = df[cols].median()\n",
    "df[cols].fillna(value = medians).describe()"
   ]
  },
  {
   "cell_type": "markdown",
   "metadata": {
    "hidden": true
   },
   "source": [
    "Apply fillna to df using inplace = True"
   ]
  },
  {
   "cell_type": "code",
   "execution_count": 62,
   "metadata": {
    "hidden": true
   },
   "outputs": [
    {
     "data": {
      "text/html": [
       "<div>\n",
       "<style scoped>\n",
       "    .dataframe tbody tr th:only-of-type {\n",
       "        vertical-align: middle;\n",
       "    }\n",
       "\n",
       "    .dataframe tbody tr th {\n",
       "        vertical-align: top;\n",
       "    }\n",
       "\n",
       "    .dataframe thead th {\n",
       "        text-align: right;\n",
       "    }\n",
       "</style>\n",
       "<table border=\"1\" class=\"dataframe\">\n",
       "  <thead>\n",
       "    <tr style=\"text-align: right;\">\n",
       "      <th></th>\n",
       "      <th>mrp</th>\n",
       "      <th>price</th>\n",
       "      <th>rating</th>\n",
       "      <th>review_count</th>\n",
       "      <th>style_attributes</th>\n",
       "    </tr>\n",
       "  </thead>\n",
       "  <tbody>\n",
       "    <tr>\n",
       "      <th>count</th>\n",
       "      <td>453386.000000</td>\n",
       "      <td>453386.000000</td>\n",
       "      <td>453386.000000</td>\n",
       "      <td>4.533860e+05</td>\n",
       "      <td>0.0</td>\n",
       "    </tr>\n",
       "    <tr>\n",
       "      <th>mean</th>\n",
       "      <td>35.988822</td>\n",
       "      <td>32.302586</td>\n",
       "      <td>4.259237</td>\n",
       "      <td>2.795741e+35</td>\n",
       "      <td>NaN</td>\n",
       "    </tr>\n",
       "    <tr>\n",
       "      <th>std</th>\n",
       "      <td>14.803511</td>\n",
       "      <td>15.685789</td>\n",
       "      <td>0.275703</td>\n",
       "      <td>6.423671e+36</td>\n",
       "      <td>NaN</td>\n",
       "    </tr>\n",
       "    <tr>\n",
       "      <th>min</th>\n",
       "      <td>0.007132</td>\n",
       "      <td>0.007132</td>\n",
       "      <td>0.000000</td>\n",
       "      <td>2.000000e+00</td>\n",
       "      <td>NaN</td>\n",
       "    </tr>\n",
       "    <tr>\n",
       "      <th>25%</th>\n",
       "      <td>29.500000</td>\n",
       "      <td>19.990000</td>\n",
       "      <td>4.300000</td>\n",
       "      <td>1.470000e+02</td>\n",
       "      <td>NaN</td>\n",
       "    </tr>\n",
       "    <tr>\n",
       "      <th>50%</th>\n",
       "      <td>36.000000</td>\n",
       "      <td>34.500000</td>\n",
       "      <td>4.300000</td>\n",
       "      <td>1.470000e+02</td>\n",
       "      <td>NaN</td>\n",
       "    </tr>\n",
       "    <tr>\n",
       "      <th>75%</th>\n",
       "      <td>46.500000</td>\n",
       "      <td>42.500000</td>\n",
       "      <td>4.300000</td>\n",
       "      <td>1.470000e+02</td>\n",
       "      <td>NaN</td>\n",
       "    </tr>\n",
       "    <tr>\n",
       "      <th>max</th>\n",
       "      <td>98.000000</td>\n",
       "      <td>98.000000</td>\n",
       "      <td>5.000000</td>\n",
       "      <td>1.560000e+38</td>\n",
       "      <td>NaN</td>\n",
       "    </tr>\n",
       "  </tbody>\n",
       "</table>\n",
       "</div>"
      ],
      "text/plain": [
       "                 mrp          price         rating  review_count  \\\n",
       "count  453386.000000  453386.000000  453386.000000  4.533860e+05   \n",
       "mean       35.988822      32.302586       4.259237  2.795741e+35   \n",
       "std        14.803511      15.685789       0.275703  6.423671e+36   \n",
       "min         0.007132       0.007132       0.000000  2.000000e+00   \n",
       "25%        29.500000      19.990000       4.300000  1.470000e+02   \n",
       "50%        36.000000      34.500000       4.300000  1.470000e+02   \n",
       "75%        46.500000      42.500000       4.300000  1.470000e+02   \n",
       "max        98.000000      98.000000       5.000000  1.560000e+38   \n",
       "\n",
       "       style_attributes  \n",
       "count               0.0  \n",
       "mean                NaN  \n",
       "std                 NaN  \n",
       "min                 NaN  \n",
       "25%                 NaN  \n",
       "50%                 NaN  \n",
       "75%                 NaN  \n",
       "max                 NaN  "
      ]
     },
     "execution_count": 62,
     "metadata": {},
     "output_type": "execute_result"
    }
   ],
   "source": [
    "medians = df[cols].median()\n",
    "df.fillna(value = medians, inplace = True)\n",
    "df.describe()"
   ]
  },
  {
   "attachments": {},
   "cell_type": "markdown",
   "metadata": {
    "hidden": true
   },
   "source": [
    "### For further use, make a preprocess function （simplify step II)"
   ]
  },
  {
   "cell_type": "code",
   "execution_count": null,
   "metadata": {},
   "outputs": [],
   "source": [
    "df.fillna"
   ]
  },
  {
   "cell_type": "code",
   "execution_count": 6,
   "metadata": {
    "hidden": true
   },
   "outputs": [
    {
     "data": {
      "text/plain": [
       "'\\nThis function preprocesses the victoriassecret_com.osv dataset:\\n- converts mpr and price cols into numerics\\n- fills missing (numeric) values by medians\\n- drop cols which would have too many missing values (style_attribution)\\n'"
      ]
     },
     "execution_count": 6,
     "metadata": {},
     "output_type": "execute_result"
    }
   ],
   "source": [
    "# preprocess function\n",
    "def preprocess_df(df, clean_fn, price_cols, cols_to_drop, num_cols):\n",
    "    df[price_cols] = df[price_cols].applymap(clean_fn)\n",
    "    medians = df[num_cols].median()\n",
    "    df.fillna(value=medians, inplace=True)\n",
    "    df.drop(columns=cols_to_drop, inplace=True)\n",
    "\n",
    "\"\"\"\n",
    "This function preprocesses the victoriassecret_com.osv dataset:\n",
    "- converts mpr and price cols into numerics\n",
    "- fills missing (numeric) values by medians\n",
    "- drop cols which would have too many missing values (style_attribution)\n",
    "\"\"\""
   ]
  },
  {
   "cell_type": "code",
   "execution_count": 7,
   "metadata": {},
   "outputs": [],
   "source": [
    "# clean price!\n",
    "conv1 = 0.000061\n",
    "conv2 = 0.0018\n",
    "def clean_price(s):\n",
    "    s0 = s[0]\n",
    "    if s0 == '$' :\n",
    "        return float(s[1:])\n",
    "    if s0 == 'R' :\n",
    "        return float(s[2:]) * conv1\n",
    "    if s0 == '₡' :\n",
    "        return float(s[1:]) * conv2\n"
   ]
  },
  {
   "cell_type": "code",
   "execution_count": 82,
   "metadata": {},
   "outputs": [],
   "source": [
    "df = pd.read_csv('victoriassecret_com.csv')\n",
    "price_cols = ['price','mrp']\n",
    "cols_to_drop ='style_attributes'\n",
    "num_cols =['price','mrp','review_count','rating']\n",
    "preprocess_df(df,clean_price,price_cols,cols_to_drop,num_cols)"
   ]
  },
  {
   "cell_type": "code",
   "execution_count": null,
   "metadata": {},
   "outputs": [],
   "source": []
  },
  {
   "cell_type": "markdown",
   "metadata": {
    "heading_collapsed": true
   },
   "source": [
    "### III. Data lookup\n",
    "\n"
   ]
  },
  {
   "cell_type": "markdown",
   "metadata": {
    "hidden": true
   },
   "source": [
    "Let's explore our data a bit further..."
   ]
  },
  {
   "cell_type": "markdown",
   "metadata": {
    "heading_collapsed": true,
    "hidden": true
   },
   "source": [
    "#### Question 1\n",
    "\n",
    "Which product are the most expensive? what are the indices of the correponding raws and correponding products?"
   ]
  },
  {
   "cell_type": "code",
   "execution_count": 89,
   "metadata": {
    "hidden": true
   },
   "outputs": [
    {
     "data": {
      "text/html": [
       "<div>\n",
       "<style scoped>\n",
       "    .dataframe tbody tr th:only-of-type {\n",
       "        vertical-align: middle;\n",
       "    }\n",
       "\n",
       "    .dataframe tbody tr th {\n",
       "        vertical-align: top;\n",
       "    }\n",
       "\n",
       "    .dataframe thead th {\n",
       "        text-align: right;\n",
       "    }\n",
       "</style>\n",
       "<table border=\"1\" class=\"dataframe\">\n",
       "  <thead>\n",
       "    <tr style=\"text-align: right;\">\n",
       "      <th></th>\n",
       "      <th>product_name</th>\n",
       "      <th>mrp</th>\n",
       "      <th>price</th>\n",
       "      <th>pdp_url</th>\n",
       "      <th>brand_name</th>\n",
       "      <th>product_category</th>\n",
       "      <th>retailer</th>\n",
       "      <th>description</th>\n",
       "      <th>rating</th>\n",
       "      <th>review_count</th>\n",
       "      <th>total_sizes</th>\n",
       "      <th>available_size</th>\n",
       "      <th>color</th>\n",
       "    </tr>\n",
       "  </thead>\n",
       "  <tbody>\n",
       "    <tr>\n",
       "      <th>0</th>\n",
       "      <td>Very Sexy Strappy Lace Thong Panty</td>\n",
       "      <td>14.5</td>\n",
       "      <td>14.5</td>\n",
       "      <td>https://www.victoriassecret.com/panties/shop-a...</td>\n",
       "      <td>Victoria's Secret</td>\n",
       "      <td>Strappy Lace Thong Panty</td>\n",
       "      <td>Victoriassecret US</td>\n",
       "      <td>Lots of cheek peek, pretty lace, a strappy bac...</td>\n",
       "      <td>4.3</td>\n",
       "      <td>147.0</td>\n",
       "      <td>[\"XS\", \"S\", \"M\", \"L\", \"XL\"]</td>\n",
       "      <td>S</td>\n",
       "      <td>peach melba</td>\n",
       "    </tr>\n",
       "    <tr>\n",
       "      <th>1</th>\n",
       "      <td>Very Sexy Strappy Lace Thong Panty</td>\n",
       "      <td>14.5</td>\n",
       "      <td>14.5</td>\n",
       "      <td>https://www.victoriassecret.com/panties/shop-a...</td>\n",
       "      <td>Victoria's Secret</td>\n",
       "      <td>Strappy Lace Thong Panty</td>\n",
       "      <td>Victoriassecret US</td>\n",
       "      <td>Lots of cheek peek, pretty lace, a strappy bac...</td>\n",
       "      <td>4.3</td>\n",
       "      <td>147.0</td>\n",
       "      <td>[\"XS\", \"S\", \"M\", \"L\", \"XL\"]</td>\n",
       "      <td>S</td>\n",
       "      <td>black</td>\n",
       "    </tr>\n",
       "    <tr>\n",
       "      <th>2</th>\n",
       "      <td>Very Sexy Strappy Lace Thong Panty</td>\n",
       "      <td>14.5</td>\n",
       "      <td>14.5</td>\n",
       "      <td>https://www.victoriassecret.com/panties/shop-a...</td>\n",
       "      <td>Victoria's Secret</td>\n",
       "      <td>Strappy Lace Thong Panty</td>\n",
       "      <td>Victoriassecret US</td>\n",
       "      <td>Lots of cheek peek, pretty lace, a strappy bac...</td>\n",
       "      <td>4.3</td>\n",
       "      <td>147.0</td>\n",
       "      <td>[\"XS\", \"S\", \"M\", \"L\", \"XL\"]</td>\n",
       "      <td>S</td>\n",
       "      <td>plum dust</td>\n",
       "    </tr>\n",
       "  </tbody>\n",
       "</table>\n",
       "</div>"
      ],
      "text/plain": [
       "                         product_name   mrp  price  \\\n",
       "0  Very Sexy Strappy Lace Thong Panty  14.5   14.5   \n",
       "1  Very Sexy Strappy Lace Thong Panty  14.5   14.5   \n",
       "2  Very Sexy Strappy Lace Thong Panty  14.5   14.5   \n",
       "\n",
       "                                             pdp_url         brand_name  \\\n",
       "0  https://www.victoriassecret.com/panties/shop-a...  Victoria's Secret   \n",
       "1  https://www.victoriassecret.com/panties/shop-a...  Victoria's Secret   \n",
       "2  https://www.victoriassecret.com/panties/shop-a...  Victoria's Secret   \n",
       "\n",
       "           product_category            retailer  \\\n",
       "0  Strappy Lace Thong Panty  Victoriassecret US   \n",
       "1  Strappy Lace Thong Panty  Victoriassecret US   \n",
       "2  Strappy Lace Thong Panty  Victoriassecret US   \n",
       "\n",
       "                                         description  rating  review_count  \\\n",
       "0  Lots of cheek peek, pretty lace, a strappy bac...     4.3         147.0   \n",
       "1  Lots of cheek peek, pretty lace, a strappy bac...     4.3         147.0   \n",
       "2  Lots of cheek peek, pretty lace, a strappy bac...     4.3         147.0   \n",
       "\n",
       "                   total_sizes available_size        color  \n",
       "0  [\"XS\", \"S\", \"M\", \"L\", \"XL\"]              S  peach melba  \n",
       "1  [\"XS\", \"S\", \"M\", \"L\", \"XL\"]              S        black  \n",
       "2  [\"XS\", \"S\", \"M\", \"L\", \"XL\"]              S    plum dust  "
      ]
     },
     "execution_count": 89,
     "metadata": {},
     "output_type": "execute_result"
    }
   ],
   "source": [
    "df.head(3)"
   ]
  },
  {
   "cell_type": "code",
   "execution_count": 101,
   "metadata": {},
   "outputs": [
    {
     "data": {
      "text/plain": [
       "98.0"
      ]
     },
     "execution_count": 101,
     "metadata": {},
     "output_type": "execute_result"
    }
   ],
   "source": [
    "\n",
    "max_price_index = df['price'].max()\n",
    "max_price_index\n"
   ]
  },
  {
   "cell_type": "code",
   "execution_count": 78,
   "metadata": {},
   "outputs": [
    {
     "data": {
      "text/plain": [
       "'PINK NEW! Lace Back No-Show Thong'"
      ]
     },
     "execution_count": 78,
     "metadata": {},
     "output_type": "execute_result"
    }
   ],
   "source": [
    "# my way\n",
    "most_expensive_product = df.loc[max_price_index, \"product_name\"]\n",
    "most_expensive_product"
   ]
  },
  {
   "cell_type": "code",
   "execution_count": 82,
   "metadata": {},
   "outputs": [
    {
     "data": {
      "text/plain": [
       "(143, 13)"
      ]
     },
     "execution_count": 82,
     "metadata": {},
     "output_type": "execute_result"
    }
   ],
   "source": [
    "# prof's solution 1\n",
    "df_max_price_index = df.loc[df['price'] == max_price_index]\n",
    "df_max_price_index.shape"
   ]
  },
  {
   "cell_type": "code",
   "execution_count": 83,
   "metadata": {},
   "outputs": [
    {
     "data": {
      "text/plain": [
       "Very Sexy NEW! Keyhole Lace Teddy    121\n",
       "Very Sexy Fishnet Lace Kimono         16\n",
       "Very Sexy Fishnet Lace Dress           6\n",
       "Name: product_name, dtype: int64"
      ]
     },
     "execution_count": 83,
     "metadata": {},
     "output_type": "execute_result"
    }
   ],
   "source": [
    "df_max_price_index[\"product_name\"].value_counts()"
   ]
  },
  {
   "cell_type": "code",
   "execution_count": 86,
   "metadata": {},
   "outputs": [
    {
     "data": {
      "text/html": [
       "<div>\n",
       "<style scoped>\n",
       "    .dataframe tbody tr th:only-of-type {\n",
       "        vertical-align: middle;\n",
       "    }\n",
       "\n",
       "    .dataframe tbody tr th {\n",
       "        vertical-align: top;\n",
       "    }\n",
       "\n",
       "    .dataframe thead th {\n",
       "        text-align: right;\n",
       "    }\n",
       "</style>\n",
       "<table border=\"1\" class=\"dataframe\">\n",
       "  <thead>\n",
       "    <tr style=\"text-align: right;\">\n",
       "      <th></th>\n",
       "      <th>mrp</th>\n",
       "      <th>price</th>\n",
       "      <th>rating</th>\n",
       "      <th>review_count</th>\n",
       "    </tr>\n",
       "    <tr>\n",
       "      <th>product_name</th>\n",
       "      <th></th>\n",
       "      <th></th>\n",
       "      <th></th>\n",
       "      <th></th>\n",
       "    </tr>\n",
       "  </thead>\n",
       "  <tbody>\n",
       "    <tr>\n",
       "      <th>Very Sexy NEW! Keyhole Lace Teddy</th>\n",
       "      <td>98.0</td>\n",
       "      <td>98.0</td>\n",
       "      <td>4.5</td>\n",
       "      <td>147.0</td>\n",
       "    </tr>\n",
       "    <tr>\n",
       "      <th>Very Sexy Fishnet Lace Dress</th>\n",
       "      <td>98.0</td>\n",
       "      <td>98.0</td>\n",
       "      <td>4.3</td>\n",
       "      <td>147.0</td>\n",
       "    </tr>\n",
       "    <tr>\n",
       "      <th>Very Sexy Fishnet Lace Kimono</th>\n",
       "      <td>98.0</td>\n",
       "      <td>98.0</td>\n",
       "      <td>4.3</td>\n",
       "      <td>147.0</td>\n",
       "    </tr>\n",
       "  </tbody>\n",
       "</table>\n",
       "</div>"
      ],
      "text/plain": [
       "                                    mrp  price  rating  review_count\n",
       "product_name                                                        \n",
       "Very Sexy NEW! Keyhole Lace Teddy  98.0   98.0     4.5         147.0\n",
       "Very Sexy Fishnet Lace Dress       98.0   98.0     4.3         147.0\n",
       "Very Sexy Fishnet Lace Kimono      98.0   98.0     4.3         147.0"
      ]
     },
     "execution_count": 86,
     "metadata": {},
     "output_type": "execute_result"
    }
   ],
   "source": [
    "# solution 2\n",
    "df.groupby('product_name').max('price').sort_values('price',ascending=False).head(3)"
   ]
  },
  {
   "cell_type": "code",
   "execution_count": null,
   "metadata": {},
   "outputs": [],
   "source": [
    "df.groupby(\n",
    "    'product_name'\n",
    ").max(\n",
    "    'price'\n",
    ").sort_values(\n",
    "    'price',ascending=False\n",
    ")"
   ]
  },
  {
   "attachments": {},
   "cell_type": "markdown",
   "metadata": {},
   "source": [
    "Q: best rated most expensive product"
   ]
  },
  {
   "cell_type": "code",
   "execution_count": 102,
   "metadata": {},
   "outputs": [
    {
     "data": {
      "text/plain": [
       "(22, 13)"
      ]
     },
     "execution_count": 102,
     "metadata": {},
     "output_type": "execute_result"
    }
   ],
   "source": [
    "max_price = df['price'].max()\n",
    "df_max_price = df.loc[df['price'] == max_price]\n",
    "max_rat = df_max_price['rating'].max()\n",
    "df2 = df_max_price.loc[ df_max_price['rating' ]==max_rat]\n",
    "df2.shape"
   ]
  },
  {
   "attachments": {},
   "cell_type": "markdown",
   "metadata": {},
   "source": [
    "q(1) what color"
   ]
  },
  {
   "cell_type": "code",
   "execution_count": 106,
   "metadata": {},
   "outputs": [
    {
     "data": {
      "text/html": [
       "<div>\n",
       "<style scoped>\n",
       "    .dataframe tbody tr th:only-of-type {\n",
       "        vertical-align: middle;\n",
       "    }\n",
       "\n",
       "    .dataframe tbody tr th {\n",
       "        vertical-align: top;\n",
       "    }\n",
       "\n",
       "    .dataframe thead th {\n",
       "        text-align: right;\n",
       "    }\n",
       "</style>\n",
       "<table border=\"1\" class=\"dataframe\">\n",
       "  <thead>\n",
       "    <tr style=\"text-align: right;\">\n",
       "      <th></th>\n",
       "      <th>product_name</th>\n",
       "      <th>mrp</th>\n",
       "      <th>price</th>\n",
       "      <th>pdp_url</th>\n",
       "      <th>brand_name</th>\n",
       "      <th>product_category</th>\n",
       "      <th>retailer</th>\n",
       "      <th>description</th>\n",
       "      <th>rating</th>\n",
       "      <th>review_count</th>\n",
       "      <th>total_sizes</th>\n",
       "      <th>available_size</th>\n",
       "    </tr>\n",
       "    <tr>\n",
       "      <th>color</th>\n",
       "      <th></th>\n",
       "      <th></th>\n",
       "      <th></th>\n",
       "      <th></th>\n",
       "      <th></th>\n",
       "      <th></th>\n",
       "      <th></th>\n",
       "      <th></th>\n",
       "      <th></th>\n",
       "      <th></th>\n",
       "      <th></th>\n",
       "      <th></th>\n",
       "    </tr>\n",
       "  </thead>\n",
       "  <tbody>\n",
       "    <tr>\n",
       "      <th>VS white with nude</th>\n",
       "      <td>22</td>\n",
       "      <td>22</td>\n",
       "      <td>22</td>\n",
       "      <td>22</td>\n",
       "      <td>22</td>\n",
       "      <td>22</td>\n",
       "      <td>22</td>\n",
       "      <td>22</td>\n",
       "      <td>22</td>\n",
       "      <td>22</td>\n",
       "      <td>22</td>\n",
       "      <td>22</td>\n",
       "    </tr>\n",
       "  </tbody>\n",
       "</table>\n",
       "</div>"
      ],
      "text/plain": [
       "                    product_name  mrp  price  pdp_url  brand_name  \\\n",
       "color                                                               \n",
       "VS white with nude            22   22     22       22          22   \n",
       "\n",
       "                    product_category  retailer  description  rating  \\\n",
       "color                                                                 \n",
       "VS white with nude                22        22           22      22   \n",
       "\n",
       "                    review_count  total_sizes  available_size  \n",
       "color                                                          \n",
       "VS white with nude            22           22              22  "
      ]
     },
     "execution_count": 106,
     "metadata": {},
     "output_type": "execute_result"
    }
   ],
   "source": [
    "# solution 1\n",
    "col = df2.groupby('color').count()\n",
    "col"
   ]
  },
  {
   "cell_type": "code",
   "execution_count": 107,
   "metadata": {},
   "outputs": [
    {
     "data": {
      "text/plain": [
       "VS white with nude    22\n",
       "Name: color, dtype: int64"
      ]
     },
     "execution_count": 107,
     "metadata": {},
     "output_type": "execute_result"
    }
   ],
   "source": [
    "# solution 2\n",
    "unique_colors = df2[\"color\"].value_counts()\n",
    "unique_colors"
   ]
  },
  {
   "cell_type": "code",
   "execution_count": 104,
   "metadata": {},
   "outputs": [
    {
     "data": {
      "text/plain": [
       "array(['VS white with nude'], dtype=object)"
      ]
     },
     "execution_count": 104,
     "metadata": {},
     "output_type": "execute_result"
    }
   ],
   "source": [
    "# solution 3\n",
    "unique_colors = df2[\"color\"].unique()   # unique is part of value_counts   ,   therefore it's easier to use value_counts\n",
    "unique_colors"
   ]
  },
  {
   "attachments": {},
   "cell_type": "markdown",
   "metadata": {},
   "source": [
    "q(2): different sizes"
   ]
  },
  {
   "cell_type": "code",
   "execution_count": 108,
   "metadata": {},
   "outputs": [
    {
     "data": {
      "text/plain": [
       "34A    2\n",
       "36C    2\n",
       "34B    2\n",
       "36D    2\n",
       "34C    2\n",
       "32A    2\n",
       "34D    2\n",
       "32B    2\n",
       "32C    2\n",
       "32D    2\n",
       "36B    2\n",
       "Name: available_size, dtype: int64"
      ]
     },
     "execution_count": 108,
     "metadata": {},
     "output_type": "execute_result"
    }
   ],
   "source": [
    "uniq_size = df2['available_size'].value_counts()\n",
    "uniq_size"
   ]
  },
  {
   "cell_type": "code",
   "execution_count": 110,
   "metadata": {},
   "outputs": [
    {
     "data": {
      "text/html": [
       "<div>\n",
       "<style scoped>\n",
       "    .dataframe tbody tr th:only-of-type {\n",
       "        vertical-align: middle;\n",
       "    }\n",
       "\n",
       "    .dataframe tbody tr th {\n",
       "        vertical-align: top;\n",
       "    }\n",
       "\n",
       "    .dataframe thead th {\n",
       "        text-align: right;\n",
       "    }\n",
       "</style>\n",
       "<table border=\"1\" class=\"dataframe\">\n",
       "  <thead>\n",
       "    <tr style=\"text-align: right;\">\n",
       "      <th></th>\n",
       "      <th>product_name</th>\n",
       "      <th>mrp</th>\n",
       "      <th>price</th>\n",
       "      <th>pdp_url</th>\n",
       "      <th>brand_name</th>\n",
       "      <th>product_category</th>\n",
       "      <th>retailer</th>\n",
       "      <th>description</th>\n",
       "      <th>rating</th>\n",
       "      <th>review_count</th>\n",
       "      <th>total_sizes</th>\n",
       "      <th>color</th>\n",
       "    </tr>\n",
       "    <tr>\n",
       "      <th>available_size</th>\n",
       "      <th></th>\n",
       "      <th></th>\n",
       "      <th></th>\n",
       "      <th></th>\n",
       "      <th></th>\n",
       "      <th></th>\n",
       "      <th></th>\n",
       "      <th></th>\n",
       "      <th></th>\n",
       "      <th></th>\n",
       "      <th></th>\n",
       "      <th></th>\n",
       "    </tr>\n",
       "  </thead>\n",
       "  <tbody>\n",
       "    <tr>\n",
       "      <th>32A</th>\n",
       "      <td>2</td>\n",
       "      <td>2</td>\n",
       "      <td>2</td>\n",
       "      <td>2</td>\n",
       "      <td>2</td>\n",
       "      <td>2</td>\n",
       "      <td>2</td>\n",
       "      <td>2</td>\n",
       "      <td>2</td>\n",
       "      <td>2</td>\n",
       "      <td>2</td>\n",
       "      <td>2</td>\n",
       "    </tr>\n",
       "    <tr>\n",
       "      <th>32B</th>\n",
       "      <td>2</td>\n",
       "      <td>2</td>\n",
       "      <td>2</td>\n",
       "      <td>2</td>\n",
       "      <td>2</td>\n",
       "      <td>2</td>\n",
       "      <td>2</td>\n",
       "      <td>2</td>\n",
       "      <td>2</td>\n",
       "      <td>2</td>\n",
       "      <td>2</td>\n",
       "      <td>2</td>\n",
       "    </tr>\n",
       "    <tr>\n",
       "      <th>32C</th>\n",
       "      <td>2</td>\n",
       "      <td>2</td>\n",
       "      <td>2</td>\n",
       "      <td>2</td>\n",
       "      <td>2</td>\n",
       "      <td>2</td>\n",
       "      <td>2</td>\n",
       "      <td>2</td>\n",
       "      <td>2</td>\n",
       "      <td>2</td>\n",
       "      <td>2</td>\n",
       "      <td>2</td>\n",
       "    </tr>\n",
       "    <tr>\n",
       "      <th>32D</th>\n",
       "      <td>2</td>\n",
       "      <td>2</td>\n",
       "      <td>2</td>\n",
       "      <td>2</td>\n",
       "      <td>2</td>\n",
       "      <td>2</td>\n",
       "      <td>2</td>\n",
       "      <td>2</td>\n",
       "      <td>2</td>\n",
       "      <td>2</td>\n",
       "      <td>2</td>\n",
       "      <td>2</td>\n",
       "    </tr>\n",
       "    <tr>\n",
       "      <th>34A</th>\n",
       "      <td>2</td>\n",
       "      <td>2</td>\n",
       "      <td>2</td>\n",
       "      <td>2</td>\n",
       "      <td>2</td>\n",
       "      <td>2</td>\n",
       "      <td>2</td>\n",
       "      <td>2</td>\n",
       "      <td>2</td>\n",
       "      <td>2</td>\n",
       "      <td>2</td>\n",
       "      <td>2</td>\n",
       "    </tr>\n",
       "    <tr>\n",
       "      <th>34B</th>\n",
       "      <td>2</td>\n",
       "      <td>2</td>\n",
       "      <td>2</td>\n",
       "      <td>2</td>\n",
       "      <td>2</td>\n",
       "      <td>2</td>\n",
       "      <td>2</td>\n",
       "      <td>2</td>\n",
       "      <td>2</td>\n",
       "      <td>2</td>\n",
       "      <td>2</td>\n",
       "      <td>2</td>\n",
       "    </tr>\n",
       "    <tr>\n",
       "      <th>34C</th>\n",
       "      <td>2</td>\n",
       "      <td>2</td>\n",
       "      <td>2</td>\n",
       "      <td>2</td>\n",
       "      <td>2</td>\n",
       "      <td>2</td>\n",
       "      <td>2</td>\n",
       "      <td>2</td>\n",
       "      <td>2</td>\n",
       "      <td>2</td>\n",
       "      <td>2</td>\n",
       "      <td>2</td>\n",
       "    </tr>\n",
       "    <tr>\n",
       "      <th>34D</th>\n",
       "      <td>2</td>\n",
       "      <td>2</td>\n",
       "      <td>2</td>\n",
       "      <td>2</td>\n",
       "      <td>2</td>\n",
       "      <td>2</td>\n",
       "      <td>2</td>\n",
       "      <td>2</td>\n",
       "      <td>2</td>\n",
       "      <td>2</td>\n",
       "      <td>2</td>\n",
       "      <td>2</td>\n",
       "    </tr>\n",
       "    <tr>\n",
       "      <th>36B</th>\n",
       "      <td>2</td>\n",
       "      <td>2</td>\n",
       "      <td>2</td>\n",
       "      <td>2</td>\n",
       "      <td>2</td>\n",
       "      <td>2</td>\n",
       "      <td>2</td>\n",
       "      <td>2</td>\n",
       "      <td>2</td>\n",
       "      <td>2</td>\n",
       "      <td>2</td>\n",
       "      <td>2</td>\n",
       "    </tr>\n",
       "    <tr>\n",
       "      <th>36C</th>\n",
       "      <td>2</td>\n",
       "      <td>2</td>\n",
       "      <td>2</td>\n",
       "      <td>2</td>\n",
       "      <td>2</td>\n",
       "      <td>2</td>\n",
       "      <td>2</td>\n",
       "      <td>2</td>\n",
       "      <td>2</td>\n",
       "      <td>2</td>\n",
       "      <td>2</td>\n",
       "      <td>2</td>\n",
       "    </tr>\n",
       "    <tr>\n",
       "      <th>36D</th>\n",
       "      <td>2</td>\n",
       "      <td>2</td>\n",
       "      <td>2</td>\n",
       "      <td>2</td>\n",
       "      <td>2</td>\n",
       "      <td>2</td>\n",
       "      <td>2</td>\n",
       "      <td>2</td>\n",
       "      <td>2</td>\n",
       "      <td>2</td>\n",
       "      <td>2</td>\n",
       "      <td>2</td>\n",
       "    </tr>\n",
       "  </tbody>\n",
       "</table>\n",
       "</div>"
      ],
      "text/plain": [
       "                product_name  mrp  price  pdp_url  brand_name  \\\n",
       "available_size                                                  \n",
       "32A                        2    2      2        2           2   \n",
       "32B                        2    2      2        2           2   \n",
       "32C                        2    2      2        2           2   \n",
       "32D                        2    2      2        2           2   \n",
       "34A                        2    2      2        2           2   \n",
       "34B                        2    2      2        2           2   \n",
       "34C                        2    2      2        2           2   \n",
       "34D                        2    2      2        2           2   \n",
       "36B                        2    2      2        2           2   \n",
       "36C                        2    2      2        2           2   \n",
       "36D                        2    2      2        2           2   \n",
       "\n",
       "                product_category  retailer  description  rating  review_count  \\\n",
       "available_size                                                                  \n",
       "32A                            2         2            2       2             2   \n",
       "32B                            2         2            2       2             2   \n",
       "32C                            2         2            2       2             2   \n",
       "32D                            2         2            2       2             2   \n",
       "34A                            2         2            2       2             2   \n",
       "34B                            2         2            2       2             2   \n",
       "34C                            2         2            2       2             2   \n",
       "34D                            2         2            2       2             2   \n",
       "36B                            2         2            2       2             2   \n",
       "36C                            2         2            2       2             2   \n",
       "36D                            2         2            2       2             2   \n",
       "\n",
       "                total_sizes  color  \n",
       "available_size                      \n",
       "32A                       2      2  \n",
       "32B                       2      2  \n",
       "32C                       2      2  \n",
       "32D                       2      2  \n",
       "34A                       2      2  \n",
       "34B                       2      2  \n",
       "34C                       2      2  \n",
       "34D                       2      2  \n",
       "36B                       2      2  \n",
       "36C                       2      2  \n",
       "36D                       2      2  "
      ]
     },
     "execution_count": 110,
     "metadata": {},
     "output_type": "execute_result"
    }
   ],
   "source": [
    "uniq_size1 = df2.groupby('available_size').count()\n",
    "uniq_size1"
   ]
  },
  {
   "cell_type": "code",
   "execution_count": 116,
   "metadata": {},
   "outputs": [
    {
     "data": {
      "text/html": [
       "<div>\n",
       "<style scoped>\n",
       "    .dataframe tbody tr th:only-of-type {\n",
       "        vertical-align: middle;\n",
       "    }\n",
       "\n",
       "    .dataframe tbody tr th {\n",
       "        vertical-align: top;\n",
       "    }\n",
       "\n",
       "    .dataframe thead th {\n",
       "        text-align: right;\n",
       "    }\n",
       "</style>\n",
       "<table border=\"1\" class=\"dataframe\">\n",
       "  <thead>\n",
       "    <tr style=\"text-align: right;\">\n",
       "      <th></th>\n",
       "      <th>product_name</th>\n",
       "      <th>mrp</th>\n",
       "      <th>price</th>\n",
       "      <th>pdp_url</th>\n",
       "      <th>brand_name</th>\n",
       "      <th>product_category</th>\n",
       "      <th>retailer</th>\n",
       "      <th>description</th>\n",
       "      <th>rating</th>\n",
       "      <th>review_count</th>\n",
       "      <th>total_sizes</th>\n",
       "      <th>available_size</th>\n",
       "      <th>color</th>\n",
       "    </tr>\n",
       "  </thead>\n",
       "  <tbody>\n",
       "    <tr>\n",
       "      <th>78845</th>\n",
       "      <td>Very Sexy NEW! Keyhole Lace Teddy</td>\n",
       "      <td>98.0</td>\n",
       "      <td>98.0</td>\n",
       "      <td>https://www.victoriassecret.com/lingerie/shop-...</td>\n",
       "      <td>Victoria's Secret</td>\n",
       "      <td>Keyhole Lace Teddy</td>\n",
       "      <td>Victoriassecret US</td>\n",
       "      <td>Keep taking risks in sheer lace with delicate ...</td>\n",
       "      <td>4.5</td>\n",
       "      <td>2.0</td>\n",
       "      <td>[\"32A\", \"32B\", \"32C\", \"32D\", \"34A\", \"34B\", \"34...</td>\n",
       "      <td>32A</td>\n",
       "      <td>VS white with nude</td>\n",
       "    </tr>\n",
       "    <tr>\n",
       "      <th>113217</th>\n",
       "      <td>Very Sexy NEW! Keyhole Lace Teddy</td>\n",
       "      <td>98.0</td>\n",
       "      <td>98.0</td>\n",
       "      <td>https://www.victoriassecret.com/lingerie/shop-...</td>\n",
       "      <td>Victoria's Secret</td>\n",
       "      <td>Keyhole Lace Teddy</td>\n",
       "      <td>Victoriassecret US</td>\n",
       "      <td>Keep taking risks in sheer lace with delicate ...</td>\n",
       "      <td>4.5</td>\n",
       "      <td>2.0</td>\n",
       "      <td>[\"32A\", \"32B\", \"32C\", \"32D\", \"34A\", \"34B\", \"34...</td>\n",
       "      <td>32A</td>\n",
       "      <td>VS white with nude</td>\n",
       "    </tr>\n",
       "  </tbody>\n",
       "</table>\n",
       "</div>"
      ],
      "text/plain": [
       "                             product_name   mrp  price  \\\n",
       "78845   Very Sexy NEW! Keyhole Lace Teddy  98.0   98.0   \n",
       "113217  Very Sexy NEW! Keyhole Lace Teddy  98.0   98.0   \n",
       "\n",
       "                                                  pdp_url         brand_name  \\\n",
       "78845   https://www.victoriassecret.com/lingerie/shop-...  Victoria's Secret   \n",
       "113217  https://www.victoriassecret.com/lingerie/shop-...  Victoria's Secret   \n",
       "\n",
       "          product_category            retailer  \\\n",
       "78845   Keyhole Lace Teddy  Victoriassecret US   \n",
       "113217  Keyhole Lace Teddy  Victoriassecret US   \n",
       "\n",
       "                                              description  rating  \\\n",
       "78845   Keep taking risks in sheer lace with delicate ...     4.5   \n",
       "113217  Keep taking risks in sheer lace with delicate ...     4.5   \n",
       "\n",
       "        review_count                                        total_sizes  \\\n",
       "78845            2.0  [\"32A\", \"32B\", \"32C\", \"32D\", \"34A\", \"34B\", \"34...   \n",
       "113217           2.0  [\"32A\", \"32B\", \"32C\", \"32D\", \"34A\", \"34B\", \"34...   \n",
       "\n",
       "       available_size               color  \n",
       "78845             32A  VS white with nude  \n",
       "113217            32A  VS white with nude  "
      ]
     },
     "execution_count": 116,
     "metadata": {},
     "output_type": "execute_result"
    }
   ],
   "source": [
    "# just wonder the difference with the two\n",
    "\n",
    "df3 = df2[df2[\"available_size\"] == \"32A\"]\n",
    "df3"
   ]
  },
  {
   "attachments": {},
   "cell_type": "markdown",
   "metadata": {},
   "source": [
    "##### Q : all products whose price above 15 and color contains pink?"
   ]
  },
  {
   "cell_type": "code",
   "execution_count": 123,
   "metadata": {},
   "outputs": [
    {
     "data": {
      "text/html": [
       "<div>\n",
       "<style scoped>\n",
       "    .dataframe tbody tr th:only-of-type {\n",
       "        vertical-align: middle;\n",
       "    }\n",
       "\n",
       "    .dataframe tbody tr th {\n",
       "        vertical-align: top;\n",
       "    }\n",
       "\n",
       "    .dataframe thead th {\n",
       "        text-align: right;\n",
       "    }\n",
       "</style>\n",
       "<table border=\"1\" class=\"dataframe\">\n",
       "  <thead>\n",
       "    <tr style=\"text-align: right;\">\n",
       "      <th></th>\n",
       "      <th>product_name</th>\n",
       "      <th>mrp</th>\n",
       "      <th>price</th>\n",
       "      <th>pdp_url</th>\n",
       "      <th>brand_name</th>\n",
       "      <th>product_category</th>\n",
       "      <th>retailer</th>\n",
       "      <th>description</th>\n",
       "      <th>rating</th>\n",
       "      <th>review_count</th>\n",
       "      <th>total_sizes</th>\n",
       "      <th>available_size</th>\n",
       "    </tr>\n",
       "    <tr>\n",
       "      <th>color</th>\n",
       "      <th></th>\n",
       "      <th></th>\n",
       "      <th></th>\n",
       "      <th></th>\n",
       "      <th></th>\n",
       "      <th></th>\n",
       "      <th></th>\n",
       "      <th></th>\n",
       "      <th></th>\n",
       "      <th></th>\n",
       "      <th></th>\n",
       "      <th></th>\n",
       "    </tr>\n",
       "  </thead>\n",
       "  <tbody>\n",
       "    <tr>\n",
       "      <th>Angel Pink</th>\n",
       "      <td>75</td>\n",
       "      <td>75</td>\n",
       "      <td>75</td>\n",
       "      <td>75</td>\n",
       "      <td>75</td>\n",
       "      <td>75</td>\n",
       "      <td>75</td>\n",
       "      <td>75</td>\n",
       "      <td>75</td>\n",
       "      <td>75</td>\n",
       "      <td>75</td>\n",
       "      <td>75</td>\n",
       "    </tr>\n",
       "    <tr>\n",
       "      <th>Angel Pink Crochet Lace</th>\n",
       "      <td>101</td>\n",
       "      <td>101</td>\n",
       "      <td>101</td>\n",
       "      <td>101</td>\n",
       "      <td>101</td>\n",
       "      <td>101</td>\n",
       "      <td>101</td>\n",
       "      <td>101</td>\n",
       "      <td>101</td>\n",
       "      <td>101</td>\n",
       "      <td>101</td>\n",
       "      <td>101</td>\n",
       "    </tr>\n",
       "    <tr>\n",
       "      <th>Angel Pink Crossdye</th>\n",
       "      <td>1982</td>\n",
       "      <td>1982</td>\n",
       "      <td>1982</td>\n",
       "      <td>1982</td>\n",
       "      <td>1982</td>\n",
       "      <td>1982</td>\n",
       "      <td>1982</td>\n",
       "      <td>1982</td>\n",
       "      <td>1982</td>\n",
       "      <td>1982</td>\n",
       "      <td>1982</td>\n",
       "      <td>1982</td>\n",
       "    </tr>\n",
       "    <tr>\n",
       "      <th>Baby Pink</th>\n",
       "      <td>36</td>\n",
       "      <td>36</td>\n",
       "      <td>36</td>\n",
       "      <td>36</td>\n",
       "      <td>36</td>\n",
       "      <td>36</td>\n",
       "      <td>36</td>\n",
       "      <td>36</td>\n",
       "      <td>36</td>\n",
       "      <td>36</td>\n",
       "      <td>36</td>\n",
       "      <td>36</td>\n",
       "    </tr>\n",
       "    <tr>\n",
       "      <th>Blush with Pinky Cheeks Crossdye</th>\n",
       "      <td>806</td>\n",
       "      <td>806</td>\n",
       "      <td>806</td>\n",
       "      <td>806</td>\n",
       "      <td>806</td>\n",
       "      <td>806</td>\n",
       "      <td>806</td>\n",
       "      <td>806</td>\n",
       "      <td>806</td>\n",
       "      <td>806</td>\n",
       "      <td>806</td>\n",
       "      <td>806</td>\n",
       "    </tr>\n",
       "  </tbody>\n",
       "</table>\n",
       "</div>"
      ],
      "text/plain": [
       "                                  product_name   mrp  price  pdp_url  \\\n",
       "color                                                                  \n",
       "Angel Pink                                  75    75     75       75   \n",
       "Angel Pink Crochet Lace                    101   101    101      101   \n",
       "Angel Pink Crossdye                       1982  1982   1982     1982   \n",
       "Baby Pink                                   36    36     36       36   \n",
       "Blush with Pinky Cheeks Crossdye           806   806    806      806   \n",
       "\n",
       "                                  brand_name  product_category  retailer  \\\n",
       "color                                                                      \n",
       "Angel Pink                                75                75        75   \n",
       "Angel Pink Crochet Lace                  101               101       101   \n",
       "Angel Pink Crossdye                     1982              1982      1982   \n",
       "Baby Pink                                 36                36        36   \n",
       "Blush with Pinky Cheeks Crossdye         806               806       806   \n",
       "\n",
       "                                  description  rating  review_count  \\\n",
       "color                                                                 \n",
       "Angel Pink                                 75      75            75   \n",
       "Angel Pink Crochet Lace                   101     101           101   \n",
       "Angel Pink Crossdye                      1982    1982          1982   \n",
       "Baby Pink                                  36      36            36   \n",
       "Blush with Pinky Cheeks Crossdye          806     806           806   \n",
       "\n",
       "                                  total_sizes  available_size  \n",
       "color                                                          \n",
       "Angel Pink                                 75              75  \n",
       "Angel Pink Crochet Lace                   101             101  \n",
       "Angel Pink Crossdye                      1982            1982  \n",
       "Baby Pink                                  36              36  \n",
       "Blush with Pinky Cheeks Crossdye          806             806  "
      ]
     },
     "execution_count": 123,
     "metadata": {},
     "output_type": "execute_result"
    }
   ],
   "source": [
    "df4 = df[(df[\"price\"] > 15) & (df[\"color\"].str.contains(\"pink\", regex = False, case=False))  # case -- means it can contain capital letters. By defailt is ture, which means \n",
    "        ].groupby('color').count()\n",
    "df4.head()"
   ]
  },
  {
   "cell_type": "code",
   "execution_count": 124,
   "metadata": {},
   "outputs": [
    {
     "data": {
      "text/html": [
       "<div>\n",
       "<style scoped>\n",
       "    .dataframe tbody tr th:only-of-type {\n",
       "        vertical-align: middle;\n",
       "    }\n",
       "\n",
       "    .dataframe tbody tr th {\n",
       "        vertical-align: top;\n",
       "    }\n",
       "\n",
       "    .dataframe thead th {\n",
       "        text-align: right;\n",
       "    }\n",
       "</style>\n",
       "<table border=\"1\" class=\"dataframe\">\n",
       "  <thead>\n",
       "    <tr style=\"text-align: right;\">\n",
       "      <th></th>\n",
       "      <th>product_name</th>\n",
       "      <th>mrp</th>\n",
       "      <th>price</th>\n",
       "      <th>pdp_url</th>\n",
       "      <th>brand_name</th>\n",
       "      <th>product_category</th>\n",
       "      <th>retailer</th>\n",
       "      <th>description</th>\n",
       "      <th>rating</th>\n",
       "      <th>review_count</th>\n",
       "      <th>total_sizes</th>\n",
       "      <th>available_size</th>\n",
       "      <th>color</th>\n",
       "    </tr>\n",
       "  </thead>\n",
       "  <tbody>\n",
       "    <tr>\n",
       "      <th>305</th>\n",
       "      <td>Dream Angels NEW! The Wicked Unlined Uplift Bra</td>\n",
       "      <td>38.5</td>\n",
       "      <td>38.5</td>\n",
       "      <td>https://www.victoriassecret.com/bras/shop-all-...</td>\n",
       "      <td>Victoria's Secret</td>\n",
       "      <td>The Wicked Unlined Uplift Bra</td>\n",
       "      <td>Victoriassecret US</td>\n",
       "      <td>A little lift goes a long way: the push-up wit...</td>\n",
       "      <td>4.3</td>\n",
       "      <td>147.0</td>\n",
       "      <td>[\"32A\", \"32B\", \"32C\", \"32D\", \"32DD\", \"32DDD\", ...</td>\n",
       "      <td>34DD</td>\n",
       "      <td>Sheer Pink</td>\n",
       "    </tr>\n",
       "    <tr>\n",
       "      <th>311</th>\n",
       "      <td>Dream Angels NEW! The Wicked Unlined Uplift Bra</td>\n",
       "      <td>38.5</td>\n",
       "      <td>38.5</td>\n",
       "      <td>https://www.victoriassecret.com/bras/shop-all-...</td>\n",
       "      <td>Victoria's Secret</td>\n",
       "      <td>The Wicked Unlined Uplift Bra</td>\n",
       "      <td>Victoriassecret US</td>\n",
       "      <td>A little lift goes a long way: the push-up wit...</td>\n",
       "      <td>4.3</td>\n",
       "      <td>147.0</td>\n",
       "      <td>[\"32A\", \"32B\", \"32C\", \"32D\", \"32DD\", \"32DDD\", ...</td>\n",
       "      <td>34D3</td>\n",
       "      <td>Sheer Pink</td>\n",
       "    </tr>\n",
       "    <tr>\n",
       "      <th>318</th>\n",
       "      <td>Dream Angels NEW! The Wicked Unlined Uplift Bra</td>\n",
       "      <td>38.5</td>\n",
       "      <td>38.5</td>\n",
       "      <td>https://www.victoriassecret.com/bras/shop-all-...</td>\n",
       "      <td>Victoria's Secret</td>\n",
       "      <td>The Wicked Unlined Uplift Bra</td>\n",
       "      <td>Victoriassecret US</td>\n",
       "      <td>A little lift goes a long way: the push-up wit...</td>\n",
       "      <td>4.3</td>\n",
       "      <td>147.0</td>\n",
       "      <td>[\"32A\", \"32B\", \"32C\", \"32D\", \"32DD\", \"32DDD\", ...</td>\n",
       "      <td>32DD</td>\n",
       "      <td>Sheer Pink</td>\n",
       "    </tr>\n",
       "    <tr>\n",
       "      <th>326</th>\n",
       "      <td>Dream Angels NEW! The Wicked Unlined Uplift Bra</td>\n",
       "      <td>38.5</td>\n",
       "      <td>38.5</td>\n",
       "      <td>https://www.victoriassecret.com/bras/shop-all-...</td>\n",
       "      <td>Victoria's Secret</td>\n",
       "      <td>The Wicked Unlined Uplift Bra</td>\n",
       "      <td>Victoriassecret US</td>\n",
       "      <td>A little lift goes a long way: the push-up wit...</td>\n",
       "      <td>4.3</td>\n",
       "      <td>147.0</td>\n",
       "      <td>[\"32A\", \"32B\", \"32C\", \"32D\", \"32DD\", \"32DDD\", ...</td>\n",
       "      <td>32D3</td>\n",
       "      <td>Sheer Pink</td>\n",
       "    </tr>\n",
       "    <tr>\n",
       "      <th>332</th>\n",
       "      <td>Dream Angels NEW! The Wicked Unlined Uplift Bra</td>\n",
       "      <td>38.5</td>\n",
       "      <td>38.5</td>\n",
       "      <td>https://www.victoriassecret.com/bras/shop-all-...</td>\n",
       "      <td>Victoria's Secret</td>\n",
       "      <td>The Wicked Unlined Uplift Bra</td>\n",
       "      <td>Victoriassecret US</td>\n",
       "      <td>A little lift goes a long way: the push-up wit...</td>\n",
       "      <td>4.3</td>\n",
       "      <td>147.0</td>\n",
       "      <td>[\"32A\", \"32B\", \"32C\", \"32D\", \"32DD\", \"32DDD\", ...</td>\n",
       "      <td>36D3</td>\n",
       "      <td>Sheer Pink</td>\n",
       "    </tr>\n",
       "    <tr>\n",
       "      <th>...</th>\n",
       "      <td>...</td>\n",
       "      <td>...</td>\n",
       "      <td>...</td>\n",
       "      <td>...</td>\n",
       "      <td>...</td>\n",
       "      <td>...</td>\n",
       "      <td>...</td>\n",
       "      <td>...</td>\n",
       "      <td>...</td>\n",
       "      <td>...</td>\n",
       "      <td>...</td>\n",
       "      <td>...</td>\n",
       "      <td>...</td>\n",
       "    </tr>\n",
       "    <tr>\n",
       "      <th>453371</th>\n",
       "      <td>Dream Angels NEW! Lace Mini Slip</td>\n",
       "      <td>48.0</td>\n",
       "      <td>48.0</td>\n",
       "      <td>https://www.victoriassecret.com/lingerie/shop-...</td>\n",
       "      <td>Victoria's Secret</td>\n",
       "      <td>Lace Mini Slip</td>\n",
       "      <td>Victoriassecret US</td>\n",
       "      <td>All you need is a little lace, here in the cut...</td>\n",
       "      <td>4.3</td>\n",
       "      <td>147.0</td>\n",
       "      <td>[\"XS\", \"S\", \"M\", \"L\", \"XL\"]</td>\n",
       "      <td>S</td>\n",
       "      <td>sheer pink</td>\n",
       "    </tr>\n",
       "    <tr>\n",
       "      <th>453374</th>\n",
       "      <td>Dream Angels NEW! Lace Mini Slip</td>\n",
       "      <td>48.0</td>\n",
       "      <td>48.0</td>\n",
       "      <td>https://www.victoriassecret.com/lingerie/shop-...</td>\n",
       "      <td>Victoria's Secret</td>\n",
       "      <td>Lace Mini Slip</td>\n",
       "      <td>Victoriassecret US</td>\n",
       "      <td>All you need is a little lace, here in the cut...</td>\n",
       "      <td>4.3</td>\n",
       "      <td>147.0</td>\n",
       "      <td>[\"XS\", \"S\", \"M\", \"L\", \"XL\"]</td>\n",
       "      <td>XL</td>\n",
       "      <td>sheer pink</td>\n",
       "    </tr>\n",
       "    <tr>\n",
       "      <th>453377</th>\n",
       "      <td>Dream Angels NEW! Lace Mini Slip</td>\n",
       "      <td>48.0</td>\n",
       "      <td>48.0</td>\n",
       "      <td>https://www.victoriassecret.com/lingerie/shop-...</td>\n",
       "      <td>Victoria's Secret</td>\n",
       "      <td>Lace Mini Slip</td>\n",
       "      <td>Victoriassecret US</td>\n",
       "      <td>All you need is a little lace, here in the cut...</td>\n",
       "      <td>4.3</td>\n",
       "      <td>147.0</td>\n",
       "      <td>[\"XS\", \"S\", \"M\", \"L\", \"XL\"]</td>\n",
       "      <td>XS</td>\n",
       "      <td>sheer pink</td>\n",
       "    </tr>\n",
       "    <tr>\n",
       "      <th>453380</th>\n",
       "      <td>Dream Angels NEW! Lace Mini Slip</td>\n",
       "      <td>48.0</td>\n",
       "      <td>48.0</td>\n",
       "      <td>https://www.victoriassecret.com/lingerie/shop-...</td>\n",
       "      <td>Victoria's Secret</td>\n",
       "      <td>Lace Mini Slip</td>\n",
       "      <td>Victoriassecret US</td>\n",
       "      <td>All you need is a little lace, here in the cut...</td>\n",
       "      <td>4.3</td>\n",
       "      <td>147.0</td>\n",
       "      <td>[\"XS\", \"S\", \"M\", \"L\", \"XL\"]</td>\n",
       "      <td>L</td>\n",
       "      <td>sheer pink</td>\n",
       "    </tr>\n",
       "    <tr>\n",
       "      <th>453383</th>\n",
       "      <td>Dream Angels NEW! Lace Mini Slip</td>\n",
       "      <td>48.0</td>\n",
       "      <td>48.0</td>\n",
       "      <td>https://www.victoriassecret.com/lingerie/shop-...</td>\n",
       "      <td>Victoria's Secret</td>\n",
       "      <td>Lace Mini Slip</td>\n",
       "      <td>Victoriassecret US</td>\n",
       "      <td>All you need is a little lace, here in the cut...</td>\n",
       "      <td>4.3</td>\n",
       "      <td>147.0</td>\n",
       "      <td>[\"XS\", \"S\", \"M\", \"L\", \"XL\"]</td>\n",
       "      <td>M</td>\n",
       "      <td>sheer pink</td>\n",
       "    </tr>\n",
       "  </tbody>\n",
       "</table>\n",
       "<p>24142 rows × 13 columns</p>\n",
       "</div>"
      ],
      "text/plain": [
       "                                           product_name   mrp  price  \\\n",
       "305     Dream Angels NEW! The Wicked Unlined Uplift Bra  38.5   38.5   \n",
       "311     Dream Angels NEW! The Wicked Unlined Uplift Bra  38.5   38.5   \n",
       "318     Dream Angels NEW! The Wicked Unlined Uplift Bra  38.5   38.5   \n",
       "326     Dream Angels NEW! The Wicked Unlined Uplift Bra  38.5   38.5   \n",
       "332     Dream Angels NEW! The Wicked Unlined Uplift Bra  38.5   38.5   \n",
       "...                                                 ...   ...    ...   \n",
       "453371                 Dream Angels NEW! Lace Mini Slip  48.0   48.0   \n",
       "453374                 Dream Angels NEW! Lace Mini Slip  48.0   48.0   \n",
       "453377                 Dream Angels NEW! Lace Mini Slip  48.0   48.0   \n",
       "453380                 Dream Angels NEW! Lace Mini Slip  48.0   48.0   \n",
       "453383                 Dream Angels NEW! Lace Mini Slip  48.0   48.0   \n",
       "\n",
       "                                                  pdp_url         brand_name  \\\n",
       "305     https://www.victoriassecret.com/bras/shop-all-...  Victoria's Secret   \n",
       "311     https://www.victoriassecret.com/bras/shop-all-...  Victoria's Secret   \n",
       "318     https://www.victoriassecret.com/bras/shop-all-...  Victoria's Secret   \n",
       "326     https://www.victoriassecret.com/bras/shop-all-...  Victoria's Secret   \n",
       "332     https://www.victoriassecret.com/bras/shop-all-...  Victoria's Secret   \n",
       "...                                                   ...                ...   \n",
       "453371  https://www.victoriassecret.com/lingerie/shop-...  Victoria's Secret   \n",
       "453374  https://www.victoriassecret.com/lingerie/shop-...  Victoria's Secret   \n",
       "453377  https://www.victoriassecret.com/lingerie/shop-...  Victoria's Secret   \n",
       "453380  https://www.victoriassecret.com/lingerie/shop-...  Victoria's Secret   \n",
       "453383  https://www.victoriassecret.com/lingerie/shop-...  Victoria's Secret   \n",
       "\n",
       "                     product_category            retailer  \\\n",
       "305     The Wicked Unlined Uplift Bra  Victoriassecret US   \n",
       "311     The Wicked Unlined Uplift Bra  Victoriassecret US   \n",
       "318     The Wicked Unlined Uplift Bra  Victoriassecret US   \n",
       "326     The Wicked Unlined Uplift Bra  Victoriassecret US   \n",
       "332     The Wicked Unlined Uplift Bra  Victoriassecret US   \n",
       "...                               ...                 ...   \n",
       "453371                 Lace Mini Slip  Victoriassecret US   \n",
       "453374                 Lace Mini Slip  Victoriassecret US   \n",
       "453377                 Lace Mini Slip  Victoriassecret US   \n",
       "453380                 Lace Mini Slip  Victoriassecret US   \n",
       "453383                 Lace Mini Slip  Victoriassecret US   \n",
       "\n",
       "                                              description  rating  \\\n",
       "305     A little lift goes a long way: the push-up wit...     4.3   \n",
       "311     A little lift goes a long way: the push-up wit...     4.3   \n",
       "318     A little lift goes a long way: the push-up wit...     4.3   \n",
       "326     A little lift goes a long way: the push-up wit...     4.3   \n",
       "332     A little lift goes a long way: the push-up wit...     4.3   \n",
       "...                                                   ...     ...   \n",
       "453371  All you need is a little lace, here in the cut...     4.3   \n",
       "453374  All you need is a little lace, here in the cut...     4.3   \n",
       "453377  All you need is a little lace, here in the cut...     4.3   \n",
       "453380  All you need is a little lace, here in the cut...     4.3   \n",
       "453383  All you need is a little lace, here in the cut...     4.3   \n",
       "\n",
       "        review_count                                        total_sizes  \\\n",
       "305            147.0  [\"32A\", \"32B\", \"32C\", \"32D\", \"32DD\", \"32DDD\", ...   \n",
       "311            147.0  [\"32A\", \"32B\", \"32C\", \"32D\", \"32DD\", \"32DDD\", ...   \n",
       "318            147.0  [\"32A\", \"32B\", \"32C\", \"32D\", \"32DD\", \"32DDD\", ...   \n",
       "326            147.0  [\"32A\", \"32B\", \"32C\", \"32D\", \"32DD\", \"32DDD\", ...   \n",
       "332            147.0  [\"32A\", \"32B\", \"32C\", \"32D\", \"32DD\", \"32DDD\", ...   \n",
       "...              ...                                                ...   \n",
       "453371         147.0                        [\"XS\", \"S\", \"M\", \"L\", \"XL\"]   \n",
       "453374         147.0                        [\"XS\", \"S\", \"M\", \"L\", \"XL\"]   \n",
       "453377         147.0                        [\"XS\", \"S\", \"M\", \"L\", \"XL\"]   \n",
       "453380         147.0                        [\"XS\", \"S\", \"M\", \"L\", \"XL\"]   \n",
       "453383         147.0                        [\"XS\", \"S\", \"M\", \"L\", \"XL\"]   \n",
       "\n",
       "       available_size       color  \n",
       "305              34DD  Sheer Pink  \n",
       "311              34D3  Sheer Pink  \n",
       "318              32DD  Sheer Pink  \n",
       "326              32D3  Sheer Pink  \n",
       "332              36D3  Sheer Pink  \n",
       "...               ...         ...  \n",
       "453371              S  sheer pink  \n",
       "453374             XL  sheer pink  \n",
       "453377             XS  sheer pink  \n",
       "453380              L  sheer pink  \n",
       "453383              M  sheer pink  \n",
       "\n",
       "[24142 rows x 13 columns]"
      ]
     },
     "execution_count": 124,
     "metadata": {},
     "output_type": "execute_result"
    }
   ],
   "source": [
    "df.loc[(df[\"price\"] > 15) & (df[\"color\"].str.contains(\"pink\", regex = False, case=False))]\n",
    "\n"
   ]
  },
  {
   "attachments": {},
   "cell_type": "markdown",
   "metadata": {},
   "source": [
    "q(1) : distinct product name"
   ]
  },
  {
   "cell_type": "code",
   "execution_count": 140,
   "metadata": {},
   "outputs": [
    {
     "data": {
      "text/plain": [
       "Dream Angels Push-Up Bra                 2244\n",
       "Body by Victoria Perfect Coverage Bra    1739\n",
       "Dream Angels Demi Bra                    1468\n",
       "Dream Angels Multi-Way Bra               1094\n",
       "Easy Push-Up Bra                          958\n",
       "                                         ... \n",
       "NEW! Lace Unlined Wrap Bralette             4\n",
       "PINK NEW! Bonded StrappyBralette            4\n",
       "PINK NEW! Baseball Hat                      3\n",
       "PINK Campus Water Bottle                    3\n",
       "PINK NEW! Glass Water Bottle                3\n",
       "Name: product_name, Length: 139, dtype: int64"
      ]
     },
     "execution_count": 140,
     "metadata": {},
     "output_type": "execute_result"
    }
   ],
   "source": [
    "df.loc[(df[\"price\"] > 15) & (df[\"color\"].str.contains(\"pink\", regex = False, case=False))\n",
    "        ]['product_name'].value_counts()"
   ]
  },
  {
   "attachments": {},
   "cell_type": "markdown",
   "metadata": {},
   "source": [
    "##### Q: price below 10 and color black or white"
   ]
  },
  {
   "cell_type": "code",
   "execution_count": 145,
   "metadata": {},
   "outputs": [
    {
     "data": {
      "text/html": [
       "<div>\n",
       "<style scoped>\n",
       "    .dataframe tbody tr th:only-of-type {\n",
       "        vertical-align: middle;\n",
       "    }\n",
       "\n",
       "    .dataframe tbody tr th {\n",
       "        vertical-align: top;\n",
       "    }\n",
       "\n",
       "    .dataframe thead th {\n",
       "        text-align: right;\n",
       "    }\n",
       "</style>\n",
       "<table border=\"1\" class=\"dataframe\">\n",
       "  <thead>\n",
       "    <tr style=\"text-align: right;\">\n",
       "      <th></th>\n",
       "      <th>product_name</th>\n",
       "      <th>mrp</th>\n",
       "      <th>price</th>\n",
       "      <th>pdp_url</th>\n",
       "      <th>brand_name</th>\n",
       "      <th>product_category</th>\n",
       "      <th>retailer</th>\n",
       "      <th>description</th>\n",
       "      <th>rating</th>\n",
       "      <th>review_count</th>\n",
       "      <th>total_sizes</th>\n",
       "      <th>available_size</th>\n",
       "      <th>color</th>\n",
       "    </tr>\n",
       "  </thead>\n",
       "  <tbody>\n",
       "    <tr>\n",
       "      <th>960</th>\n",
       "      <td>The Bralette Collection Mesh Front-close Bralette</td>\n",
       "      <td>20.0</td>\n",
       "      <td>9.99</td>\n",
       "      <td>https://www.victoriassecret.com/bras/shop-all-...</td>\n",
       "      <td>Victoria's Secret</td>\n",
       "      <td>Mesh Front-close Bralette</td>\n",
       "      <td>Victoriassecret US</td>\n",
       "      <td>Less is more: this little bralette is proof wi...</td>\n",
       "      <td>4.3</td>\n",
       "      <td>147.0</td>\n",
       "      <td>[\"XS\", \"S\", \"M\", \"L\"]</td>\n",
       "      <td>S</td>\n",
       "      <td>Black Textured Mesh</td>\n",
       "    </tr>\n",
       "    <tr>\n",
       "      <th>961</th>\n",
       "      <td>The Bralette Collection Mesh Front-close Bralette</td>\n",
       "      <td>20.0</td>\n",
       "      <td>9.99</td>\n",
       "      <td>https://www.victoriassecret.com/bras/shop-all-...</td>\n",
       "      <td>Victoria's Secret</td>\n",
       "      <td>Mesh Front-close Bralette</td>\n",
       "      <td>Victoriassecret US</td>\n",
       "      <td>Less is more: this little bralette is proof wi...</td>\n",
       "      <td>4.3</td>\n",
       "      <td>147.0</td>\n",
       "      <td>[\"XS\", \"S\", \"M\", \"L\"]</td>\n",
       "      <td>S</td>\n",
       "      <td>Black Pearl Textured Mesh</td>\n",
       "    </tr>\n",
       "    <tr>\n",
       "      <th>963</th>\n",
       "      <td>The Bralette Collection Mesh Front-close Bralette</td>\n",
       "      <td>20.0</td>\n",
       "      <td>9.99</td>\n",
       "      <td>https://www.victoriassecret.com/bras/shop-all-...</td>\n",
       "      <td>Victoria's Secret</td>\n",
       "      <td>Mesh Front-close Bralette</td>\n",
       "      <td>Victoriassecret US</td>\n",
       "      <td>Less is more: this little bralette is proof wi...</td>\n",
       "      <td>4.3</td>\n",
       "      <td>147.0</td>\n",
       "      <td>[\"XS\", \"S\", \"M\", \"L\"]</td>\n",
       "      <td>XS</td>\n",
       "      <td>Black Textured Mesh</td>\n",
       "    </tr>\n",
       "    <tr>\n",
       "      <th>965</th>\n",
       "      <td>The Bralette Collection Mesh Front-close Bralette</td>\n",
       "      <td>20.0</td>\n",
       "      <td>9.99</td>\n",
       "      <td>https://www.victoriassecret.com/bras/shop-all-...</td>\n",
       "      <td>Victoria's Secret</td>\n",
       "      <td>Mesh Front-close Bralette</td>\n",
       "      <td>Victoriassecret US</td>\n",
       "      <td>Less is more: this little bralette is proof wi...</td>\n",
       "      <td>4.3</td>\n",
       "      <td>147.0</td>\n",
       "      <td>[\"XS\", \"S\", \"M\", \"L\"]</td>\n",
       "      <td>L</td>\n",
       "      <td>Black Textured Mesh</td>\n",
       "    </tr>\n",
       "    <tr>\n",
       "      <th>966</th>\n",
       "      <td>The Bralette Collection Mesh Front-close Bralette</td>\n",
       "      <td>20.0</td>\n",
       "      <td>9.99</td>\n",
       "      <td>https://www.victoriassecret.com/bras/shop-all-...</td>\n",
       "      <td>Victoria's Secret</td>\n",
       "      <td>Mesh Front-close Bralette</td>\n",
       "      <td>Victoriassecret US</td>\n",
       "      <td>Less is more: this little bralette is proof wi...</td>\n",
       "      <td>4.3</td>\n",
       "      <td>147.0</td>\n",
       "      <td>[\"XS\", \"S\", \"M\", \"L\"]</td>\n",
       "      <td>L</td>\n",
       "      <td>Black Pearl Textured Mesh</td>\n",
       "    </tr>\n",
       "    <tr>\n",
       "      <th>...</th>\n",
       "      <td>...</td>\n",
       "      <td>...</td>\n",
       "      <td>...</td>\n",
       "      <td>...</td>\n",
       "      <td>...</td>\n",
       "      <td>...</td>\n",
       "      <td>...</td>\n",
       "      <td>...</td>\n",
       "      <td>...</td>\n",
       "      <td>...</td>\n",
       "      <td>...</td>\n",
       "      <td>...</td>\n",
       "      <td>...</td>\n",
       "    </tr>\n",
       "    <tr>\n",
       "      <th>449708</th>\n",
       "      <td>Cotton Lingerie NEW! High-Leg Brief Panty</td>\n",
       "      <td>8.5</td>\n",
       "      <td>8.50</td>\n",
       "      <td>https://www.victoriassecret.com/panties/shop-a...</td>\n",
       "      <td>Victoria's Secret</td>\n",
       "      <td>High-Leg Brief Panty</td>\n",
       "      <td>Victoriassecret US</td>\n",
       "      <td>Comfy and naturally sexy in silky-soft, stretc...</td>\n",
       "      <td>4.3</td>\n",
       "      <td>147.0</td>\n",
       "      <td>[\"XS\", \"S\", \"M\", \"L\", \"XL\"]</td>\n",
       "      <td>L</td>\n",
       "      <td>black dot print</td>\n",
       "    </tr>\n",
       "    <tr>\n",
       "      <th>449713</th>\n",
       "      <td>Cotton Lingerie NEW! High-Leg Brief Panty</td>\n",
       "      <td>8.5</td>\n",
       "      <td>8.50</td>\n",
       "      <td>https://www.victoriassecret.com/panties/shop-a...</td>\n",
       "      <td>Victoria's Secret</td>\n",
       "      <td>High-Leg Brief Panty</td>\n",
       "      <td>Victoriassecret US</td>\n",
       "      <td>Comfy and naturally sexy in silky-soft, stretc...</td>\n",
       "      <td>4.3</td>\n",
       "      <td>147.0</td>\n",
       "      <td>[\"XS\", \"S\", \"M\", \"L\", \"XL\"]</td>\n",
       "      <td>M</td>\n",
       "      <td>black</td>\n",
       "    </tr>\n",
       "    <tr>\n",
       "      <th>449718</th>\n",
       "      <td>Cotton Lingerie NEW! High-Leg Brief Panty</td>\n",
       "      <td>8.5</td>\n",
       "      <td>8.50</td>\n",
       "      <td>https://www.victoriassecret.com/panties/shop-a...</td>\n",
       "      <td>Victoria's Secret</td>\n",
       "      <td>High-Leg Brief Panty</td>\n",
       "      <td>Victoriassecret US</td>\n",
       "      <td>Comfy and naturally sexy in silky-soft, stretc...</td>\n",
       "      <td>4.3</td>\n",
       "      <td>147.0</td>\n",
       "      <td>[\"XS\", \"S\", \"M\", \"L\", \"XL\"]</td>\n",
       "      <td>M</td>\n",
       "      <td>black skinny stripe</td>\n",
       "    </tr>\n",
       "    <tr>\n",
       "      <th>449720</th>\n",
       "      <td>Cotton Lingerie NEW! High-Leg Brief Panty</td>\n",
       "      <td>8.5</td>\n",
       "      <td>8.50</td>\n",
       "      <td>https://www.victoriassecret.com/panties/shop-a...</td>\n",
       "      <td>Victoria's Secret</td>\n",
       "      <td>High-Leg Brief Panty</td>\n",
       "      <td>Victoriassecret US</td>\n",
       "      <td>Comfy and naturally sexy in silky-soft, stretc...</td>\n",
       "      <td>4.3</td>\n",
       "      <td>147.0</td>\n",
       "      <td>[\"XS\", \"S\", \"M\", \"L\", \"XL\"]</td>\n",
       "      <td>M</td>\n",
       "      <td>black pearl</td>\n",
       "    </tr>\n",
       "    <tr>\n",
       "      <th>449721</th>\n",
       "      <td>Cotton Lingerie NEW! High-Leg Brief Panty</td>\n",
       "      <td>8.5</td>\n",
       "      <td>8.50</td>\n",
       "      <td>https://www.victoriassecret.com/panties/shop-a...</td>\n",
       "      <td>Victoria's Secret</td>\n",
       "      <td>High-Leg Brief Panty</td>\n",
       "      <td>Victoriassecret US</td>\n",
       "      <td>Comfy and naturally sexy in silky-soft, stretc...</td>\n",
       "      <td>4.3</td>\n",
       "      <td>147.0</td>\n",
       "      <td>[\"XS\", \"S\", \"M\", \"L\", \"XL\"]</td>\n",
       "      <td>M</td>\n",
       "      <td>black dot print</td>\n",
       "    </tr>\n",
       "  </tbody>\n",
       "</table>\n",
       "<p>3113 rows × 13 columns</p>\n",
       "</div>"
      ],
      "text/plain": [
       "                                             product_name   mrp  price  \\\n",
       "960     The Bralette Collection Mesh Front-close Bralette  20.0   9.99   \n",
       "961     The Bralette Collection Mesh Front-close Bralette  20.0   9.99   \n",
       "963     The Bralette Collection Mesh Front-close Bralette  20.0   9.99   \n",
       "965     The Bralette Collection Mesh Front-close Bralette  20.0   9.99   \n",
       "966     The Bralette Collection Mesh Front-close Bralette  20.0   9.99   \n",
       "...                                                   ...   ...    ...   \n",
       "449708          Cotton Lingerie NEW! High-Leg Brief Panty   8.5   8.50   \n",
       "449713          Cotton Lingerie NEW! High-Leg Brief Panty   8.5   8.50   \n",
       "449718          Cotton Lingerie NEW! High-Leg Brief Panty   8.5   8.50   \n",
       "449720          Cotton Lingerie NEW! High-Leg Brief Panty   8.5   8.50   \n",
       "449721          Cotton Lingerie NEW! High-Leg Brief Panty   8.5   8.50   \n",
       "\n",
       "                                                  pdp_url         brand_name  \\\n",
       "960     https://www.victoriassecret.com/bras/shop-all-...  Victoria's Secret   \n",
       "961     https://www.victoriassecret.com/bras/shop-all-...  Victoria's Secret   \n",
       "963     https://www.victoriassecret.com/bras/shop-all-...  Victoria's Secret   \n",
       "965     https://www.victoriassecret.com/bras/shop-all-...  Victoria's Secret   \n",
       "966     https://www.victoriassecret.com/bras/shop-all-...  Victoria's Secret   \n",
       "...                                                   ...                ...   \n",
       "449708  https://www.victoriassecret.com/panties/shop-a...  Victoria's Secret   \n",
       "449713  https://www.victoriassecret.com/panties/shop-a...  Victoria's Secret   \n",
       "449718  https://www.victoriassecret.com/panties/shop-a...  Victoria's Secret   \n",
       "449720  https://www.victoriassecret.com/panties/shop-a...  Victoria's Secret   \n",
       "449721  https://www.victoriassecret.com/panties/shop-a...  Victoria's Secret   \n",
       "\n",
       "                 product_category            retailer  \\\n",
       "960     Mesh Front-close Bralette  Victoriassecret US   \n",
       "961     Mesh Front-close Bralette  Victoriassecret US   \n",
       "963     Mesh Front-close Bralette  Victoriassecret US   \n",
       "965     Mesh Front-close Bralette  Victoriassecret US   \n",
       "966     Mesh Front-close Bralette  Victoriassecret US   \n",
       "...                           ...                 ...   \n",
       "449708       High-Leg Brief Panty  Victoriassecret US   \n",
       "449713       High-Leg Brief Panty  Victoriassecret US   \n",
       "449718       High-Leg Brief Panty  Victoriassecret US   \n",
       "449720       High-Leg Brief Panty  Victoriassecret US   \n",
       "449721       High-Leg Brief Panty  Victoriassecret US   \n",
       "\n",
       "                                              description  rating  \\\n",
       "960     Less is more: this little bralette is proof wi...     4.3   \n",
       "961     Less is more: this little bralette is proof wi...     4.3   \n",
       "963     Less is more: this little bralette is proof wi...     4.3   \n",
       "965     Less is more: this little bralette is proof wi...     4.3   \n",
       "966     Less is more: this little bralette is proof wi...     4.3   \n",
       "...                                                   ...     ...   \n",
       "449708  Comfy and naturally sexy in silky-soft, stretc...     4.3   \n",
       "449713  Comfy and naturally sexy in silky-soft, stretc...     4.3   \n",
       "449718  Comfy and naturally sexy in silky-soft, stretc...     4.3   \n",
       "449720  Comfy and naturally sexy in silky-soft, stretc...     4.3   \n",
       "449721  Comfy and naturally sexy in silky-soft, stretc...     4.3   \n",
       "\n",
       "        review_count                  total_sizes available_size  \\\n",
       "960            147.0        [\"XS\", \"S\", \"M\", \"L\"]              S   \n",
       "961            147.0        [\"XS\", \"S\", \"M\", \"L\"]              S   \n",
       "963            147.0        [\"XS\", \"S\", \"M\", \"L\"]             XS   \n",
       "965            147.0        [\"XS\", \"S\", \"M\", \"L\"]              L   \n",
       "966            147.0        [\"XS\", \"S\", \"M\", \"L\"]              L   \n",
       "...              ...                          ...            ...   \n",
       "449708         147.0  [\"XS\", \"S\", \"M\", \"L\", \"XL\"]              L   \n",
       "449713         147.0  [\"XS\", \"S\", \"M\", \"L\", \"XL\"]              M   \n",
       "449718         147.0  [\"XS\", \"S\", \"M\", \"L\", \"XL\"]              M   \n",
       "449720         147.0  [\"XS\", \"S\", \"M\", \"L\", \"XL\"]              M   \n",
       "449721         147.0  [\"XS\", \"S\", \"M\", \"L\", \"XL\"]              M   \n",
       "\n",
       "                            color  \n",
       "960           Black Textured Mesh  \n",
       "961     Black Pearl Textured Mesh  \n",
       "963           Black Textured Mesh  \n",
       "965           Black Textured Mesh  \n",
       "966     Black Pearl Textured Mesh  \n",
       "...                           ...  \n",
       "449708            black dot print  \n",
       "449713                      black  \n",
       "449718        black skinny stripe  \n",
       "449720                black pearl  \n",
       "449721            black dot print  \n",
       "\n",
       "[3113 rows x 13 columns]"
      ]
     },
     "execution_count": 145,
     "metadata": {},
     "output_type": "execute_result"
    }
   ],
   "source": [
    "# solution 1 \n",
    "df5 = df[\n",
    "        (df[\"price\"] <=10) \n",
    "        & (df[\"color\"].str.contains(\"black\" or \"white\",    # within contains() , have to use \"or\" instead of \"|\"\n",
    "                                    regex = False, \n",
    "                                    case=False)) ]\n",
    "df5"
   ]
  },
  {
   "cell_type": "code",
   "execution_count": 142,
   "metadata": {},
   "outputs": [
    {
     "data": {
      "text/plain": [
       "Victoria Sport Knockout by Victoria Sport Front-Close Sport Bra           2940\n",
       "Victoria Sport NEW! Incredible by Victoria Sport Front-close Sport Bra    2579\n",
       "Victoria Sport Incredible by Victoria Sport Bra                           2558\n",
       "Body by Victoria Perfect Coverage Bra                                     2416\n",
       "Very Sexy NEW! Push-Up Bra                                                2414\n",
       "                                                                          ... \n",
       "PINK NEW! Washed Canvas Tote                                                 3\n",
       "PINK NEW! Sport Duffle                                                       3\n",
       "Cotton Lingerie Bikini Panty                                                 2\n",
       "Very Sexy Heart Lace Garter Belt                                             2\n",
       "PINK New! Wear Everywhere Multi-way Push-Up Bra                              1\n",
       "Name: product_name, Length: 502, dtype: int64"
      ]
     },
     "execution_count": 142,
     "metadata": {},
     "output_type": "execute_result"
    }
   ],
   "source": [
    "# solution2\n",
    "df_bw = df.loc[(df[\"price\"] < 10) & (df[\"color\"].str.contains(\"black|white\", regex = False, case=False)) | (df[\"color\"].str.contains(\"black\", regex = False, case=False))]\n",
    "df_bw['product_name'].value_counts()"
   ]
  },
  {
   "cell_type": "code",
   "execution_count": 143,
   "metadata": {},
   "outputs": [
    {
     "data": {
      "text/plain": [
       "array(['black', 'Black', 'Black Marl', 'Blackberry',\n",
       "       'Black/Victoria Sport Logo Waistband',\n",
       "       'White/Victoria Sport Logo/Black Waistband', 'pure black',\n",
       "       'Black on Black', 'Black Lace with Nude', 'Black Textured Mesh',\n",
       "       'Black Pearl Textured Mesh', 'Black Lace Mix',\n",
       "       'Black with Wildflower Lace Back', 'Black Lace Back', 'Black Lace',\n",
       "       'Black/White Confetti', 'Royal Sapphire/Black Mesh',\n",
       "       'Black/White Blended Swirl', 'Black/Blocked Curves',\n",
       "       'Black Strappy Back', 'black lace', 'black pearl',\n",
       "       'black monkey print', 'Black with Chantilly Lace',\n",
       "       'black skinny stripe', 'black dot print', 'black chevron print',\n",
       "       'Black Crochet Lace', 'Black Scalloped Lace',\n",
       "       'Black Pearl Linear Lace', 'black triangle print',\n",
       "       'Black Pearl Matte', 'Black Matte', 'Black Palm Print',\n",
       "       'Black Wildflower Lace',\n",
       "       'Front-Close Black with Wildflower Lace Back', 'Black Pearl',\n",
       "       'Black Dynasty Lace', 'Front Close Black Lace Back',\n",
       "       'Black Triangle Lace Racerback', 'black scalloped',\n",
       "       'black daisy lace', 'black gypsy floral print', 'Black Pearl Mesh',\n",
       "       'Black Mesh', 'black tropical', 'morrocan blue with black',\n",
       "       'pure black with pink graphic', 'black floral',\n",
       "       'Palma Brama Black Print', 'Black w/ Metropolis',\n",
       "       'Black with Metropolis Crossdye', 'Black Solid Lace',\n",
       "       'black with lace trim', 'black prchid', 'Embroidered Black',\n",
       "       'Black with New Nude', 'black white tropical', 'black marl',\n",
       "       'black orchid', 'Black Crossdye', 'Black Pearl Lace Back',\n",
       "       'Black with Metropolis', 'black palm', 'Black Wrap',\n",
       "       'White/Black Mesh', 'Black Pearl/Neon Coral Mesh',\n",
       "       'black lace print', 'iconic pink black dots print',\n",
       "       'black floral mesh print', 'pure black embroidered',\n",
       "       'black with black binding', 'neon coral with black binding',\n",
       "       'bronzer with black binding', 'violet frost with black binding',\n",
       "       'black and white', 'black/white marble',\n",
       "       'Black with Metropolis Solid Lace',\n",
       "       'black with sunset back straps', 'black pearl tiles print',\n",
       "       'black rose embroidery', 'black logo', 'black exploded palm',\n",
       "       'black bold logo', 'black pearl bold logo', 'black overt marl',\n",
       "       'Black and White', 'Black with Nude Lace',\n",
       "       'Front-Close Black Lace with Nude', 'heather silver/black waist',\n",
       "       'grey marl with black straps', 'pure black hibiscus graphic',\n",
       "       'black diamond squares print', 'black victoria logo',\n",
       "       'Front-Close Black with Lace Back', 'Black Matte Solid',\n",
       "       'Black Pearl Matte Solid', 'Black Crochet Lace Back',\n",
       "       'Black Blocked Curves', 'black/rose', 'black splatter',\n",
       "       'Black Splatter', 'black mix stripe',\n",
       "       'black and white heart print',\n",
       "       'Black Lace with Chantilly Lace Back Detail', 'black 80s print',\n",
       "       'black marble', 'black with all over pink print',\n",
       "       'matisse blue and black', 'Black/White Stripe',\n",
       "       'Black Lace with New Nude', 'Black Monofilament',\n",
       "       'front-close black', 'black crochet lace', 'Black Melange',\n",
       "       'Black Strappy', 'Black Peek-a-Boo', 'Black Daisy Lace Back',\n",
       "       'Black/Victoria Sport Logo', 'Black on Black Victoria Sport Logo',\n",
       "       'Black Marl/Victoria Sport Logo', 'black/White logo',\n",
       "       'Almost Black', 'Black w/ Black Lace', 'black mesh',\n",
       "       'pure black/ infinity grey irridescent logo',\n",
       "       'pure black/ mauve piecing', 'Pure Black/ irridescent logo',\n",
       "       'washed pure black', 'heather charcoal/pure black',\n",
       "       'Black graphic', 'black all over pink font',\n",
       "       'Silver Sea with Black Pearl Crossdye',\n",
       "       'Black/White Blocked Curves', 'Black Pearl/Rainbow VSX Graphic',\n",
       "       'Black/Rock the Runway', 'Black/White Marl',\n",
       "       'Black Traced Chevron', 'Black/White Dot Marl',\n",
       "       'White/Black Victoria Sport Logo', 'Black/White Blocking',\n",
       "       'Black/Red Victoria Sport Logo', 'Black Pearl/Victoria Sport Logo',\n",
       "       'silver sea with black pearl crossdye', 'Black/Zig Zag',\n",
       "       'Black/Mesh', 'Black Daisy Lace', 'Black Crochet Back',\n",
       "       'black hearts print', 'black/pink marble print',\n",
       "       'pure black logo print', 'pure black bling', 'black orchid bling',\n",
       "       'pure black/ triumph white', 'pure black/ jet stream blue/ marl',\n",
       "       'triumph white/pure black', 'pure black shine', 'almost black',\n",
       "       'Front-Close Black', 'pure black embellished', 'black lace trim',\n",
       "       'black chevron print lace trim'], dtype=object)"
      ]
     },
     "execution_count": 143,
     "metadata": {},
     "output_type": "execute_result"
    }
   ],
   "source": [
    "df_bw['color'].unique()"
   ]
  },
  {
   "cell_type": "markdown",
   "metadata": {
    "heading_collapsed": true,
    "hidden": true
   },
   "source": [
    "#### Question 2\n",
    "\n",
    "What are the cheapest products which exists in size 36B? In which colors are they available?"
   ]
  },
  {
   "attachments": {},
   "cell_type": "markdown",
   "metadata": {},
   "source": [
    "###### solution1"
   ]
  },
  {
   "cell_type": "code",
   "execution_count": 13,
   "metadata": {},
   "outputs": [
    {
     "data": {
      "text/html": [
       "<div>\n",
       "<style scoped>\n",
       "    .dataframe tbody tr th:only-of-type {\n",
       "        vertical-align: middle;\n",
       "    }\n",
       "\n",
       "    .dataframe tbody tr th {\n",
       "        vertical-align: top;\n",
       "    }\n",
       "\n",
       "    .dataframe thead th {\n",
       "        text-align: right;\n",
       "    }\n",
       "</style>\n",
       "<table border=\"1\" class=\"dataframe\">\n",
       "  <thead>\n",
       "    <tr style=\"text-align: right;\">\n",
       "      <th></th>\n",
       "      <th>product_name</th>\n",
       "      <th>mrp</th>\n",
       "      <th>price</th>\n",
       "      <th>pdp_url</th>\n",
       "      <th>brand_name</th>\n",
       "      <th>product_category</th>\n",
       "      <th>retailer</th>\n",
       "      <th>description</th>\n",
       "      <th>rating</th>\n",
       "      <th>review_count</th>\n",
       "      <th>total_sizes</th>\n",
       "      <th>available_size</th>\n",
       "      <th>color</th>\n",
       "    </tr>\n",
       "  </thead>\n",
       "  <tbody>\n",
       "    <tr>\n",
       "      <th>0</th>\n",
       "      <td>Very Sexy Strappy Lace Thong Panty</td>\n",
       "      <td>14.5</td>\n",
       "      <td>14.5</td>\n",
       "      <td>https://www.victoriassecret.com/panties/shop-a...</td>\n",
       "      <td>Victoria's Secret</td>\n",
       "      <td>Strappy Lace Thong Panty</td>\n",
       "      <td>Victoriassecret US</td>\n",
       "      <td>Lots of cheek peek, pretty lace, a strappy bac...</td>\n",
       "      <td>4.3</td>\n",
       "      <td>147.0</td>\n",
       "      <td>[\"XS\", \"S\", \"M\", \"L\", \"XL\"]</td>\n",
       "      <td>S</td>\n",
       "      <td>peach melba</td>\n",
       "    </tr>\n",
       "    <tr>\n",
       "      <th>1</th>\n",
       "      <td>Very Sexy Strappy Lace Thong Panty</td>\n",
       "      <td>14.5</td>\n",
       "      <td>14.5</td>\n",
       "      <td>https://www.victoriassecret.com/panties/shop-a...</td>\n",
       "      <td>Victoria's Secret</td>\n",
       "      <td>Strappy Lace Thong Panty</td>\n",
       "      <td>Victoriassecret US</td>\n",
       "      <td>Lots of cheek peek, pretty lace, a strappy bac...</td>\n",
       "      <td>4.3</td>\n",
       "      <td>147.0</td>\n",
       "      <td>[\"XS\", \"S\", \"M\", \"L\", \"XL\"]</td>\n",
       "      <td>S</td>\n",
       "      <td>black</td>\n",
       "    </tr>\n",
       "    <tr>\n",
       "      <th>2</th>\n",
       "      <td>Very Sexy Strappy Lace Thong Panty</td>\n",
       "      <td>14.5</td>\n",
       "      <td>14.5</td>\n",
       "      <td>https://www.victoriassecret.com/panties/shop-a...</td>\n",
       "      <td>Victoria's Secret</td>\n",
       "      <td>Strappy Lace Thong Panty</td>\n",
       "      <td>Victoriassecret US</td>\n",
       "      <td>Lots of cheek peek, pretty lace, a strappy bac...</td>\n",
       "      <td>4.3</td>\n",
       "      <td>147.0</td>\n",
       "      <td>[\"XS\", \"S\", \"M\", \"L\", \"XL\"]</td>\n",
       "      <td>S</td>\n",
       "      <td>plum dust</td>\n",
       "    </tr>\n",
       "    <tr>\n",
       "      <th>3</th>\n",
       "      <td>Very Sexy Strappy Lace Thong Panty</td>\n",
       "      <td>14.5</td>\n",
       "      <td>14.5</td>\n",
       "      <td>https://www.victoriassecret.com/panties/shop-a...</td>\n",
       "      <td>Victoria's Secret</td>\n",
       "      <td>Strappy Lace Thong Panty</td>\n",
       "      <td>Victoriassecret US</td>\n",
       "      <td>Lots of cheek peek, pretty lace, a strappy bac...</td>\n",
       "      <td>4.3</td>\n",
       "      <td>147.0</td>\n",
       "      <td>[\"XS\", \"S\", \"M\", \"L\", \"XL\"]</td>\n",
       "      <td>S</td>\n",
       "      <td>ensign blue</td>\n",
       "    </tr>\n",
       "    <tr>\n",
       "      <th>4</th>\n",
       "      <td>Very Sexy Strappy Lace Thong Panty</td>\n",
       "      <td>14.5</td>\n",
       "      <td>14.5</td>\n",
       "      <td>https://www.victoriassecret.com/panties/shop-a...</td>\n",
       "      <td>Victoria's Secret</td>\n",
       "      <td>Strappy Lace Thong Panty</td>\n",
       "      <td>Victoriassecret US</td>\n",
       "      <td>Lots of cheek peek, pretty lace, a strappy bac...</td>\n",
       "      <td>4.3</td>\n",
       "      <td>147.0</td>\n",
       "      <td>[\"XS\", \"S\", \"M\", \"L\", \"XL\"]</td>\n",
       "      <td>S</td>\n",
       "      <td>fair orchid</td>\n",
       "    </tr>\n",
       "  </tbody>\n",
       "</table>\n",
       "</div>"
      ],
      "text/plain": [
       "                         product_name   mrp  price  \\\n",
       "0  Very Sexy Strappy Lace Thong Panty  14.5   14.5   \n",
       "1  Very Sexy Strappy Lace Thong Panty  14.5   14.5   \n",
       "2  Very Sexy Strappy Lace Thong Panty  14.5   14.5   \n",
       "3  Very Sexy Strappy Lace Thong Panty  14.5   14.5   \n",
       "4  Very Sexy Strappy Lace Thong Panty  14.5   14.5   \n",
       "\n",
       "                                             pdp_url         brand_name  \\\n",
       "0  https://www.victoriassecret.com/panties/shop-a...  Victoria's Secret   \n",
       "1  https://www.victoriassecret.com/panties/shop-a...  Victoria's Secret   \n",
       "2  https://www.victoriassecret.com/panties/shop-a...  Victoria's Secret   \n",
       "3  https://www.victoriassecret.com/panties/shop-a...  Victoria's Secret   \n",
       "4  https://www.victoriassecret.com/panties/shop-a...  Victoria's Secret   \n",
       "\n",
       "           product_category            retailer  \\\n",
       "0  Strappy Lace Thong Panty  Victoriassecret US   \n",
       "1  Strappy Lace Thong Panty  Victoriassecret US   \n",
       "2  Strappy Lace Thong Panty  Victoriassecret US   \n",
       "3  Strappy Lace Thong Panty  Victoriassecret US   \n",
       "4  Strappy Lace Thong Panty  Victoriassecret US   \n",
       "\n",
       "                                         description  rating  review_count  \\\n",
       "0  Lots of cheek peek, pretty lace, a strappy bac...     4.3         147.0   \n",
       "1  Lots of cheek peek, pretty lace, a strappy bac...     4.3         147.0   \n",
       "2  Lots of cheek peek, pretty lace, a strappy bac...     4.3         147.0   \n",
       "3  Lots of cheek peek, pretty lace, a strappy bac...     4.3         147.0   \n",
       "4  Lots of cheek peek, pretty lace, a strappy bac...     4.3         147.0   \n",
       "\n",
       "                   total_sizes available_size        color  \n",
       "0  [\"XS\", \"S\", \"M\", \"L\", \"XL\"]              S  peach melba  \n",
       "1  [\"XS\", \"S\", \"M\", \"L\", \"XL\"]              S        black  \n",
       "2  [\"XS\", \"S\", \"M\", \"L\", \"XL\"]              S    plum dust  \n",
       "3  [\"XS\", \"S\", \"M\", \"L\", \"XL\"]              S  ensign blue  \n",
       "4  [\"XS\", \"S\", \"M\", \"L\", \"XL\"]              S  fair orchid  "
      ]
     },
     "execution_count": 13,
     "metadata": {},
     "output_type": "execute_result"
    }
   ],
   "source": [
    "df.head()"
   ]
  },
  {
   "cell_type": "code",
   "execution_count": 14,
   "metadata": {},
   "outputs": [
    {
     "data": {
      "text/plain": [
       "Series([], Name: product_name, dtype: int64)"
      ]
     },
     "execution_count": 14,
     "metadata": {},
     "output_type": "execute_result"
    }
   ],
   "source": [
    "df_c = df[\n",
    "        (df[\"price\"] == df[\"price\"].min()) \n",
    "        & df[\"available_size\"] == \"36B\"\n",
    "        ]\n",
    "df_c['product_name'].value_counts()\n",
    "\n"
   ]
  },
  {
   "cell_type": "code",
   "execution_count": 15,
   "metadata": {},
   "outputs": [
    {
     "data": {
      "text/plain": [
       "array([], dtype=object)"
      ]
     },
     "execution_count": 15,
     "metadata": {},
     "output_type": "execute_result"
    }
   ],
   "source": [
    "df_c[\"color\"].unique()"
   ]
  },
  {
   "cell_type": "code",
   "execution_count": 16,
   "metadata": {
    "hidden": true
   },
   "outputs": [
    {
     "data": {
      "text/plain": [
       "array(['white', 'nude'], dtype=object)"
      ]
     },
     "execution_count": 16,
     "metadata": {},
     "output_type": "execute_result"
    }
   ],
   "source": [
    "# more combined solution of above\n",
    "df = df[df[\"available_size\"] == \"36B\"]\n",
    "min_price = df[\"price\"].min()\n",
    "df = df[df[\"price\"] == min_price]\n",
    "unique_colors = df[\"color\"].unique()\n",
    "unique_colors "
   ]
  },
  {
   "cell_type": "code",
   "execution_count": 17,
   "metadata": {},
   "outputs": [
    {
     "data": {
      "text/plain": [
       "array(['white', 'nude'], dtype=object)"
      ]
     },
     "execution_count": 17,
     "metadata": {},
     "output_type": "execute_result"
    }
   ],
   "source": [
    "# solution3 \n",
    "df_36b = df.loc[df[\"available_size\"] == \"36B\"]\n",
    "min_price = df_36b[\"price\"].min()\n",
    "df6 = df[df[\"price\"] == min_price]\n",
    "unique_colors = df6[\"color\"].unique()\n",
    "unique_colors "
   ]
  },
  {
   "cell_type": "code",
   "execution_count": 18,
   "metadata": {},
   "outputs": [
    {
     "data": {
      "text/plain": [
       "Dream Angels Demi Bra    2\n",
       "Name: product_name, dtype: int64"
      ]
     },
     "execution_count": 18,
     "metadata": {},
     "output_type": "execute_result"
    }
   ],
   "source": [
    "df6['product_name'].value_counts()"
   ]
  },
  {
   "attachments": {},
   "cell_type": "markdown",
   "metadata": {},
   "source": [
    "answer  </br>\n",
    "Dream Angels Demi Bra    2 </br>\n",
    "Name: product_name, dtype: int64"
   ]
  },
  {
   "attachments": {},
   "cell_type": "markdown",
   "metadata": {},
   "source": [
    "###### solution2"
   ]
  },
  {
   "cell_type": "code",
   "execution_count": 20,
   "metadata": {},
   "outputs": [
    {
     "data": {
      "text/plain": [
       "Dream Angels Demi Bra    2\n",
       "Name: product_name, dtype: int64"
      ]
     },
     "execution_count": 20,
     "metadata": {},
     "output_type": "execute_result"
    }
   ],
   "source": [
    "# solution2\n",
    "df_36b = df.loc[df[\"available_size\"] == \"36B\"]\n",
    "minp = df_36b[\"price\"].min()\n",
    "df_36b.loc[df_36b['price'] == minp]['product_name'].value_counts()"
   ]
  },
  {
   "cell_type": "code",
   "execution_count": 151,
   "metadata": {},
   "outputs": [
    {
     "name": "stdout",
     "output_type": "stream",
     "text": [
      "[0.025139197999999998, 0.028945842, 0.033140934, 0.0445842, 5.0, 9.99, 12.99, 14.99, 16.99, 17.99, 19.99, 20.0, 21.99, 23.99, 24.99, 29.5, 29.99, 30.0, 32.0, 32.5, 32.95, 34.5, 34.95, 34.99, 36.0, 36.5, 38.0, 39.5, 39.99, 42.5, 44.5, 46.5, 48.0, 48.5, 49.5, 52.5, 54.5, 55.5, 58.0, 58.5, 59.5, 62.5, 64.5, 68.0, 78.0, 98.0]\n"
     ]
    },
    {
     "data": {
      "text/plain": [
       "(5.0, 9.99)"
      ]
     },
     "execution_count": 151,
     "metadata": {},
     "output_type": "execute_result"
    }
   ],
   "source": [
    "# what is the second lowest price\n",
    "\n",
    "ps = sorted(df_36b['price'].unique())\n",
    "print(ps)\n",
    "ps = ps[4:]\n",
    "minp = ps[0]\n",
    "sd_to_min = ps[1]\n",
    "minp,sd_to_min"
   ]
  },
  {
   "cell_type": "code",
   "execution_count": 152,
   "metadata": {},
   "outputs": [
    {
     "data": {
      "text/plain": [
       "Victoria Sport Lightweight by Victoria Sport Bra    23\n",
       "Name: product_name, dtype: int64"
      ]
     },
     "execution_count": 152,
     "metadata": {},
     "output_type": "execute_result"
    }
   ],
   "source": [
    "# the product name of sd lowest price \n",
    "df_36b.loc[df_36b['price'] == minp]['product_name'].value_counts()"
   ]
  },
  {
   "cell_type": "code",
   "execution_count": 154,
   "metadata": {},
   "outputs": [
    {
     "data": {
      "text/plain": [
       "product_name                                      color                    \n",
       "Victoria Sport Lightweight by Victoria Sport Bra  Black                        1\n",
       "                                                  Hello Lovely                 1\n",
       "                                                  White                        1\n",
       "                                                  Wavy Arrows                  1\n",
       "                                                  Warm Spraypaint Triangles    1\n",
       "                                                  Tinted Plum Mesh Curves      1\n",
       "                                                  Seychelles                   1\n",
       "                                                  Red Sacred Geometry          1\n",
       "                                                  Red Geometric                1\n",
       "                                                  Purple Rapture               1\n",
       "                                                  Inkblot Colorblock           1\n",
       "                                                  Grey Oasis Monofilament      1\n",
       "                                                  Black Blocked Curves         1\n",
       "                                                  Grey Oasis                   1\n",
       "                                                  Firework Texture             1\n",
       "                                                  Endless Orange               1\n",
       "                                                  Cool Textile Stripe          1\n",
       "                                                  Cool Rainbow Rings           1\n",
       "                                                  Border Line                  1\n",
       "                                                  Blue Camo Zebra              1\n",
       "                                                  Black Monofilament           1\n",
       "                                                  Black Marl                   1\n",
       "                                                  White Colorblock             1\n",
       "dtype: int64"
      ]
     },
     "execution_count": 154,
     "metadata": {},
     "output_type": "execute_result"
    }
   ],
   "source": [
    "df_36b.loc[df_36b['price'] == minp][['product_name','color']].value_counts()"
   ]
  },
  {
   "cell_type": "code",
   "execution_count": 25,
   "metadata": {},
   "outputs": [],
   "source": [
    "df_36b['discount'] = df['mrp'] - df['price']   # add a new column 'discount'"
   ]
  },
  {
   "cell_type": "code",
   "execution_count": 26,
   "metadata": {},
   "outputs": [
    {
     "data": {
      "text/html": [
       "<div>\n",
       "<style scoped>\n",
       "    .dataframe tbody tr th:only-of-type {\n",
       "        vertical-align: middle;\n",
       "    }\n",
       "\n",
       "    .dataframe tbody tr th {\n",
       "        vertical-align: top;\n",
       "    }\n",
       "\n",
       "    .dataframe thead th {\n",
       "        text-align: right;\n",
       "    }\n",
       "</style>\n",
       "<table border=\"1\" class=\"dataframe\">\n",
       "  <thead>\n",
       "    <tr style=\"text-align: right;\">\n",
       "      <th></th>\n",
       "      <th>product_name</th>\n",
       "      <th>mrp</th>\n",
       "      <th>price</th>\n",
       "      <th>pdp_url</th>\n",
       "      <th>brand_name</th>\n",
       "      <th>product_category</th>\n",
       "      <th>retailer</th>\n",
       "      <th>description</th>\n",
       "      <th>rating</th>\n",
       "      <th>review_count</th>\n",
       "      <th>total_sizes</th>\n",
       "      <th>available_size</th>\n",
       "      <th>color</th>\n",
       "      <th>discount_%_price</th>\n",
       "    </tr>\n",
       "    <tr>\n",
       "      <th>discount</th>\n",
       "      <th></th>\n",
       "      <th></th>\n",
       "      <th></th>\n",
       "      <th></th>\n",
       "      <th></th>\n",
       "      <th></th>\n",
       "      <th></th>\n",
       "      <th></th>\n",
       "      <th></th>\n",
       "      <th></th>\n",
       "      <th></th>\n",
       "      <th></th>\n",
       "      <th></th>\n",
       "      <th></th>\n",
       "    </tr>\n",
       "  </thead>\n",
       "  <tbody>\n",
       "    <tr>\n",
       "      <th>0.018869</th>\n",
       "      <td>Dream Angels Demi Bra</td>\n",
       "      <td>0.044008</td>\n",
       "      <td>0.025139</td>\n",
       "      <td>https://www.victoriassecret.com/bras/shop-all-...</td>\n",
       "      <td>Victoria's Secret</td>\n",
       "      <td>Demi Bra</td>\n",
       "      <td>Victoriassecret US</td>\n",
       "      <td>This dreamy demi is even more heavenly, with s...</td>\n",
       "      <td>4.3</td>\n",
       "      <td>147.0</td>\n",
       "      <td>[\"32A\", \"32B\", \"32C\", \"32D\", \"32DD\", \"32DDD\", ...</td>\n",
       "      <td>36B</td>\n",
       "      <td>white</td>\n",
       "      <td>75.0586</td>\n",
       "    </tr>\n",
       "  </tbody>\n",
       "</table>\n",
       "</div>"
      ],
      "text/plain": [
       "                   product_name       mrp     price  \\\n",
       "discount                                              \n",
       "0.018869  Dream Angels Demi Bra  0.044008  0.025139   \n",
       "\n",
       "                                                    pdp_url  \\\n",
       "discount                                                      \n",
       "0.018869  https://www.victoriassecret.com/bras/shop-all-...   \n",
       "\n",
       "                 brand_name product_category            retailer  \\\n",
       "discount                                                           \n",
       "0.018869  Victoria's Secret         Demi Bra  Victoriassecret US   \n",
       "\n",
       "                                                description  rating  \\\n",
       "discount                                                              \n",
       "0.018869  This dreamy demi is even more heavenly, with s...     4.3   \n",
       "\n",
       "          review_count                                        total_sizes  \\\n",
       "discount                                                                    \n",
       "0.018869         147.0  [\"32A\", \"32B\", \"32C\", \"32D\", \"32DD\", \"32DDD\", ...   \n",
       "\n",
       "         available_size  color  discount_%_price  \n",
       "discount                                          \n",
       "0.018869            36B  white           75.0586  "
      ]
     },
     "execution_count": 26,
     "metadata": {},
     "output_type": "execute_result"
    }
   ],
   "source": [
    "df_36b.groupby('discount').max().sort_values('discount',ascending=False).head()"
   ]
  },
  {
   "attachments": {},
   "cell_type": "markdown",
   "metadata": {},
   "source": [
    "divide the column"
   ]
  },
  {
   "cell_type": "code",
   "execution_count": 27,
   "metadata": {},
   "outputs": [],
   "source": [
    "# new column 'discount_%_price'\n",
    "df_36b['discount_%_price'] = ( df_36b['discount'] / df_36b['price'] ) *100"
   ]
  },
  {
   "cell_type": "code",
   "execution_count": 28,
   "metadata": {},
   "outputs": [
    {
     "data": {
      "text/html": [
       "<div>\n",
       "<style scoped>\n",
       "    .dataframe tbody tr th:only-of-type {\n",
       "        vertical-align: middle;\n",
       "    }\n",
       "\n",
       "    .dataframe tbody tr th {\n",
       "        vertical-align: top;\n",
       "    }\n",
       "\n",
       "    .dataframe thead th {\n",
       "        text-align: right;\n",
       "    }\n",
       "</style>\n",
       "<table border=\"1\" class=\"dataframe\">\n",
       "  <thead>\n",
       "    <tr style=\"text-align: right;\">\n",
       "      <th></th>\n",
       "      <th>product_name</th>\n",
       "      <th>mrp</th>\n",
       "      <th>price</th>\n",
       "      <th>pdp_url</th>\n",
       "      <th>brand_name</th>\n",
       "      <th>product_category</th>\n",
       "      <th>retailer</th>\n",
       "      <th>description</th>\n",
       "      <th>rating</th>\n",
       "      <th>review_count</th>\n",
       "      <th>total_sizes</th>\n",
       "      <th>available_size</th>\n",
       "      <th>color</th>\n",
       "      <th>discount</th>\n",
       "      <th>discount_%_price</th>\n",
       "    </tr>\n",
       "  </thead>\n",
       "  <tbody>\n",
       "    <tr>\n",
       "      <th>222646</th>\n",
       "      <td>Dream Angels Demi Bra</td>\n",
       "      <td>0.044008</td>\n",
       "      <td>0.025139</td>\n",
       "      <td>https://www.victoriassecret.com/bras/shop-all-...</td>\n",
       "      <td>Victoria's Secret</td>\n",
       "      <td>Demi Bra</td>\n",
       "      <td>Victoriassecret US</td>\n",
       "      <td>This dreamy demi is even more heavenly, with s...</td>\n",
       "      <td>4.3</td>\n",
       "      <td>147.0</td>\n",
       "      <td>[\"32A\", \"32B\", \"32C\", \"32D\", \"32DD\", \"32DDD\", ...</td>\n",
       "      <td>36B</td>\n",
       "      <td>white</td>\n",
       "      <td>0.018869</td>\n",
       "      <td>75.0586</td>\n",
       "    </tr>\n",
       "    <tr>\n",
       "      <th>222647</th>\n",
       "      <td>Dream Angels Demi Bra</td>\n",
       "      <td>0.044008</td>\n",
       "      <td>0.025139</td>\n",
       "      <td>https://www.victoriassecret.com/bras/shop-all-...</td>\n",
       "      <td>Victoria's Secret</td>\n",
       "      <td>Demi Bra</td>\n",
       "      <td>Victoriassecret US</td>\n",
       "      <td>This dreamy demi is even more heavenly, with s...</td>\n",
       "      <td>4.3</td>\n",
       "      <td>147.0</td>\n",
       "      <td>[\"32A\", \"32B\", \"32C\", \"32D\", \"32DD\", \"32DDD\", ...</td>\n",
       "      <td>36B</td>\n",
       "      <td>nude</td>\n",
       "      <td>0.018869</td>\n",
       "      <td>75.0586</td>\n",
       "    </tr>\n",
       "  </tbody>\n",
       "</table>\n",
       "</div>"
      ],
      "text/plain": [
       "                 product_name       mrp     price  \\\n",
       "222646  Dream Angels Demi Bra  0.044008  0.025139   \n",
       "222647  Dream Angels Demi Bra  0.044008  0.025139   \n",
       "\n",
       "                                                  pdp_url         brand_name  \\\n",
       "222646  https://www.victoriassecret.com/bras/shop-all-...  Victoria's Secret   \n",
       "222647  https://www.victoriassecret.com/bras/shop-all-...  Victoria's Secret   \n",
       "\n",
       "       product_category            retailer  \\\n",
       "222646         Demi Bra  Victoriassecret US   \n",
       "222647         Demi Bra  Victoriassecret US   \n",
       "\n",
       "                                              description  rating  \\\n",
       "222646  This dreamy demi is even more heavenly, with s...     4.3   \n",
       "222647  This dreamy demi is even more heavenly, with s...     4.3   \n",
       "\n",
       "        review_count                                        total_sizes  \\\n",
       "222646         147.0  [\"32A\", \"32B\", \"32C\", \"32D\", \"32DD\", \"32DDD\", ...   \n",
       "222647         147.0  [\"32A\", \"32B\", \"32C\", \"32D\", \"32DD\", \"32DDD\", ...   \n",
       "\n",
       "       available_size  color  discount  discount_%_price  \n",
       "222646            36B  white  0.018869           75.0586  \n",
       "222647            36B   nude  0.018869           75.0586  "
      ]
     },
     "execution_count": 28,
     "metadata": {},
     "output_type": "execute_result"
    }
   ],
   "source": [
    "df_36b.groupby('discount_%_price').max().sort_values('discount_%_price',ascending=False).head()\n",
    "\n",
    "df_36b"
   ]
  },
  {
   "cell_type": "code",
   "execution_count": 36,
   "metadata": {},
   "outputs": [
    {
     "data": {
      "text/html": [
       "<div>\n",
       "<style scoped>\n",
       "    .dataframe tbody tr th:only-of-type {\n",
       "        vertical-align: middle;\n",
       "    }\n",
       "\n",
       "    .dataframe tbody tr th {\n",
       "        vertical-align: top;\n",
       "    }\n",
       "\n",
       "    .dataframe thead th {\n",
       "        text-align: right;\n",
       "    }\n",
       "</style>\n",
       "<table border=\"1\" class=\"dataframe\">\n",
       "  <thead>\n",
       "    <tr style=\"text-align: right;\">\n",
       "      <th></th>\n",
       "      <th>product_name</th>\n",
       "      <th>mrp</th>\n",
       "      <th>price</th>\n",
       "      <th>pdp_url</th>\n",
       "      <th>brand_name</th>\n",
       "      <th>product_category</th>\n",
       "      <th>retailer</th>\n",
       "      <th>description</th>\n",
       "      <th>rating</th>\n",
       "      <th>review_count</th>\n",
       "      <th>total_sizes</th>\n",
       "      <th>available_size</th>\n",
       "      <th>color</th>\n",
       "      <th>discount</th>\n",
       "      <th>discount_%_price</th>\n",
       "    </tr>\n",
       "  </thead>\n",
       "  <tbody>\n",
       "    <tr>\n",
       "      <th>222646</th>\n",
       "      <td>Dream Angels Demi Bra</td>\n",
       "      <td>0.044008</td>\n",
       "      <td>0.025139</td>\n",
       "      <td>https://www.victoriassecret.com/bras/shop-all-...</td>\n",
       "      <td>Victoria's Secret</td>\n",
       "      <td>Demi Bra</td>\n",
       "      <td>Victoriassecret US</td>\n",
       "      <td>This dreamy demi is even more heavenly, with s...</td>\n",
       "      <td>4.3</td>\n",
       "      <td>147.0</td>\n",
       "      <td>[\"32A\", \"32B\", \"32C\", \"32D\", \"32DD\", \"32DDD\", ...</td>\n",
       "      <td>36B</td>\n",
       "      <td>white</td>\n",
       "      <td>0.018869</td>\n",
       "      <td>75.0586</td>\n",
       "    </tr>\n",
       "    <tr>\n",
       "      <th>222647</th>\n",
       "      <td>Dream Angels Demi Bra</td>\n",
       "      <td>0.044008</td>\n",
       "      <td>0.025139</td>\n",
       "      <td>https://www.victoriassecret.com/bras/shop-all-...</td>\n",
       "      <td>Victoria's Secret</td>\n",
       "      <td>Demi Bra</td>\n",
       "      <td>Victoriassecret US</td>\n",
       "      <td>This dreamy demi is even more heavenly, with s...</td>\n",
       "      <td>4.3</td>\n",
       "      <td>147.0</td>\n",
       "      <td>[\"32A\", \"32B\", \"32C\", \"32D\", \"32DD\", \"32DDD\", ...</td>\n",
       "      <td>36B</td>\n",
       "      <td>nude</td>\n",
       "      <td>0.018869</td>\n",
       "      <td>75.0586</td>\n",
       "    </tr>\n",
       "  </tbody>\n",
       "</table>\n",
       "</div>"
      ],
      "text/plain": [
       "                 product_name       mrp     price  \\\n",
       "222646  Dream Angels Demi Bra  0.044008  0.025139   \n",
       "222647  Dream Angels Demi Bra  0.044008  0.025139   \n",
       "\n",
       "                                                  pdp_url         brand_name  \\\n",
       "222646  https://www.victoriassecret.com/bras/shop-all-...  Victoria's Secret   \n",
       "222647  https://www.victoriassecret.com/bras/shop-all-...  Victoria's Secret   \n",
       "\n",
       "       product_category            retailer  \\\n",
       "222646         Demi Bra  Victoriassecret US   \n",
       "222647         Demi Bra  Victoriassecret US   \n",
       "\n",
       "                                              description  rating  \\\n",
       "222646  This dreamy demi is even more heavenly, with s...     4.3   \n",
       "222647  This dreamy demi is even more heavenly, with s...     4.3   \n",
       "\n",
       "        review_count                                        total_sizes  \\\n",
       "222646         147.0  [\"32A\", \"32B\", \"32C\", \"32D\", \"32DD\", \"32DDD\", ...   \n",
       "222647         147.0  [\"32A\", \"32B\", \"32C\", \"32D\", \"32DD\", \"32DDD\", ...   \n",
       "\n",
       "       available_size  color  discount  discount_%_price  \n",
       "222646            36B  white  0.018869           75.0586  \n",
       "222647            36B   nude  0.018869           75.0586  "
      ]
     },
     "execution_count": 36,
     "metadata": {},
     "output_type": "execute_result"
    }
   ],
   "source": [
    "# solution2\n",
    "df_36b[['price', 'mrp']].apply(lambda row: (row['mrp'] - row['price']) / row['mrp'], axis=1)\n",
    "df_36b"
   ]
  },
  {
   "cell_type": "code",
   "execution_count": 34,
   "metadata": {},
   "outputs": [
    {
     "data": {
      "text/html": [
       "<div>\n",
       "<style scoped>\n",
       "    .dataframe tbody tr th:only-of-type {\n",
       "        vertical-align: middle;\n",
       "    }\n",
       "\n",
       "    .dataframe tbody tr th {\n",
       "        vertical-align: top;\n",
       "    }\n",
       "\n",
       "    .dataframe thead th {\n",
       "        text-align: right;\n",
       "    }\n",
       "</style>\n",
       "<table border=\"1\" class=\"dataframe\">\n",
       "  <thead>\n",
       "    <tr style=\"text-align: right;\">\n",
       "      <th></th>\n",
       "      <th>product_name</th>\n",
       "      <th>mrp</th>\n",
       "      <th>price</th>\n",
       "      <th>pdp_url</th>\n",
       "      <th>brand_name</th>\n",
       "      <th>product_category</th>\n",
       "      <th>retailer</th>\n",
       "      <th>description</th>\n",
       "      <th>rating</th>\n",
       "      <th>review_count</th>\n",
       "      <th>total_sizes</th>\n",
       "      <th>available_size</th>\n",
       "      <th>color</th>\n",
       "      <th>discount</th>\n",
       "      <th>discount_%_price</th>\n",
       "    </tr>\n",
       "  </thead>\n",
       "  <tbody>\n",
       "    <tr>\n",
       "      <th>222646</th>\n",
       "      <td>Dream Angels Demi Bra</td>\n",
       "      <td>0.044008</td>\n",
       "      <td>0.025139</td>\n",
       "      <td>https://www.victoriassecret.com/bras/shop-all-...</td>\n",
       "      <td>Victoria's Secret</td>\n",
       "      <td>Demi Bra</td>\n",
       "      <td>Victoriassecret US</td>\n",
       "      <td>This dreamy demi is even more heavenly, with s...</td>\n",
       "      <td>4.3</td>\n",
       "      <td>147.0</td>\n",
       "      <td>[\"32A\", \"32B\", \"32C\", \"32D\", \"32DD\", \"32DDD\", ...</td>\n",
       "      <td>36B</td>\n",
       "      <td>white</td>\n",
       "      <td>0.018869</td>\n",
       "      <td>75.0586</td>\n",
       "    </tr>\n",
       "    <tr>\n",
       "      <th>222647</th>\n",
       "      <td>Dream Angels Demi Bra</td>\n",
       "      <td>0.044008</td>\n",
       "      <td>0.025139</td>\n",
       "      <td>https://www.victoriassecret.com/bras/shop-all-...</td>\n",
       "      <td>Victoria's Secret</td>\n",
       "      <td>Demi Bra</td>\n",
       "      <td>Victoriassecret US</td>\n",
       "      <td>This dreamy demi is even more heavenly, with s...</td>\n",
       "      <td>4.3</td>\n",
       "      <td>147.0</td>\n",
       "      <td>[\"32A\", \"32B\", \"32C\", \"32D\", \"32DD\", \"32DDD\", ...</td>\n",
       "      <td>36B</td>\n",
       "      <td>nude</td>\n",
       "      <td>0.018869</td>\n",
       "      <td>75.0586</td>\n",
       "    </tr>\n",
       "  </tbody>\n",
       "</table>\n",
       "</div>"
      ],
      "text/plain": [
       "                 product_name       mrp     price  \\\n",
       "222646  Dream Angels Demi Bra  0.044008  0.025139   \n",
       "222647  Dream Angels Demi Bra  0.044008  0.025139   \n",
       "\n",
       "                                                  pdp_url         brand_name  \\\n",
       "222646  https://www.victoriassecret.com/bras/shop-all-...  Victoria's Secret   \n",
       "222647  https://www.victoriassecret.com/bras/shop-all-...  Victoria's Secret   \n",
       "\n",
       "       product_category            retailer  \\\n",
       "222646         Demi Bra  Victoriassecret US   \n",
       "222647         Demi Bra  Victoriassecret US   \n",
       "\n",
       "                                              description  rating  \\\n",
       "222646  This dreamy demi is even more heavenly, with s...     4.3   \n",
       "222647  This dreamy demi is even more heavenly, with s...     4.3   \n",
       "\n",
       "        review_count                                        total_sizes  \\\n",
       "222646         147.0  [\"32A\", \"32B\", \"32C\", \"32D\", \"32DD\", \"32DDD\", ...   \n",
       "222647         147.0  [\"32A\", \"32B\", \"32C\", \"32D\", \"32DD\", \"32DDD\", ...   \n",
       "\n",
       "       available_size  color  discount  discount_%_price  \n",
       "222646            36B  white  0.018869           75.0586  \n",
       "222647            36B   nude  0.018869           75.0586  "
      ]
     },
     "execution_count": 34,
     "metadata": {},
     "output_type": "execute_result"
    }
   ],
   "source": [
    "\n",
    "df_36b[['price','mrp']].apply(lambda row: (row[1] -row[0])/row[1], axis=1)\n",
    "df_36b"
   ]
  },
  {
   "cell_type": "markdown",
   "metadata": {
    "hidden": true
   },
   "source": [
    "We can do the same, but checking for products for which `total_sizes` contains '36B'"
   ]
  },
  {
   "cell_type": "code",
   "execution_count": null,
   "metadata": {
    "hidden": true
   },
   "outputs": [],
   "source": []
  },
  {
   "cell_type": "markdown",
   "metadata": {
    "heading_collapsed": true,
    "hidden": true
   },
   "source": [
    "#### question 3\n",
    "\n",
    "What are the most popular products? (those which have the best ratings)\n",
    "\n",
    "What are the least popular products?\n",
    "\n",
    "What are the products which have the highest number of reviews?\n",
    "\n",
    "Which black color product has the highest ratings? (or your favorite color)\n",
    "\n",
    "Which colors correspond to the highest rating?"
   ]
  },
  {
   "cell_type": "code",
   "execution_count": 53,
   "metadata": {
    "hidden": true
   },
   "outputs": [
    {
     "data": {
      "text/plain": [
       "product_name                                                         rating\n",
       "Victoria Sport NEW! Lightweight by Victoria Sport Strappy Sport Bra  5.0       437\n",
       "Dream Angels Demi Bra                                                5.0       433\n",
       "Body by Victoria Demi Bra                                            5.0       180\n",
       "Everyday Perfect NEW! Hipster Panty                                  5.0        99\n",
       "Everyday Perfect NEW! Textured Curved-hem Thong Panty                5.0        57\n",
       "Cotton Lingerie Mesh Thong Panty                                     5.0        39\n",
       "Dream Angels NEW! Lace & Mesh Cheekini Panty                         5.0        36\n",
       "Very Sexy Lace & Mesh Thong Panty                                    5.0        33\n",
       "Dream Angels NEW! Racerback Lace Bodysuit                            5.0        30\n",
       "Very Sexy NEW! Plunge Lace-up Teddy                                  5.0        30\n",
       "Very Sexy Chiffon Cami & Short Set                                   5.0        25\n",
       "Dream Angels Lace-Trim Thong Panty                                   5.0        24\n",
       "Very Sexy NEW! XO V-string Panty                                     5.0        21\n",
       "Very Sexy NEW! Lace-up High-neck Bra                                 5.0        20\n",
       "Very Sexy Satin Cami & Short Set                                     5.0        18\n",
       "PINK NEW! Cropped Raglan Full-Zip                                    5.0        16\n",
       "PINK Coconut Waters Travel Kit                                       5.0         1\n",
       "dtype: int64"
      ]
     },
     "execution_count": 53,
     "metadata": {},
     "output_type": "execute_result"
    }
   ],
   "source": [
    "# What are the most popular products? (those which have the best ratings)\n",
    "df_max_rat = df[\n",
    "                df['rating'] == df['rating']\n",
    "                .max()\n",
    "                ]\n",
    "df_max_rat[\n",
    "            ['product_name','rating']\n",
    "            ].value_counts()"
   ]
  },
  {
   "cell_type": "code",
   "execution_count": 52,
   "metadata": {},
   "outputs": [
    {
     "data": {
      "text/plain": [
       "product_name                             rating\n",
       "PINK NEW! Embroidered Triangle Bralette  0.0       40\n",
       "Dream Angels NEW! Lace Mini Slip         0.0       30\n",
       "Seamless Hiphugger Panty                 0.0       22\n",
       "Very Sexy Satin & Lace Cami              0.0       20\n",
       "dtype: int64"
      ]
     },
     "execution_count": 52,
     "metadata": {},
     "output_type": "execute_result"
    }
   ],
   "source": [
    "# What are the least popular products?\n",
    "df_min_rat = df[\n",
    "                df['rating'] == df['rating']\n",
    "                .min()\n",
    "                ]\n",
    "df_min_rat[['product_name','rating']].value_counts()"
   ]
  },
  {
   "cell_type": "code",
   "execution_count": 50,
   "metadata": {},
   "outputs": [
    {
     "data": {
      "text/plain": [
       "product_name                                                    review_count\n",
       "Very Sexy NEW! Lace Cheekster Panty                             1.560000e+38    69\n",
       "PINK NEW! Logo Lace Trim Thong                                  1.560000e+38    60\n",
       "Body by Victoria NEW! Lace-trim Hiphugger Panty                 1.560000e+38    50\n",
       "Allover Lace from Cotton Lingerie NEW! Dotted Mesh Thong Panty  1.560000e+38    40\n",
       "Seamless Pineapple Cheekini Panty                               1.560000e+38    37\n",
       "NEW! Ultimate T-Back Push-Up Sports Bra                         1.560000e+38    32\n",
       "Very Sexy NEW! Lace Thong Panty                                 1.560000e+38    30\n",
       "Very Sexy NEW! Lace Cutout Cheeky Panty                         1.560000e+38    29\n",
       "Body by Victoria NEW! Lace-trim Thong Panty                     1.560000e+38    22\n",
       "Body by Victoria NEW! Floral Lace Mix Cheeky Panty              1.560000e+38    21\n",
       "Dream Angels NEW! Satin & Lace Mini Slip                        1.560000e+38    18\n",
       "Cotton Lingerie Lace-waist Thong Panty                          1.560000e+38    14\n",
       "Dream Angels NEW! Lace Cutout Thong Panty                       1.560000e+38    12\n",
       "PINK Lace-Up Side One-Piece                                     1.560000e+38    10\n",
       "PINK NEW! Lace-Up Side One-Piece                                1.560000e+38     9\n",
       "Dream Angels NEW! Embroidered Mesh Bodysuit                     1.560000e+38     5\n",
       "Dream Angels NEW! Lace-trim Kimono                              1.560000e+38     2\n",
       "dtype: int64"
      ]
     },
     "execution_count": 50,
     "metadata": {},
     "output_type": "execute_result"
    }
   ],
   "source": [
    "# What are the products which have the highest number of reviews?\n",
    "df_max_rev = df[\n",
    "                df['review_count'] == df['review_count']\n",
    "                .max()\n",
    "                ]\n",
    "df_max_rev[['product_name','review_count']].value_counts()\n"
   ]
  },
  {
   "cell_type": "code",
   "execution_count": 99,
   "metadata": {},
   "outputs": [
    {
     "data": {
      "text/plain": [
       "product_name                                                         color                        rating\n",
       "Victoria Sport NEW! Lightweight by Victoria Sport Strappy Sport Bra  Black                        5.0       117\n",
       "Everyday Perfect NEW! Hipster Panty                                  black diamond squares print  5.0        15\n",
       "                                                                     black overt marl             5.0        15\n",
       "Dream Angels Lace-Trim Thong Panty                                   black                        5.0        14\n",
       "Dream Angels NEW! Racerback Lace Bodysuit                            black                        5.0        10\n",
       "Very Sexy NEW! Plunge Lace-up Teddy                                  black                        5.0        10\n",
       "Everyday Perfect NEW! Hipster Panty                                  black marl                   5.0         9\n",
       "Very Sexy Chiffon Cami & Short Set                                   black                        5.0         9\n",
       "Dream Angels NEW! Lace & Mesh Cheekini Panty                         black                        5.0         8\n",
       "Very Sexy Lace & Mesh Thong Panty                                    black                        5.0         8\n",
       "Very Sexy NEW! Lace-up High-neck Bra                                 Black                        5.0         5\n",
       "Very Sexy NEW! XO V-string Panty                                     black                        5.0         5\n",
       "Very Sexy Satin Cami & Short Set                                     black                        5.0         4\n",
       "PINK NEW! Cropped Raglan Full-Zip                                    pure black                   5.0         3\n",
       "dtype: int64"
      ]
     },
     "execution_count": 99,
     "metadata": {},
     "output_type": "execute_result"
    }
   ],
   "source": [
    "# Which black color product has the highest ratings? (or your favorite color)\n",
    "df_bk = df[df[\"color\"].str.contains(\"black\", regex=False, case=False)]\n",
    "max_rating = df_bk['rating'].max()\n",
    "df_max_rat_bk = df_bk[df_bk['rating'] == max_rating]\n",
    "df_max_rat_bk[['product_name', 'color','rating']].value_counts()"
   ]
  },
  {
   "cell_type": "code",
   "execution_count": 64,
   "metadata": {},
   "outputs": [
    {
     "data": {
      "text/plain": [
       "color                            rating\n",
       "Black                            5.0       122\n",
       "Grey Oasis                       5.0       116\n",
       "Radiating Aztec                  5.0       103\n",
       "Burnished Lilac                  5.0       101\n",
       "Sterling Pewter with Solid Lace  5.0        90\n",
       "Cadette Green with Solid Lace    5.0        88\n",
       "Rosy Mauve with Solid Lace       5.0        87\n",
       "Silver Sea with Solid Lace       5.0        84\n",
       "Lip Smacker with Solid Lace      5.0        84\n",
       "coconut white                    5.0        70\n",
       "black                            5.0        68\n",
       "cadette green                    5.0        40\n",
       "ensign blue                      5.0        40\n",
       "faded denim                      5.0        30\n",
       "ruby wine                        5.0        30\n",
       "champagne floral print           5.0        30\n",
       "silver sea floral print          5.0        30\n",
       "ensign                           5.0        16\n",
       "powder blush                     5.0        15\n",
       "champagne                        5.0        15\n",
       "black overt marl                 5.0        15\n",
       "starlet pink marl                5.0        15\n",
       "smokey pearl marl                5.0        15\n",
       "plum dust                        5.0        15\n",
       "coconut white geo squares print  5.0        15\n",
       "nude                             5.0        15\n",
       "black diamond squares print      5.0        15\n",
       "peach melba                      5.0        13\n",
       "chintz rose                      5.0        12\n",
       "evening blush                    5.0        10\n",
       "black marl                       5.0         9\n",
       "floral wave print                5.0         8\n",
       "ginger glaze                     5.0         8\n",
       "gold wave print                  5.0         8\n",
       "summer floral print              5.0         8\n",
       "blue wave print                  5.0         8\n",
       "indigo summer print              5.0         7\n",
       "rosy mauve                       5.0         7\n",
       "Fir                              5.0         5\n",
       "fair orchid                      5.0         5\n",
       "Teak                             5.0         5\n",
       "Coconut White                    5.0         5\n",
       "clay grey                        5.0         4\n",
       "light pink                       5.0         3\n",
       "pure black                       5.0         3\n",
       "blue                             5.0         3\n",
       "triumph white                    5.0         3\n",
       "coconut waters                   5.0         1\n",
       "dtype: int64"
      ]
     },
     "execution_count": 64,
     "metadata": {},
     "output_type": "execute_result"
    }
   ],
   "source": [
    "# Which colors correspond to the highest rating?\n",
    "max_rating = df['rating'].max()\n",
    "df_max_rat = df[df['rating'] == max_rating]\n",
    "df_max_rat[['color','rating']].value_counts()"
   ]
  },
  {
   "cell_type": "markdown",
   "metadata": {
    "heading_collapsed": true,
    "hidden": true
   },
   "source": [
    "#### Question 4\n",
    "\n",
    "What are the cheapest 'sport bras'?\n",
    "\n",
    "Which have the best ratings?"
   ]
  },
  {
   "cell_type": "code",
   "execution_count": 88,
   "metadata": {
    "hidden": true
   },
   "outputs": [
    {
     "data": {
      "text/plain": [
       "product_name                                      product_category                   price\n",
       "Victoria Sport Lightweight by Victoria Sport Bra  Lightweight by Victoria Sport Bra  5.0      320\n",
       "Victoria Sport Strappy Triangle Sport Bra         Strappy Triangle Sport Bra         5.0      277\n",
       "The Player Lace-Up Sport Bra                      The Player Lace-Up Sport Bra       5.0       61\n",
       "dtype: int64"
      ]
     },
     "execution_count": 88,
     "metadata": {},
     "output_type": "execute_result"
    }
   ],
   "source": [
    "# What are the cheapest 'sport bras'?\n",
    "df_sport_bras = df[df['product_category'].str.contains('Sport Bra',regex = False, case=False)]\n",
    "df_minp_sb = df_sport_bras[\n",
    "                            df_sport_bras['price'] == df_sport_bras['price']\n",
    "                            .min()\n",
    "                            ]\n",
    "df_minp_sb[['product_name','product_category','price']].value_counts()\n"
   ]
  },
  {
   "cell_type": "code",
   "execution_count": 87,
   "metadata": {},
   "outputs": [
    {
     "data": {
      "text/plain": [
       "product_name                                      product_category                   price\n",
       "Victoria Sport Lightweight by Victoria Sport Bra  Lightweight by Victoria Sport Bra  5.0      320\n",
       "Victoria Sport Strappy Triangle Sport Bra         Strappy Triangle Sport Bra         5.0      277\n",
       "The Player Lace-Up Sport Bra                      The Player Lace-Up Sport Bra       5.0       61\n",
       "dtype: int64"
      ]
     },
     "execution_count": 87,
     "metadata": {},
     "output_type": "execute_result"
    }
   ],
   "source": [
    "# I just want to check if the names exists in product names have different results. \n",
    "# It turns out to be same output\n",
    "df_sport_bras = df[df['product_name'].str.contains('Sport Bra',regex = False, case=False)]\n",
    "df_minp_sb = df_sport_bras[\n",
    "                            df_sport_bras['price'] == df_sport_bras['price']\n",
    "                            .min()\n",
    "                            ]\n",
    "df_minp_sb[['product_name','product_category','price']].value_counts()"
   ]
  },
  {
   "cell_type": "code",
   "execution_count": 89,
   "metadata": {},
   "outputs": [
    {
     "data": {
      "text/plain": [
       "product_name                                      rating\n",
       "Victoria Sport Lightweight by Victoria Sport Bra  4.3       320\n",
       "Victoria Sport Strappy Triangle Sport Bra         4.3       173\n",
       "The Player Lace-Up Sport Bra                      4.3        33\n",
       "dtype: int64"
      ]
     },
     "execution_count": 89,
     "metadata": {},
     "output_type": "execute_result"
    }
   ],
   "source": [
    "# Which have the best ratings?\n",
    "df_minp_sb_max_rat = df_minp_sb[\n",
    "                df_minp_sb['rating'] == df_minp_sb['rating']\n",
    "                .max()\n",
    "                ]\n",
    "df_minp_sb_max_rat[\n",
    "                ['product_name','rating']\n",
    "                ].value_counts()\n"
   ]
  },
  {
   "cell_type": "markdown",
   "metadata": {
    "heading_collapsed": true,
    "hidden": true
   },
   "source": [
    "#### Question 5\n",
    "What is the most expensive belt? in which color is it available?"
   ]
  },
  {
   "cell_type": "code",
   "execution_count": 101,
   "metadata": {
    "hidden": true
   },
   "outputs": [
    {
     "data": {
      "text/plain": [
       "product_name                      color               price\n",
       "Very Sexy Heart Lace Garter Belt  black hearts print  19.99    2\n",
       "dtype: int64"
      ]
     },
     "execution_count": 101,
     "metadata": {},
     "output_type": "execute_result"
    }
   ],
   "source": [
    "# What is the most expensive belt? \n",
    "df_bt = df[df['product_category'].str.contains('belt',regex = False, case=False)]\n",
    "df_max_bt = df_bt[\n",
    "                            df_bt['price'] == df_bt['price']\n",
    "                            .max()\n",
    "                            ]\n",
    "df_max_bt[['product_name','color','price']].value_counts()"
   ]
  },
  {
   "cell_type": "code",
   "execution_count": 102,
   "metadata": {},
   "outputs": [
    {
     "data": {
      "text/plain": [
       "array(['black hearts print'], dtype=object)"
      ]
     },
     "execution_count": 102,
     "metadata": {},
     "output_type": "execute_result"
    }
   ],
   "source": [
    "# in which color is it available?\n",
    "uniq_col = df_max_bt['color'].unique()\n",
    "uniq_col "
   ]
  },
  {
   "cell_type": "markdown",
   "metadata": {
    "heading_collapsed": true,
    "hidden": true
   },
   "source": [
    "#### Question 6\n",
    "\n",
    "What is the most common color of the best rated products?\n",
    "\n",
    "What is then the best rated product available in the most popular color?"
   ]
  },
  {
   "cell_type": "code",
   "execution_count": 97,
   "metadata": {
    "hidden": true
   },
   "outputs": [
    {
     "data": {
      "text/plain": [
       "'Black'"
      ]
     },
     "execution_count": 97,
     "metadata": {},
     "output_type": "execute_result"
    }
   ],
   "source": [
    "# What is the most common color of the best rated products?\n",
    "df_max_rat = df[df['rating'] == df['rating'].max()]\n",
    "color_counts = df_max_rat.groupby('color')['color'].count().sort_values(ascending=False)\n",
    "color_counts.index[0]\n"
   ]
  },
  {
   "cell_type": "code",
   "execution_count": 100,
   "metadata": {},
   "outputs": [
    {
     "data": {
      "text/plain": [
       "('Victoria Sport NEW! Lightweight by Victoria Sport Strappy Sport Bra',\n",
       " 'Black',\n",
       " 5.0)"
      ]
     },
     "execution_count": 100,
     "metadata": {},
     "output_type": "execute_result"
    }
   ],
   "source": [
    "# What is then the best rated product available in the most popular color?\n",
    "df_bk = df_max_rat[df_max_rat[\"color\"].str.contains(\"black\", regex=False, case=False)]\n",
    "max_rating = df_bk['rating'].max()\n",
    "df_max_rat_bk = df_bk[df_bk['rating'] == max_rating]\n",
    "df_max_rat_bk[['product_name', 'color','rating']].value_counts().index[0]"
   ]
  },
  {
   "attachments": {},
   "cell_type": "markdown",
   "metadata": {},
   "source": [
    "#### bonus question\n",
    "which products are the most discounted? consider the three cases of:</br>\n",
    "\n",
    "a) USD discount between price and mrp, </br>\n",
    "\n",
    "b) percentage of discount relative to price, </br>\n",
    "\n",
    "c) percentage of discount relative to mrp.</br>"
   ]
  },
  {
   "cell_type": "code",
   "execution_count": 106,
   "metadata": {},
   "outputs": [
    {
     "data": {
      "text/plain": [
       "product_name                       usd_disc\n",
       "Very Sexy Lace Plunge Garter Slip  53.01       54\n",
       "dtype: int64"
      ]
     },
     "execution_count": 106,
     "metadata": {},
     "output_type": "execute_result"
    }
   ],
   "source": [
    "# a) USD discount between price and mrp\n",
    "df['usd_disc'] = df['mrp'] - df['price'] \n",
    "df_max_dis = df[\n",
    "                df['usd_disc'] == df['usd_disc']\n",
    "                .max()\n",
    "                ]\n",
    "df_max_dis[\n",
    "            ['product_name','usd_disc']\n",
    "            ].value_counts()"
   ]
  },
  {
   "cell_type": "code",
   "execution_count": 107,
   "metadata": {},
   "outputs": [
    {
     "data": {
      "text/plain": [
       "product_name                                      usd_disc_%_price\n",
       "Victoria Sport Lightweight by Victoria Sport Bra  490.0               320\n",
       "dtype: int64"
      ]
     },
     "execution_count": 107,
     "metadata": {},
     "output_type": "execute_result"
    }
   ],
   "source": [
    "# b) percentage of discount relative to price\n",
    "df['usd_disc_%_price'] = ( df['usd_disc'] / df['price'] ) *100\n",
    "df_max_dp = df[\n",
    "                df['usd_disc_%_price'] == df['usd_disc_%_price']\n",
    "                .max()\n",
    "                ]\n",
    "df_max_dp[\n",
    "            ['product_name','usd_disc_%_price']\n",
    "            ].value_counts()\n"
   ]
  },
  {
   "cell_type": "code",
   "execution_count": 108,
   "metadata": {},
   "outputs": [
    {
     "data": {
      "text/plain": [
       "product_name                                      usd_disc_%_mrp\n",
       "Victoria Sport Lightweight by Victoria Sport Bra  83.050847         320\n",
       "dtype: int64"
      ]
     },
     "execution_count": 108,
     "metadata": {},
     "output_type": "execute_result"
    }
   ],
   "source": [
    "# c) percentage of discount relative to mrp\n",
    "df['usd_disc_%_mrp'] = ( df['usd_disc'] / df['mrp'] ) *100\n",
    "df_max_dm = df[\n",
    "                df['usd_disc_%_mrp'] == df['usd_disc_%_mrp']\n",
    "                .max()\n",
    "                ]\n",
    "df_max_dm[\n",
    "            ['product_name','usd_disc_%_mrp']\n",
    "            ].value_counts()"
   ]
  }
 ],
 "metadata": {
  "kernelspec": {
   "display_name": "base",
   "language": "python",
   "name": "python3"
  },
  "language_info": {
   "codemirror_mode": {
    "name": "ipython",
    "version": 3
   },
   "file_extension": ".py",
   "mimetype": "text/x-python",
   "name": "python",
   "nbconvert_exporter": "python",
   "pygments_lexer": "ipython3",
   "version": "3.9.12"
  },
  "vscode": {
   "interpreter": {
    "hash": "8d4e63f1bd948baef4bc278445c31d443b4c6d00105819e06ca43613e036dceb"
   }
  }
 },
 "nbformat": 4,
 "nbformat_minor": 2
}
